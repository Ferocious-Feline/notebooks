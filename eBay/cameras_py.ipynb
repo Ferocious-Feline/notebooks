{
 "cells": [
  {
   "cell_type": "code",
   "execution_count": 14,
   "id": "adf2dacf-aad2-4eea-aded-58e5880b6db8",
   "metadata": {},
   "outputs": [
    {
     "data": {
      "text/plain": [
       "bid_id                           int64\n",
       "item_id                          int64\n",
       "product                         object\n",
       "model                           object\n",
       "buy_it_now                     float64\n",
       "seller                          object\n",
       "reserve_price                  float64\n",
       "seller_feedback                  int64\n",
       "bidder                          object\n",
       "bid_price                      float64\n",
       "buyer_feedback                   int64\n",
       "X12                               bool\n",
       "X13                               bool\n",
       "X14                               bool\n",
       "bid_time           datetime64[ns, UTC]\n",
       "start_time         datetime64[ns, UTC]\n",
       "end_time           datetime64[ns, UTC]\n",
       "dtype: object"
      ]
     },
     "execution_count": 14,
     "metadata": {},
     "output_type": "execute_result"
    }
   ],
   "source": [
    "#Summarise camera data\n",
    "import pandas as pd\n",
    "import numpy as np\n",
    "import matplotlib.pyplot as plt\n",
    "df=pd.read_csv(r'camera_named.csv', parse_dates=['bid_time','start_time','end_time'])\n",
    "df.dtypes"
   ]
  },
  {
   "cell_type": "code",
   "execution_count": 11,
   "id": "4f0133d8-d08c-490d-9d80-29fc367d2479",
   "metadata": {},
   "outputs": [],
   "source": [
    "one_item = df.loc[df['item_id']==346035866]"
   ]
  },
  {
   "cell_type": "code",
   "execution_count": 13,
   "id": "94287d18-a24e-4966-96a8-8319b760b97d",
   "metadata": {},
   "outputs": [
    {
     "data": {
      "text/plain": [
       "<AxesSubplot:xlabel='bid_time'>"
      ]
     },
     "execution_count": 13,
     "metadata": {},
     "output_type": "execute_result"
    },
    {
     "data": {
      "image/png": "[encoded data removed]",
      "text/plain": [
       "<Figure size 432x288 with 1 Axes>"
      ]
     },
     "metadata": {
      "needs_background": "light"
     },
     "output_type": "display_data"
    }
   ],
   "source": [
    "one_item.plot(x='bid_time', y='bid_price')"
   ]
  },
  {
   "cell_type": "code",
   "execution_count": 22,
   "id": "e19cf282-896f-4f69-8f6e-f2b3d75d8789",
   "metadata": {},
   "outputs": [
    {
     "name": "stdout",
     "output_type": "stream",
     "text": [
      "        item_id  Count\n",
      "4067  346035866     68\n",
      "1554  316509884     60\n",
      "908   310799207     54\n",
      "4119  346991188     48\n",
      "1966  319756646     46\n",
      "...         ...    ...\n",
      "1371  314711789      1\n",
      "3846  342544657      1\n",
      "552   306147586      1\n",
      "553   306152307      1\n",
      "479   304886627      1\n",
      "\n",
      "[4388 rows x 2 columns]\n"
     ]
    }
   ],
   "source": [
    "items = df.groupby(['item_id'])['bid_price'].count().reset_index(name='Count').sort_values(['Count'], ascending=False)\n",
    "#items.sort_values('item_id', ascending=False)\n",
    "print(items)"
   ]
  },
  {
   "cell_type": "code",
   "execution_count": 23,
   "id": "6c813340-9224-4c8b-aff6-b16e579133a8",
   "metadata": {},
   "outputs": [
    {
     "data": {
      "text/plain": [
       "4388"
      ]
     },
     "execution_count": 23,
     "metadata": {},
     "output_type": "execute_result"
    }
   ],
   "source": [
    "len(items)"
   ]
  },
  {
   "cell_type": "code",
   "execution_count": 18,
   "id": "be8c5fb1-8b81-43dc-9d77-205de2c132db",
   "metadata": {},
   "outputs": [
    {
     "name": "stdout",
     "output_type": "stream",
     "text": [
      "       bid_id    item_id                                            product  \\\n",
      "151    151642  297531605          - Nikon Coolpix 800 N/R (item #297531605)   \n",
      "221    149705  297800561  NEW AGFA ePhoto 1680 LE DIGITAL CAMERA,V/M,@1 ...   \n",
      "255    151663  297877893  NIKON Coolpix 800 DIGITAL CAMERA (Brand New) (...   \n",
      "268    149717  297899435  AGFA ePHOTO 1680 LE DIGITAL CAMERA @$1 *NEW* (...   \n",
      "280    153925  297929566  NEW Olympus C-2020 C2020 Digital Camera NR (it...   \n",
      "...       ...        ...                                                ...   \n",
      "37959  210704  342072922  NEW IN BOX - KODAK DC215 DIGITAL CAMERA (item ...   \n",
      "38068  211149  342094784  kodak dc240 digital camera(brand new. sealed) ...   \n",
      "38160  213490  342147579  Brand New Nikon CoolPix 800 Digital Camera (it...   \n",
      "38730  210724  342866676  NEW IN BOX - KODAK DC215 DIGITAL CAMERA (item ...   \n",
      "38942  219790  343361811  Sony Mavica FD-91 (FD91) Digital Camera NEW (i...   \n",
      "\n",
      "                model  buy_it_now                   seller  reserve_price  \\\n",
      "151       Coolpix 800      406.01  hotbuyer2000@excite.com           1.00   \n",
      "221         Agfa 1680      401.99                 ahmet361           1.00   \n",
      "255       Coolpix 800      430.00             redrockvegas           1.00   \n",
      "268         Agfa 1680      370.00                  tmihyaz           1.00   \n",
      "280    Olympus C 2020      630.00    elizabeth@aluluei.com           9.99   \n",
      "...               ...         ...                      ...            ...   \n",
      "37959     Kodak DC215      231.00             redrockvegas           1.00   \n",
      "38068     Kodak DC240      360.00      liaudio1123@aol.com           1.00   \n",
      "38160     Coolpix 800      480.00              greatwalker           0.01   \n",
      "38730     Kodak DC215      255.00             redrockvegas           1.00   \n",
      "38942       Sony FD91      730.00         mydaddaa@aol.com           0.01   \n",
      "\n",
      "       seller_feedback             bidder  bid_price  buyer_feedback   X12  \\\n",
      "151                 19  nosurprisesplease       33.0               1  True   \n",
      "221                 22  nosurprisesplease       61.0               1  True   \n",
      "255                 22  nosurprisesplease       66.0               1  True   \n",
      "268                 23  nosurprisesplease       52.0               1  True   \n",
      "280                 13  nosurprisesplease       51.0               1  True   \n",
      "...                ...                ...        ...             ...   ...   \n",
      "37959               17  nosurprisesplease       31.0               1  True   \n",
      "38068               25  nosurprisesplease       51.0               1  True   \n",
      "38160               24  nosurprisesplease       51.0               1  True   \n",
      "38730               22  nosurprisesplease       33.0               1  True   \n",
      "38942               24  nosurprisesplease       33.0               1  True   \n",
      "\n",
      "         X13    X14                  bid_time                start_time  \\\n",
      "151    False  False 2005-03-31 21:35:46+00:00 2005-03-31 10:52:23+00:00   \n",
      "221    False  False 2005-03-31 18:52:10+00:00 2005-03-31 18:02:08+00:00   \n",
      "255    False  False 2005-03-31 21:22:53+00:00 2005-03-31 19:18:50+00:00   \n",
      "268    False  False 2005-03-31 22:14:25+00:00 2005-03-31 19:40:30+00:00   \n",
      "280    False  False 2005-03-31 22:23:10+00:00 2005-03-31 20:15:13+00:00   \n",
      "...      ...    ...                       ...                       ...   \n",
      "37959  False  False 2005-05-26 08:39:18+00:00 2005-05-25 19:25:13+00:00   \n",
      "38068  False  False 2005-05-26 09:33:12+00:00 2005-05-25 19:40:58+00:00   \n",
      "38160  False  False 2005-05-26 08:28:52+00:00 2005-05-25 20:20:11+00:00   \n",
      "38730  False  False 2005-05-27 08:37:10+00:00 2005-05-26 20:55:00+00:00   \n",
      "38942  False  False 2005-05-27 20:48:50+00:00 2005-05-27 17:25:40+00:00   \n",
      "\n",
      "                       end_time  \n",
      "151   2005-04-07 11:52:23+00:00  \n",
      "221   2005-04-07 19:02:08+00:00  \n",
      "255   2005-04-07 20:18:50+00:00  \n",
      "268   2005-04-07 20:40:30+00:00  \n",
      "280   2005-04-07 21:15:13+00:00  \n",
      "...                         ...  \n",
      "37959 2005-05-28 19:25:13+00:00  \n",
      "38068 2005-06-01 19:40:58+00:00  \n",
      "38160 2005-05-30 20:20:11+00:00  \n",
      "38730 2005-05-29 20:55:00+00:00  \n",
      "38942 2005-06-03 17:25:40+00:00  \n",
      "\n",
      "[154 rows x 17 columns]\n"
     ]
    }
   ],
   "source": [
    "one_bidder = df.loc[df['bidder']=='nosurprisesplease']\n",
    "print(one_bidder)"
   ]
  },
  {
   "cell_type": "code",
   "execution_count": 25,
   "id": "42b19253-c04f-4a91-b5bc-3eb95ed66b01",
   "metadata": {},
   "outputs": [],
   "source": [
    "winners =df.loc[df['bid_price']==df['buy_it_now']]"
   ]
  },
  {
   "cell_type": "code",
   "execution_count": 27,
   "id": "a7c048a0-b6e7-46fd-9159-62c374dc8d2f",
   "metadata": {},
   "outputs": [],
   "source": [
    "sub_winners = winners.groupby(['item_id'])['bid_price'].count().reset_index(name='Count').sort_values(['Count'], ascending=False)"
   ]
  },
  {
   "cell_type": "code",
   "execution_count": 29,
   "id": "ee8ae8e7-7cf8-41a3-b791-811c1400215c",
   "metadata": {},
   "outputs": [
    {
     "data": {
      "text/html": [
       "<div>\n",
       "<style scoped>\n",
       "    .dataframe tbody tr th:only-of-type {\n",
       "        vertical-align: middle;\n",
       "    }\n",
       "\n",
       "    .dataframe tbody tr th {\n",
       "        vertical-align: top;\n",
       "    }\n",
       "\n",
       "    .dataframe thead th {\n",
       "        text-align: right;\n",
       "    }\n",
       "</style>\n",
       "<table border=\"1\" class=\"dataframe\">\n",
       "  <thead>\n",
       "    <tr style=\"text-align: right;\">\n",
       "      <th></th>\n",
       "      <th>item_id</th>\n",
       "      <th>Count</th>\n",
       "    </tr>\n",
       "  </thead>\n",
       "  <tbody>\n",
       "    <tr>\n",
       "      <th>3112</th>\n",
       "      <td>333510647</td>\n",
       "      <td>1</td>\n",
       "    </tr>\n",
       "    <tr>\n",
       "      <th>3073</th>\n",
       "      <td>333142205</td>\n",
       "      <td>1</td>\n",
       "    </tr>\n",
       "    <tr>\n",
       "      <th>3072</th>\n",
       "      <td>333097159</td>\n",
       "      <td>1</td>\n",
       "    </tr>\n",
       "    <tr>\n",
       "      <th>3106</th>\n",
       "      <td>333496247</td>\n",
       "      <td>1</td>\n",
       "    </tr>\n",
       "    <tr>\n",
       "      <th>2800</th>\n",
       "      <td>329359448</td>\n",
       "      <td>1</td>\n",
       "    </tr>\n",
       "    <tr>\n",
       "      <th>...</th>\n",
       "      <td>...</td>\n",
       "      <td>...</td>\n",
       "    </tr>\n",
       "    <tr>\n",
       "      <th>1493</th>\n",
       "      <td>315794752</td>\n",
       "      <td>1</td>\n",
       "    </tr>\n",
       "    <tr>\n",
       "      <th>1494</th>\n",
       "      <td>315804999</td>\n",
       "      <td>1</td>\n",
       "    </tr>\n",
       "    <tr>\n",
       "      <th>1495</th>\n",
       "      <td>315826052</td>\n",
       "      <td>1</td>\n",
       "    </tr>\n",
       "    <tr>\n",
       "      <th>1496</th>\n",
       "      <td>315829875</td>\n",
       "      <td>1</td>\n",
       "    </tr>\n",
       "    <tr>\n",
       "      <th>4286</th>\n",
       "      <td>351919953</td>\n",
       "      <td>1</td>\n",
       "    </tr>\n",
       "  </tbody>\n",
       "</table>\n",
       "<p>3786 rows × 2 columns</p>\n",
       "</div>"
      ],
      "text/plain": [
       "        item_id  Count\n",
       "3112  333510647      1\n",
       "3073  333142205      1\n",
       "3072  333097159      1\n",
       "3106  333496247      1\n",
       "2800  329359448      1\n",
       "...         ...    ...\n",
       "1493  315794752      1\n",
       "1494  315804999      1\n",
       "1495  315826052      1\n",
       "1496  315829875      1\n",
       "4286  351919953      1\n",
       "\n",
       "[3786 rows x 2 columns]"
      ]
     },
     "execution_count": 29,
     "metadata": {},
     "output_type": "execute_result"
    }
   ],
   "source": [
    "sub_winners.loc[sub_winners['Count']==1]"
   ]
  }
 ],
 "metadata": {
  "kernelspec": {
   "display_name": "Python 3 (ipykernel)",
   "language": "python",
   "name": "python3"
  },
  "language_info": {
   "codemirror_mode": {
    "name": "ipython",
    "version": 3
   },
   "file_extension": ".py",
   "mimetype": "text/x-python",
   "name": "python",
   "nbconvert_exporter": "python",
   "pygments_lexer": "ipython3",
   "version": "3.9.7"
  }
 },
 "nbformat": 4,
 "nbformat_minor": 5
}
