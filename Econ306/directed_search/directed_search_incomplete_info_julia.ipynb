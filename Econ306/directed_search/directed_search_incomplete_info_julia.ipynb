{
 "cells": [
  {
   "cell_type": "markdown",
   "id": "d75b2bac-a471-4640-a372-651fb18460d4",
   "metadata": {},
   "source": [
    "# Introduction\n",
    "\n",
    "This is the julia version of the directed search problem with incomplete information. Whether you use julia or sagemath or some commercially produced computer algebra system, symbolic computations are probably the only way to properly understand the subgame perfect equilibrium for this problem.\n",
    "\n",
    "We'll show below that when workers are equally productive in the two worker two firm version of the problem, then there won't be a pure strategy equilibrium in firms' wages.  It seems hard to imagine that this problem could be solved by hand, but maybe it is just my limited imagination and patience telling me this.\n",
    "\n",
    "There are two firms, 1 and 2 and two workers, each of whom applies to one and only one of the firms.  The firms earn revenues of $y_1$ and $y_2$ respectively if they are able to hire a worker. They offer wages $w_1$ and $w_2$. If only a single worker applies to a firm, the firm hires that worker.  In that case, the firm gets its revenue less the wage that it pays, the worker gets the wage.\n",
    "\n",
    "If two workers apply to the same firm, the firm will select the worker with the most desirable type.  Workers types are given by $h$ or $l$. Each firm will hire a type $h$ if one applies.  Otherwise they are happy to hire a type $l$.  In cases where two workers are considered equally good, the firm will hire each of them with probability $\\frac{1}{2}$.\n",
    "\n",
    "Firms with no applicants and workers who are not offered a job get nothing.\n",
    "\n",
    "We'll look for a symmetric subgame perect equilibrium of the directed search game in which workers of the same type use the same application strategy. Recall the basic assumption of directed search - both workers see the wage offers made by the firms and use an application strategy that depends on those wages.\n",
    "\n",
    "To make this a model of incomplete information, we'll assume that workers know their own types, but not the other worker's type.  Firms don't know the workers' types but can observe these types when the worker apply.  It is common belief that each worker is type $h$ with probability $\\lambda$.\n",
    "\n",
    "# Workers\n",
    "\n",
    "As always, to find a subgame perfect equilibrium you need to start with the last sub-game.  This is the one where workers apply.  There are two types of workers, so we want to find two mixed strategies, represented by $\\pi_h$ and $\\pi_l$, where $\\pi_j$ is the probability that a worker of type $j$ applies to firm 1 (the one offering wage $w_1$\n",
    "\n",
    "As you now know, the best way to find a mixed strategy is to write down an indifference condition.  For example, if you are a worker of type $H$, then you should expect your opponent to play in a way that makes you indifferent between your options. \n",
    "\n",
    "For a type $H$ worker, this is straightforward because the type $H$ workers don't care what type $L$ workers do.  So we can write the indifference condition as\n",
    "$$\n",
    "\\lambda \\{\\pi_h \\frac{w_1}{2} +(1-\\pi_h)w_1\\}+(1-\\lambda)w_1 =\n",
    "\\lambda \\{\\pi_h w_2 +(1-\\pi_h)\\frac{w_2}{2}\\}+(1-\\lambda)w_2\n",
    "$$\n",
    "\n",
    "We are ready to start to figure this game out using symbolics."
   ]
  },
  {
   "cell_type": "code",
   "execution_count": 1,
   "id": "090936fe-ca0a-4d3f-9dd7-8353bac29cb1",
   "metadata": {},
   "outputs": [
    {
     "data": {
      "text/plain": [
       "(pi_h, pi_l, y_1, y_2, lambda)"
      ]
     },
     "execution_count": 1,
     "metadata": {},
     "output_type": "execute_result"
    }
   ],
   "source": [
    "using SymPy\n",
    "w_1, w_2 = symbols(\"w_1, w_2\",real=true,positive=true)\n",
    "pi_h, pi_l, y_1, y_2, lambda = symbols(\"pi_h, pi_l, y_1, y_2, lambda\")"
   ]
  },
  {
   "cell_type": "markdown",
   "id": "53b52a9e-27ca-48c8-aa0b-193b81e127a3",
   "metadata": {},
   "source": [
    "## Type H\n",
    "\n",
    "Since type $h$ workers are always hired ahead of typ $l$ workers, type $h$ workers don't care what type $l$ workers do.  So finding the continuation strategy involves just a trivial modification of what you would do with complete information."
   ]
  },
  {
   "cell_type": "code",
   "execution_count": 2,
   "id": "24f853ea-8b89-4fa0-84d0-9b38f77c7cc4",
   "metadata": {},
   "outputs": [
    {
     "data": {
      "text/latex": [
       "$\\begin{equation*}\\lambda \\left(\\frac{\\pi_{h} w_{1}}{2} + w_{1} \\left(1 - \\pi_{h}\\right)\\right) + w_{1} \\left(1 - \\lambda\\right)\\end{equation*}$\n"
      ],
      "text/plain": [
       "  ⎛πₕ⋅w₁              ⎞             \n",
       "λ⋅⎜───── + w₁⋅(1 - πₕ)⎟ + w₁⋅(1 - λ)\n",
       "  ⎝  2                ⎠             "
      ]
     },
     "execution_count": 2,
     "metadata": {},
     "output_type": "execute_result"
    }
   ],
   "source": [
    "lefth = lambda*(pi_h*(w_1/2)+(1-pi_h)w_1)+(1-lambda)w_1"
   ]
  },
  {
   "cell_type": "code",
   "execution_count": 3,
   "id": "e91dc950-b62e-4024-8d2b-ecc23b31d2b4",
   "metadata": {},
   "outputs": [
    {
     "data": {
      "text/latex": [
       "$\\begin{equation*}\\lambda \\left(\\pi_{h} w_{2} + \\frac{w_{2} \\left(1 - \\pi_{h}\\right)}{2}\\right) + w_{2} \\left(1 - \\lambda\\right)\\end{equation*}$\n"
      ],
      "text/plain": [
       "  ⎛        w₂⋅(1 - πₕ)⎞             \n",
       "λ⋅⎜πₕ⋅w₂ + ───────────⎟ + w₂⋅(1 - λ)\n",
       "  ⎝             2     ⎠             "
      ]
     },
     "execution_count": 3,
     "metadata": {},
     "output_type": "execute_result"
    }
   ],
   "source": [
    "righth =lambda*(pi_h*w_2+(1-pi_h)w_2/2)+(1-lambda)w_2"
   ]
  },
  {
   "cell_type": "code",
   "execution_count": 4,
   "id": "c1fa274a-8960-441a-8646-3e7313eea7c6",
   "metadata": {},
   "outputs": [
    {
     "data": {
      "text/latex": [
       "$\\begin{equation*}\\frac{\\lambda w_{2} + 2 w_{1} - 2 w_{2}}{\\lambda \\left(w_{1} + w_{2}\\right)}\\end{equation*}$\n"
      ],
      "text/plain": [
       "λ⋅w₂ + 2⋅w₁ - 2⋅w₂\n",
       "──────────────────\n",
       "   λ⋅(w₁ + w₂)    "
      ]
     },
     "execution_count": 4,
     "metadata": {},
     "output_type": "execute_result"
    }
   ],
   "source": [
    "probh_simp = solve(lefth-righth,pi_h)[1]"
   ]
  },
  {
   "cell_type": "markdown",
   "id": "e42b12c6-471d-42c4-8e28-fc9784a67714",
   "metadata": {},
   "source": [
    "The complication with this formula is that, because we want a subgame perfect equilibrium, we aren't yet sure what firms' wages will be.  The formula above could give a solution larger than 1 or less that 0, neither of which make sense here.  This is really what makes this problem so complicated to solve on paper.  In any case we can use the following trick - when a strategy is dominant, the solution for `probh_simp` will be larger than 1, similarly for a dominated strategy.  Symbolics lets us use the following trick."
   ]
  },
  {
   "cell_type": "code",
   "execution_count": 5,
   "id": "13a480d2-bc8a-4b8a-9ea7-7bd899fff846",
   "metadata": {},
   "outputs": [
    {
     "data": {
      "text/latex": [
       "$\\begin{equation*}\\max\\left(0, \\min\\left(1, \\frac{\\lambda w_{2} + 2 w_{1} - 2 w_{2}}{\\lambda \\left(w_{1} + w_{2}\\right)}\\right)\\right)\\end{equation*}$\n"
      ],
      "text/plain": [
       "Max(0, Min(1, (lambda*w_2 + 2*w_1 - 2*w_2)/(lambda*(w_1 + w_2))))"
      ]
     },
     "execution_count": 5,
     "metadata": {},
     "output_type": "execute_result"
    }
   ],
   "source": [
    "probh = max(min(probh_simp,1),0)"
   ]
  },
  {
   "cell_type": "code",
   "execution_count": 6,
   "id": "974964b0-c43b-401a-990a-2e6cb55b1cbf",
   "metadata": {},
   "outputs": [
    {
     "ename": "LoadError",
     "evalue": "UndefVarError: plot not defined",
     "output_type": "error",
     "traceback": [
      "UndefVarError: plot not defined",
      "",
      "Stacktrace:",
      " [1] top-level scope",
      "   @ In[6]:1",
      " [2] eval",
      "   @ ./boot.jl:360 [inlined]",
      " [3] include_string(mapexpr::typeof(REPL.softscope), mod::Module, code::String, filename::String)",
      "   @ Base ./loading.jl:1094"
     ]
    }
   ],
   "source": [
    "plot(probh(w_2=>1/2,lambda=>.2),.01,.99)"
   ]
  },
  {
   "cell_type": "markdown",
   "id": "772582a5-c2af-442c-a0b4-6d732c495fc9",
   "metadata": {},
   "source": [
    "1\n",
    "\n",
    ", which is just the compete information case\n",
    "As always, it is good to check that your computations are working by looking at special cases where you already know the solution.  If you have looked at the notebook that describes the directed search game with complete information, then one thing you can do is to check what happens when $\\lambda=1$, which is just the compete information case"
   ]
  },
  {
   "cell_type": "code",
   "execution_count": 7,
   "id": "f47bcb70-d1a2-488e-abd9-3cf9ced5ccff",
   "metadata": {},
   "outputs": [
    {
     "data": {
      "text/latex": [
       "$\\begin{equation*}\\max\\left(0, \\min\\left(1, \\frac{2 w_{1} - w_{2}}{w_{1} + w_{2}}\\right)\\right)\\end{equation*}$\n"
      ],
      "text/plain": [
       "Max(0, Min(1, (2*w_1 - w_2)/(w_1 + w_2)))"
      ]
     },
     "execution_count": 7,
     "metadata": {},
     "output_type": "execute_result"
    }
   ],
   "source": [
    "probh(lambda => 1)"
   ]
  },
  {
   "cell_type": "markdown",
   "id": "6c793d8d-a2d0-4490-aa08-416c9ddc18b0",
   "metadata": {},
   "source": [
    "That check passes, a second special case is when $w_1=w_2$:"
   ]
  },
  {
   "cell_type": "code",
   "execution_count": 8,
   "id": "b818a225-392d-457c-9f8d-73682e90d34b",
   "metadata": {},
   "outputs": [
    {
     "data": {
      "text/latex": [
       "$\\begin{equation*}\\frac{1}{2}\\end{equation*}$\n"
      ],
      "text/plain": [
       "1/2"
      ]
     },
     "execution_count": 8,
     "metadata": {},
     "output_type": "execute_result"
    }
   ],
   "source": [
    "probh(w_1 => w_2)"
   ]
  },
  {
   "cell_type": "markdown",
   "id": "8d7773b6-9c00-4001-9f1b-15f18861272b",
   "metadata": {},
   "source": [
    "## Type L\n",
    "\n",
    "For type $l$ workers the problem is more complicated because they do care what the type $h$ worker does.  If they apply to firm 1, their expected payoff is\n",
    "$$\n",
    "\\lambda(1-\\pi_h)w_1+(1-\\lambda)\\{(\\pi_l \\frac{w_1}{2})+(1-\\pi_l)w_2\\}\n",
    "$$\n",
    "while if they apply to firm 2 it is\n",
    "$$\n",
    "\\lambda\\pi_h w_2 +(1-\\lambda)\\{\\pi_l w_2 +(1-\\pi_l)\\frac{w_2}{2}\\}\n",
    "$$"
   ]
  },
  {
   "cell_type": "code",
   "execution_count": 9,
   "id": "35140dea-719a-4d3e-9c98-8633a0717437",
   "metadata": {},
   "outputs": [
    {
     "data": {
      "text/latex": [
       "$\\begin{equation*}\\lambda w_{1} \\left(1 - \\max\\left(0, \\min\\left(1, \\frac{\\lambda w_{2} + 2 w_{1} - 2 w_{2}}{\\lambda \\left(w_{1} + w_{2}\\right)}\\right)\\right)\\right) + \\left(1 - \\lambda\\right) \\left(\\frac{\\pi_{l} w_{1}}{2} + w_{2} \\left(1 - \\pi_{l}\\right)\\right)\\end{equation*}$\n"
      ],
      "text/plain": [
       "                                                                              \n",
       "λ⋅w₁⋅(1 - Max(0, Min(1, (lambda*w_2 + 2*w_1 - 2*w_2)/(lambda*(w_1 + w_2))))) +\n",
       "                                                                              \n",
       "\n",
       "         ⎛πₗ⋅w₁              ⎞\n",
       " (1 - λ)⋅⎜───── + w₂⋅(1 - πₗ)⎟\n",
       "         ⎝  2                ⎠"
      ]
     },
     "execution_count": 9,
     "metadata": {},
     "output_type": "execute_result"
    }
   ],
   "source": [
    "leftl = lambda*(1-probh)*w_1 + (1-lambda)*(pi_l*w_1/2 +(1-pi_l)*w_2)"
   ]
  },
  {
   "cell_type": "code",
   "execution_count": 10,
   "id": "7f435ab9-d253-4fd1-9282-f082e7e33241",
   "metadata": {},
   "outputs": [
    {
     "data": {
      "text/latex": [
       "$\\begin{equation*}\\lambda w_{2} \\max\\left(0, \\min\\left(1, \\frac{\\lambda w_{2} + 2 w_{1} - 2 w_{2}}{\\lambda \\left(w_{1} + w_{2}\\right)}\\right)\\right) + \\left(1 - \\lambda\\right) \\left(\\pi_{l} w_{2} + \\frac{w_{2} \\left(1 - \\pi_{l}\\right)}{2}\\right)\\end{equation*}$\n"
      ],
      "text/plain": [
       "                                                                              \n",
       "λ⋅w₂⋅Max(0, Min(1, (lambda*w_2 + 2*w_1 - 2*w_2)/(lambda*(w_1 + w_2)))) + (1 - \n",
       "                                                                              \n",
       "\n",
       "   ⎛        w₂⋅(1 - πₗ)⎞\n",
       "λ)⋅⎜πₗ⋅w₂ + ───────────⎟\n",
       "   ⎝             2     ⎠"
      ]
     },
     "execution_count": 10,
     "metadata": {},
     "output_type": "execute_result"
    }
   ],
   "source": [
    "rightl = lambda*probh*w_2 +(1-lambda)*(pi_l*w_2+(1-pi_l)*w_2/2)"
   ]
  },
  {
   "cell_type": "code",
   "execution_count": 11,
   "id": "13656f9e-4d44-4e1b-a2d4-4218e1e5a2b0",
   "metadata": {},
   "outputs": [
    {
     "data": {
      "text/latex": [
       "$\\begin{equation*}\\frac{- 2 \\lambda w_{1} \\max\\left(0, \\min\\left(1, \\frac{\\lambda w_{2} + 2 w_{1} - 2 w_{2}}{\\lambda \\left(w_{1} + w_{2}\\right)}\\right)\\right) + 2 \\lambda w_{1} - 2 \\lambda w_{2} \\max\\left(0, \\min\\left(1, \\frac{\\lambda w_{2} + 2 w_{1} - 2 w_{2}}{\\lambda \\left(w_{1} + w_{2}\\right)}\\right)\\right) - \\lambda w_{2} + w_{2}}{\\lambda w_{1} - 3 \\lambda w_{2} - w_{1} + 3 w_{2}}\\end{equation*}$\n"
      ],
      "text/plain": [
       "-2⋅λ⋅w₁⋅Max(0, Min(1, (lambda*w_2 + 2*w_1 - 2*w_2)/(lambda*(w_1 + w_2)))) + 2⋅\n",
       "──────────────────────────────────────────────────────────────────────────────\n",
       "                                                                        λ⋅w₁ -\n",
       "\n",
       "λ⋅w₁ - 2⋅λ⋅w₂⋅Max(0, Min(1, (lambda*w_2 + 2*w_1 - 2*w_2)/(lambda*(w_1 + w_2)))\n",
       "──────────────────────────────────────────────────────────────────────────────\n",
       " 3⋅λ⋅w₂ - w₁ + 3⋅w₂                                                           \n",
       "\n",
       ") - λ⋅w₂ + w₂\n",
       "─────────────\n",
       "             "
      ]
     },
     "execution_count": 11,
     "metadata": {},
     "output_type": "execute_result"
    }
   ],
   "source": [
    "sol = solve(leftl-rightl,pi_l)[1]"
   ]
  },
  {
   "cell_type": "code",
   "execution_count": 12,
   "id": "41d35f2b-4445-4f74-a5aa-17b3bcb41da5",
   "metadata": {},
   "outputs": [
    {
     "data": {
      "text/latex": [
       "$\\begin{equation*}\\max\\left(0, \\min\\left(1, \\frac{- 2 \\lambda w_{1} \\max\\left(0, \\min\\left(1, \\frac{\\lambda w_{2} + 2 w_{1} - 2 w_{2}}{\\lambda \\left(w_{1} + w_{2}\\right)}\\right)\\right) + 2 \\lambda w_{1} - 2 \\lambda w_{2} \\max\\left(0, \\min\\left(1, \\frac{\\lambda w_{2} + 2 w_{1} - 2 w_{2}}{\\lambda \\left(w_{1} + w_{2}\\right)}\\right)\\right) - \\lambda w_{2} + w_{2}}{\\lambda w_{1} - 3 \\lambda w_{2} - w_{1} + 3 w_{2}}\\right)\\right)\\end{equation*}$\n"
      ],
      "text/plain": [
       "Max(0, Min(1, (-2*lambda*w_1*Max(0, Min(1, (lambda*w_2 + 2*w_1 - 2*w_2)/(lambd\n",
       "a*(w_1 + w_2)))) + 2*lambda*w_1 - 2*lambda*w_2*Max(0, Min(1, (lambda*w_2 + 2*w\n",
       "_1 - 2*w_2)/(lambda*(w_1 + w_2)))) - lambda*w_2 + w_2)/(lambda*w_1 - 3*lambda*\n",
       "w_2 - w_1 + 3*w_2)))"
      ]
     },
     "execution_count": 12,
     "metadata": {},
     "output_type": "execute_result"
    }
   ],
   "source": [
    "probl = max(min(sol,1),0)"
   ]
  },
  {
   "cell_type": "code",
   "execution_count": 13,
   "id": "31a0287a-d82d-4a8a-9983-f3f254c0437e",
   "metadata": {},
   "outputs": [
    {
     "data": {
      "image/svg+xml": [
       "<?xml version=\"1.0\" encoding=\"utf-8\"?>\n",
       "<svg xmlns=\"http://www.w3.org/2000/svg\" xmlns:xlink=\"http://www.w3.org/1999/xlink\" width=\"600\" height=\"400\" viewBox=\"0 0 2400 1600\">\n",
       "<defs>\n",
       "  <clipPath id=\"clip290\">\n",
       "    <rect x=\"0\" y=\"0\" width=\"2400\" height=\"1600\"/>\n",
       "  </clipPath>\n",
       "</defs>\n",
       "<path clip-path=\"url(#clip290)\" d=\"\n",
       "M0 1600 L2400 1600 L2400 0 L0 0  Z\n",
       "  \" fill=\"#ffffff\" fill-rule=\"evenodd\" fill-opacity=\"1\"/>\n",
       "<defs>\n",
       "  <clipPath id=\"clip291\">\n",
       "    <rect x=\"480\" y=\"0\" width=\"1681\" height=\"1600\"/>\n",
       "  </clipPath>\n",
       "</defs>\n",
       "<path clip-path=\"url(#clip290)\" d=\"\n",
       "M186.274 1486.45 L2352.76 1486.45 L2352.76 47.2441 L186.274 47.2441  Z\n",
       "  \" fill=\"#ffffff\" fill-rule=\"evenodd\" fill-opacity=\"1\"/>\n",
       "<defs>\n",
       "  <clipPath id=\"clip292\">\n",
       "    <rect x=\"186\" y=\"47\" width=\"2167\" height=\"1440\"/>\n",
       "  </clipPath>\n",
       "</defs>\n",
       "<polyline clip-path=\"url(#clip292)\" style=\"stroke:#000000; stroke-linecap:butt; stroke-linejoin:round; stroke-width:2; stroke-opacity:0.1; fill:none\" points=\"\n",
       "  226.734,1486.45 226.734,47.2441 \n",
       "  \"/>\n",
       "<polyline clip-path=\"url(#clip292)\" style=\"stroke:#000000; stroke-linecap:butt; stroke-linejoin:round; stroke-width:2; stroke-opacity:0.1; fill:none\" points=\"\n",
       "  748.124,1486.45 748.124,47.2441 \n",
       "  \"/>\n",
       "<polyline clip-path=\"url(#clip292)\" style=\"stroke:#000000; stroke-linecap:butt; stroke-linejoin:round; stroke-width:2; stroke-opacity:0.1; fill:none\" points=\"\n",
       "  1269.51,1486.45 1269.51,47.2441 \n",
       "  \"/>\n",
       "<polyline clip-path=\"url(#clip292)\" style=\"stroke:#000000; stroke-linecap:butt; stroke-linejoin:round; stroke-width:2; stroke-opacity:0.1; fill:none\" points=\"\n",
       "  1790.91,1486.45 1790.91,47.2441 \n",
       "  \"/>\n",
       "<polyline clip-path=\"url(#clip292)\" style=\"stroke:#000000; stroke-linecap:butt; stroke-linejoin:round; stroke-width:2; stroke-opacity:0.1; fill:none\" points=\"\n",
       "  2312.3,1486.45 2312.3,47.2441 \n",
       "  \"/>\n",
       "<polyline clip-path=\"url(#clip290)\" style=\"stroke:#000000; stroke-linecap:butt; stroke-linejoin:round; stroke-width:4; stroke-opacity:1; fill:none\" points=\"\n",
       "  186.274,1486.45 2352.76,1486.45 \n",
       "  \"/>\n",
       "<polyline clip-path=\"url(#clip290)\" style=\"stroke:#000000; stroke-linecap:butt; stroke-linejoin:round; stroke-width:4; stroke-opacity:1; fill:none\" points=\"\n",
       "  226.734,1486.45 226.734,1467.55 \n",
       "  \"/>\n",
       "<polyline clip-path=\"url(#clip290)\" style=\"stroke:#000000; stroke-linecap:butt; stroke-linejoin:round; stroke-width:4; stroke-opacity:1; fill:none\" points=\"\n",
       "  748.124,1486.45 748.124,1467.55 \n",
       "  \"/>\n",
       "<polyline clip-path=\"url(#clip290)\" style=\"stroke:#000000; stroke-linecap:butt; stroke-linejoin:round; stroke-width:4; stroke-opacity:1; fill:none\" points=\"\n",
       "  1269.51,1486.45 1269.51,1467.55 \n",
       "  \"/>\n",
       "<polyline clip-path=\"url(#clip290)\" style=\"stroke:#000000; stroke-linecap:butt; stroke-linejoin:round; stroke-width:4; stroke-opacity:1; fill:none\" points=\"\n",
       "  1790.91,1486.45 1790.91,1467.55 \n",
       "  \"/>\n",
       "<polyline clip-path=\"url(#clip290)\" style=\"stroke:#000000; stroke-linecap:butt; stroke-linejoin:round; stroke-width:4; stroke-opacity:1; fill:none\" points=\"\n",
       "  2312.3,1486.45 2312.3,1467.55 \n",
       "  \"/>\n",
       "<path clip-path=\"url(#clip290)\" d=\"M189.037 1517.37 Q185.426 1517.37 183.598 1520.93 Q181.792 1524.47 181.792 1531.6 Q181.792 1538.71 183.598 1542.27 Q185.426 1545.82 189.037 1545.82 Q192.672 1545.82 194.477 1542.27 Q196.306 1538.71 196.306 1531.6 Q196.306 1524.47 194.477 1520.93 Q192.672 1517.37 189.037 1517.37 M189.037 1513.66 Q194.848 1513.66 197.903 1518.27 Q200.982 1522.85 200.982 1531.6 Q200.982 1540.33 197.903 1544.94 Q194.848 1549.52 189.037 1549.52 Q183.227 1549.52 180.149 1544.94 Q177.093 1540.33 177.093 1531.6 Q177.093 1522.85 180.149 1518.27 Q183.227 1513.66 189.037 1513.66 Z\" fill=\"#000000\" fill-rule=\"evenodd\" fill-opacity=\"1\" /><path clip-path=\"url(#clip290)\" d=\"M209.199 1542.97 L214.084 1542.97 L214.084 1548.85 L209.199 1548.85 L209.199 1542.97 Z\" fill=\"#000000\" fill-rule=\"evenodd\" fill-opacity=\"1\" /><path clip-path=\"url(#clip290)\" d=\"M234.269 1517.37 Q230.657 1517.37 228.829 1520.93 Q227.023 1524.47 227.023 1531.6 Q227.023 1538.71 228.829 1542.27 Q230.657 1545.82 234.269 1545.82 Q237.903 1545.82 239.708 1542.27 Q241.537 1538.71 241.537 1531.6 Q241.537 1524.47 239.708 1520.93 Q237.903 1517.37 234.269 1517.37 M234.269 1513.66 Q240.079 1513.66 243.134 1518.27 Q246.213 1522.85 246.213 1531.6 Q246.213 1540.33 243.134 1544.94 Q240.079 1549.52 234.269 1549.52 Q228.458 1549.52 225.38 1544.94 Q222.324 1540.33 222.324 1531.6 Q222.324 1522.85 225.38 1518.27 Q228.458 1513.66 234.269 1513.66 Z\" fill=\"#000000\" fill-rule=\"evenodd\" fill-opacity=\"1\" /><path clip-path=\"url(#clip290)\" d=\"M264.43 1517.37 Q260.819 1517.37 258.991 1520.93 Q257.185 1524.47 257.185 1531.6 Q257.185 1538.71 258.991 1542.27 Q260.819 1545.82 264.43 1545.82 Q268.065 1545.82 269.87 1542.27 Q271.699 1538.71 271.699 1531.6 Q271.699 1524.47 269.87 1520.93 Q268.065 1517.37 264.43 1517.37 M264.43 1513.66 Q270.241 1513.66 273.296 1518.27 Q276.375 1522.85 276.375 1531.6 Q276.375 1540.33 273.296 1544.94 Q270.241 1549.52 264.43 1549.52 Q258.62 1549.52 255.542 1544.94 Q252.486 1540.33 252.486 1531.6 Q252.486 1522.85 255.542 1518.27 Q258.62 1513.66 264.43 1513.66 Z\" fill=\"#000000\" fill-rule=\"evenodd\" fill-opacity=\"1\" /><path clip-path=\"url(#clip290)\" d=\"M710.926 1517.37 Q707.314 1517.37 705.486 1520.93 Q703.68 1524.47 703.68 1531.6 Q703.68 1538.71 705.486 1542.27 Q707.314 1545.82 710.926 1545.82 Q714.56 1545.82 716.365 1542.27 Q718.194 1538.71 718.194 1531.6 Q718.194 1524.47 716.365 1520.93 Q714.56 1517.37 710.926 1517.37 M710.926 1513.66 Q716.736 1513.66 719.791 1518.27 Q722.87 1522.85 722.87 1531.6 Q722.87 1540.33 719.791 1544.94 Q716.736 1549.52 710.926 1549.52 Q705.115 1549.52 702.037 1544.94 Q698.981 1540.33 698.981 1531.6 Q698.981 1522.85 702.037 1518.27 Q705.115 1513.66 710.926 1513.66 Z\" fill=\"#000000\" fill-rule=\"evenodd\" fill-opacity=\"1\" /><path clip-path=\"url(#clip290)\" d=\"M731.087 1542.97 L735.972 1542.97 L735.972 1548.85 L731.087 1548.85 L731.087 1542.97 Z\" fill=\"#000000\" fill-rule=\"evenodd\" fill-opacity=\"1\" /><path clip-path=\"url(#clip290)\" d=\"M750.185 1544.91 L766.504 1544.91 L766.504 1548.85 L744.56 1548.85 L744.56 1544.91 Q747.222 1542.16 751.805 1537.53 Q756.411 1532.88 757.592 1531.53 Q759.837 1529.01 760.717 1527.27 Q761.62 1525.51 761.62 1523.82 Q761.62 1521.07 759.675 1519.33 Q757.754 1517.6 754.652 1517.6 Q752.453 1517.6 749.999 1518.36 Q747.569 1519.13 744.791 1520.68 L744.791 1515.95 Q747.615 1514.82 750.069 1514.24 Q752.523 1513.66 754.56 1513.66 Q759.93 1513.66 763.124 1516.35 Q766.319 1519.03 766.319 1523.52 Q766.319 1525.65 765.509 1527.57 Q764.722 1529.47 762.615 1532.07 Q762.036 1532.74 758.935 1535.95 Q755.833 1539.15 750.185 1544.91 Z\" fill=\"#000000\" fill-rule=\"evenodd\" fill-opacity=\"1\" /><path clip-path=\"url(#clip290)\" d=\"M776.365 1514.29 L794.721 1514.29 L794.721 1518.22 L780.647 1518.22 L780.647 1526.7 Q781.666 1526.35 782.684 1526.19 Q783.703 1526 784.721 1526 Q790.508 1526 793.888 1529.17 Q797.268 1532.34 797.268 1537.76 Q797.268 1543.34 793.795 1546.44 Q790.323 1549.52 784.004 1549.52 Q781.828 1549.52 779.559 1549.15 Q777.314 1548.78 774.907 1548.04 L774.907 1543.34 Q776.99 1544.47 779.212 1545.03 Q781.434 1545.58 783.911 1545.58 Q787.916 1545.58 790.254 1543.48 Q792.592 1541.37 792.592 1537.76 Q792.592 1534.15 790.254 1532.04 Q787.916 1529.94 783.911 1529.94 Q782.036 1529.94 780.161 1530.35 Q778.309 1530.77 776.365 1531.65 L776.365 1514.29 Z\" fill=\"#000000\" fill-rule=\"evenodd\" fill-opacity=\"1\" /><path clip-path=\"url(#clip290)\" d=\"M1231.82 1517.37 Q1228.21 1517.37 1226.38 1520.93 Q1224.57 1524.47 1224.57 1531.6 Q1224.57 1538.71 1226.38 1542.27 Q1228.21 1545.82 1231.82 1545.82 Q1235.45 1545.82 1237.26 1542.27 Q1239.09 1538.71 1239.09 1531.6 Q1239.09 1524.47 1237.26 1520.93 Q1235.45 1517.37 1231.82 1517.37 M1231.82 1513.66 Q1237.63 1513.66 1240.68 1518.27 Q1243.76 1522.85 1243.76 1531.6 Q1243.76 1540.33 1240.68 1544.94 Q1237.63 1549.52 1231.82 1549.52 Q1226.01 1549.52 1222.93 1544.94 Q1219.87 1540.33 1219.87 1531.6 Q1219.87 1522.85 1222.93 1518.27 Q1226.01 1513.66 1231.82 1513.66 Z\" fill=\"#000000\" fill-rule=\"evenodd\" fill-opacity=\"1\" /><path clip-path=\"url(#clip290)\" d=\"M1251.98 1542.97 L1256.86 1542.97 L1256.86 1548.85 L1251.98 1548.85 L1251.98 1542.97 Z\" fill=\"#000000\" fill-rule=\"evenodd\" fill-opacity=\"1\" /><path clip-path=\"url(#clip290)\" d=\"M1267.1 1514.29 L1285.45 1514.29 L1285.45 1518.22 L1271.38 1518.22 L1271.38 1526.7 Q1272.4 1526.35 1273.42 1526.19 Q1274.43 1526 1275.45 1526 Q1281.24 1526 1284.62 1529.17 Q1288 1532.34 1288 1537.76 Q1288 1543.34 1284.53 1546.44 Q1281.05 1549.52 1274.73 1549.52 Q1272.56 1549.52 1270.29 1549.15 Q1268.05 1548.78 1265.64 1548.04 L1265.64 1543.34 Q1267.72 1544.47 1269.94 1545.03 Q1272.17 1545.58 1274.64 1545.58 Q1278.65 1545.58 1280.98 1543.48 Q1283.32 1541.37 1283.32 1537.76 Q1283.32 1534.15 1280.98 1532.04 Q1278.65 1529.94 1274.64 1529.94 Q1272.77 1529.94 1270.89 1530.35 Q1269.04 1530.77 1267.1 1531.65 L1267.1 1514.29 Z\" fill=\"#000000\" fill-rule=\"evenodd\" fill-opacity=\"1\" /><path clip-path=\"url(#clip290)\" d=\"M1307.21 1517.37 Q1303.6 1517.37 1301.77 1520.93 Q1299.97 1524.47 1299.97 1531.6 Q1299.97 1538.71 1301.77 1542.27 Q1303.6 1545.82 1307.21 1545.82 Q1310.85 1545.82 1312.65 1542.27 Q1314.48 1538.71 1314.48 1531.6 Q1314.48 1524.47 1312.65 1520.93 Q1310.85 1517.37 1307.21 1517.37 M1307.21 1513.66 Q1313.02 1513.66 1316.08 1518.27 Q1319.16 1522.85 1319.16 1531.6 Q1319.16 1540.33 1316.08 1544.94 Q1313.02 1549.52 1307.21 1549.52 Q1301.4 1549.52 1298.32 1544.94 Q1295.27 1540.33 1295.27 1531.6 Q1295.27 1522.85 1298.32 1518.27 Q1301.4 1513.66 1307.21 1513.66 Z\" fill=\"#000000\" fill-rule=\"evenodd\" fill-opacity=\"1\" /><path clip-path=\"url(#clip290)\" d=\"M1753.71 1517.37 Q1750.1 1517.37 1748.27 1520.93 Q1746.46 1524.47 1746.46 1531.6 Q1746.46 1538.71 1748.27 1542.27 Q1750.1 1545.82 1753.71 1545.82 Q1757.34 1545.82 1759.15 1542.27 Q1760.98 1538.71 1760.98 1531.6 Q1760.98 1524.47 1759.15 1520.93 Q1757.34 1517.37 1753.71 1517.37 M1753.71 1513.66 Q1759.52 1513.66 1762.57 1518.27 Q1765.65 1522.85 1765.65 1531.6 Q1765.65 1540.33 1762.57 1544.94 Q1759.52 1549.52 1753.71 1549.52 Q1747.9 1549.52 1744.82 1544.94 Q1741.76 1540.33 1741.76 1531.6 Q1741.76 1522.85 1744.82 1518.27 Q1747.9 1513.66 1753.71 1513.66 Z\" fill=\"#000000\" fill-rule=\"evenodd\" fill-opacity=\"1\" /><path clip-path=\"url(#clip290)\" d=\"M1773.87 1542.97 L1778.75 1542.97 L1778.75 1548.85 L1773.87 1548.85 L1773.87 1542.97 Z\" fill=\"#000000\" fill-rule=\"evenodd\" fill-opacity=\"1\" /><path clip-path=\"url(#clip290)\" d=\"M1787.76 1514.29 L1809.98 1514.29 L1809.98 1516.28 L1797.43 1548.85 L1792.55 1548.85 L1804.35 1518.22 L1787.76 1518.22 L1787.76 1514.29 Z\" fill=\"#000000\" fill-rule=\"evenodd\" fill-opacity=\"1\" /><path clip-path=\"url(#clip290)\" d=\"M1819.15 1514.29 L1837.5 1514.29 L1837.5 1518.22 L1823.43 1518.22 L1823.43 1526.7 Q1824.45 1526.35 1825.47 1526.19 Q1826.48 1526 1827.5 1526 Q1833.29 1526 1836.67 1529.17 Q1840.05 1532.34 1840.05 1537.76 Q1840.05 1543.34 1836.58 1546.44 Q1833.1 1549.52 1826.78 1549.52 Q1824.61 1549.52 1822.34 1549.15 Q1820.1 1548.78 1817.69 1548.04 L1817.69 1543.34 Q1819.77 1544.47 1821.99 1545.03 Q1824.22 1545.58 1826.69 1545.58 Q1830.7 1545.58 1833.03 1543.48 Q1835.37 1541.37 1835.37 1537.76 Q1835.37 1534.15 1833.03 1532.04 Q1830.7 1529.94 1826.69 1529.94 Q1824.82 1529.94 1822.94 1530.35 Q1821.09 1530.77 1819.15 1531.65 L1819.15 1514.29 Z\" fill=\"#000000\" fill-rule=\"evenodd\" fill-opacity=\"1\" /><path clip-path=\"url(#clip290)\" d=\"M2264.37 1544.91 L2272.01 1544.91 L2272.01 1518.55 L2263.7 1520.21 L2263.7 1515.95 L2271.96 1514.29 L2276.64 1514.29 L2276.64 1544.91 L2284.28 1544.91 L2284.28 1548.85 L2264.37 1548.85 L2264.37 1544.91 Z\" fill=\"#000000\" fill-rule=\"evenodd\" fill-opacity=\"1\" /><path clip-path=\"url(#clip290)\" d=\"M2293.72 1542.97 L2298.6 1542.97 L2298.6 1548.85 L2293.72 1548.85 L2293.72 1542.97 Z\" fill=\"#000000\" fill-rule=\"evenodd\" fill-opacity=\"1\" /><path clip-path=\"url(#clip290)\" d=\"M2318.79 1517.37 Q2315.18 1517.37 2313.35 1520.93 Q2311.54 1524.47 2311.54 1531.6 Q2311.54 1538.71 2313.35 1542.27 Q2315.18 1545.82 2318.79 1545.82 Q2322.42 1545.82 2324.23 1542.27 Q2326.06 1538.71 2326.06 1531.6 Q2326.06 1524.47 2324.23 1520.93 Q2322.42 1517.37 2318.79 1517.37 M2318.79 1513.66 Q2324.6 1513.66 2327.65 1518.27 Q2330.73 1522.85 2330.73 1531.6 Q2330.73 1540.33 2327.65 1544.94 Q2324.6 1549.52 2318.79 1549.52 Q2312.98 1549.52 2309.9 1544.94 Q2306.84 1540.33 2306.84 1531.6 Q2306.84 1522.85 2309.9 1518.27 Q2312.98 1513.66 2318.79 1513.66 Z\" fill=\"#000000\" fill-rule=\"evenodd\" fill-opacity=\"1\" /><path clip-path=\"url(#clip290)\" d=\"M2348.95 1517.37 Q2345.34 1517.37 2343.51 1520.93 Q2341.71 1524.47 2341.71 1531.6 Q2341.71 1538.71 2343.51 1542.27 Q2345.34 1545.82 2348.95 1545.82 Q2352.59 1545.82 2354.39 1542.27 Q2356.22 1538.71 2356.22 1531.6 Q2356.22 1524.47 2354.39 1520.93 Q2352.59 1517.37 2348.95 1517.37 M2348.95 1513.66 Q2354.76 1513.66 2357.82 1518.27 Q2360.9 1522.85 2360.9 1531.6 Q2360.9 1540.33 2357.82 1544.94 Q2354.76 1549.52 2348.95 1549.52 Q2343.14 1549.52 2340.06 1544.94 Q2337.01 1540.33 2337.01 1531.6 Q2337.01 1522.85 2340.06 1518.27 Q2343.14 1513.66 2348.95 1513.66 Z\" fill=\"#000000\" fill-rule=\"evenodd\" fill-opacity=\"1\" /><polyline clip-path=\"url(#clip292)\" style=\"stroke:#000000; stroke-linecap:butt; stroke-linejoin:round; stroke-width:2; stroke-opacity:0.1; fill:none\" points=\"\n",
       "  186.274,1445.72 2352.76,1445.72 \n",
       "  \"/>\n",
       "<polyline clip-path=\"url(#clip292)\" style=\"stroke:#000000; stroke-linecap:butt; stroke-linejoin:round; stroke-width:2; stroke-opacity:0.1; fill:none\" points=\"\n",
       "  186.274,1106.28 2352.76,1106.28 \n",
       "  \"/>\n",
       "<polyline clip-path=\"url(#clip292)\" style=\"stroke:#000000; stroke-linecap:butt; stroke-linejoin:round; stroke-width:2; stroke-opacity:0.1; fill:none\" points=\"\n",
       "  186.274,766.846 2352.76,766.846 \n",
       "  \"/>\n",
       "<polyline clip-path=\"url(#clip292)\" style=\"stroke:#000000; stroke-linecap:butt; stroke-linejoin:round; stroke-width:2; stroke-opacity:0.1; fill:none\" points=\"\n",
       "  186.274,427.411 2352.76,427.411 \n",
       "  \"/>\n",
       "<polyline clip-path=\"url(#clip292)\" style=\"stroke:#000000; stroke-linecap:butt; stroke-linejoin:round; stroke-width:2; stroke-opacity:0.1; fill:none\" points=\"\n",
       "  186.274,87.9763 2352.76,87.9763 \n",
       "  \"/>\n",
       "<polyline clip-path=\"url(#clip290)\" style=\"stroke:#000000; stroke-linecap:butt; stroke-linejoin:round; stroke-width:4; stroke-opacity:1; fill:none\" points=\"\n",
       "  186.274,1486.45 186.274,47.2441 \n",
       "  \"/>\n",
       "<polyline clip-path=\"url(#clip290)\" style=\"stroke:#000000; stroke-linecap:butt; stroke-linejoin:round; stroke-width:4; stroke-opacity:1; fill:none\" points=\"\n",
       "  186.274,1445.72 205.172,1445.72 \n",
       "  \"/>\n",
       "<polyline clip-path=\"url(#clip290)\" style=\"stroke:#000000; stroke-linecap:butt; stroke-linejoin:round; stroke-width:4; stroke-opacity:1; fill:none\" points=\"\n",
       "  186.274,1106.28 205.172,1106.28 \n",
       "  \"/>\n",
       "<polyline clip-path=\"url(#clip290)\" style=\"stroke:#000000; stroke-linecap:butt; stroke-linejoin:round; stroke-width:4; stroke-opacity:1; fill:none\" points=\"\n",
       "  186.274,766.846 205.172,766.846 \n",
       "  \"/>\n",
       "<polyline clip-path=\"url(#clip290)\" style=\"stroke:#000000; stroke-linecap:butt; stroke-linejoin:round; stroke-width:4; stroke-opacity:1; fill:none\" points=\"\n",
       "  186.274,427.411 205.172,427.411 \n",
       "  \"/>\n",
       "<polyline clip-path=\"url(#clip290)\" style=\"stroke:#000000; stroke-linecap:butt; stroke-linejoin:round; stroke-width:4; stroke-opacity:1; fill:none\" points=\"\n",
       "  186.274,87.9763 205.172,87.9763 \n",
       "  \"/>\n",
       "<path clip-path=\"url(#clip290)\" d=\"M62.9365 1431.51 Q59.3254 1431.51 57.4967 1435.08 Q55.6912 1438.62 55.6912 1445.75 Q55.6912 1452.86 57.4967 1456.42 Q59.3254 1459.96 62.9365 1459.96 Q66.5707 1459.96 68.3763 1456.42 Q70.205 1452.86 70.205 1445.75 Q70.205 1438.62 68.3763 1435.08 Q66.5707 1431.51 62.9365 1431.51 M62.9365 1427.81 Q68.7467 1427.81 71.8022 1432.42 Q74.8809 1437 74.8809 1445.75 Q74.8809 1454.48 71.8022 1459.08 Q68.7467 1463.67 62.9365 1463.67 Q57.1264 1463.67 54.0477 1459.08 Q50.9921 1454.48 50.9921 1445.75 Q50.9921 1437 54.0477 1432.42 Q57.1264 1427.81 62.9365 1427.81 Z\" fill=\"#000000\" fill-rule=\"evenodd\" fill-opacity=\"1\" /><path clip-path=\"url(#clip290)\" d=\"M83.0984 1457.12 L87.9827 1457.12 L87.9827 1463 L83.0984 1463 L83.0984 1457.12 Z\" fill=\"#000000\" fill-rule=\"evenodd\" fill-opacity=\"1\" /><path clip-path=\"url(#clip290)\" d=\"M108.168 1431.51 Q104.557 1431.51 102.728 1435.08 Q100.922 1438.62 100.922 1445.75 Q100.922 1452.86 102.728 1456.42 Q104.557 1459.96 108.168 1459.96 Q111.802 1459.96 113.608 1456.42 Q115.436 1452.86 115.436 1445.75 Q115.436 1438.62 113.608 1435.08 Q111.802 1431.51 108.168 1431.51 M108.168 1427.81 Q113.978 1427.81 117.033 1432.42 Q120.112 1437 120.112 1445.75 Q120.112 1454.48 117.033 1459.08 Q113.978 1463.67 108.168 1463.67 Q102.358 1463.67 99.2789 1459.08 Q96.2234 1454.48 96.2234 1445.75 Q96.2234 1437 99.2789 1432.42 Q102.358 1427.81 108.168 1427.81 Z\" fill=\"#000000\" fill-rule=\"evenodd\" fill-opacity=\"1\" /><path clip-path=\"url(#clip290)\" d=\"M138.33 1431.51 Q134.719 1431.51 132.89 1435.08 Q131.084 1438.62 131.084 1445.75 Q131.084 1452.86 132.89 1456.42 Q134.719 1459.96 138.33 1459.96 Q141.964 1459.96 143.769 1456.42 Q145.598 1452.86 145.598 1445.75 Q145.598 1438.62 143.769 1435.08 Q141.964 1431.51 138.33 1431.51 M138.33 1427.81 Q144.14 1427.81 147.195 1432.42 Q150.274 1437 150.274 1445.75 Q150.274 1454.48 147.195 1459.08 Q144.14 1463.67 138.33 1463.67 Q132.519 1463.67 129.441 1459.08 Q126.385 1454.48 126.385 1445.75 Q126.385 1437 129.441 1432.42 Q132.519 1427.81 138.33 1427.81 Z\" fill=\"#000000\" fill-rule=\"evenodd\" fill-opacity=\"1\" /><path clip-path=\"url(#clip290)\" d=\"M63.9319 1092.08 Q60.3208 1092.08 58.4921 1095.64 Q56.6865 1099.19 56.6865 1106.32 Q56.6865 1113.42 58.4921 1116.99 Q60.3208 1120.53 63.9319 1120.53 Q67.5661 1120.53 69.3717 1116.99 Q71.2004 1113.42 71.2004 1106.32 Q71.2004 1099.19 69.3717 1095.64 Q67.5661 1092.08 63.9319 1092.08 M63.9319 1088.38 Q69.742 1088.38 72.7976 1092.98 Q75.8763 1097.57 75.8763 1106.32 Q75.8763 1115.04 72.7976 1119.65 Q69.742 1124.23 63.9319 1124.23 Q58.1217 1124.23 55.043 1119.65 Q51.9875 1115.04 51.9875 1106.32 Q51.9875 1097.57 55.043 1092.98 Q58.1217 1088.38 63.9319 1088.38 Z\" fill=\"#000000\" fill-rule=\"evenodd\" fill-opacity=\"1\" /><path clip-path=\"url(#clip290)\" d=\"M84.0938 1117.68 L88.978 1117.68 L88.978 1123.56 L84.0938 1123.56 L84.0938 1117.68 Z\" fill=\"#000000\" fill-rule=\"evenodd\" fill-opacity=\"1\" /><path clip-path=\"url(#clip290)\" d=\"M103.191 1119.63 L119.51 1119.63 L119.51 1123.56 L97.566 1123.56 L97.566 1119.63 Q100.228 1116.87 104.811 1112.24 Q109.418 1107.59 110.598 1106.25 Q112.844 1103.72 113.723 1101.99 Q114.626 1100.23 114.626 1098.54 Q114.626 1095.78 112.682 1094.05 Q110.76 1092.31 107.658 1092.31 Q105.459 1092.31 103.006 1093.07 Q100.575 1093.84 97.7974 1095.39 L97.7974 1090.67 Q100.621 1089.53 103.075 1088.95 Q105.529 1088.38 107.566 1088.38 Q112.936 1088.38 116.131 1091.06 Q119.325 1093.75 119.325 1098.24 Q119.325 1100.37 118.515 1102.29 Q117.728 1104.19 115.621 1106.78 Q115.043 1107.45 111.941 1110.67 Q108.839 1113.86 103.191 1119.63 Z\" fill=\"#000000\" fill-rule=\"evenodd\" fill-opacity=\"1\" /><path clip-path=\"url(#clip290)\" d=\"M129.371 1089 L147.728 1089 L147.728 1092.94 L133.654 1092.94 L133.654 1101.41 Q134.672 1101.06 135.691 1100.9 Q136.709 1100.71 137.728 1100.71 Q143.515 1100.71 146.894 1103.89 Q150.274 1107.06 150.274 1112.47 Q150.274 1118.05 146.802 1121.15 Q143.33 1124.23 137.01 1124.23 Q134.834 1124.23 132.566 1123.86 Q130.32 1123.49 127.913 1122.75 L127.913 1118.05 Q129.996 1119.19 132.219 1119.74 Q134.441 1120.3 136.918 1120.3 Q140.922 1120.3 143.26 1118.19 Q145.598 1116.08 145.598 1112.47 Q145.598 1108.86 143.26 1106.76 Q140.922 1104.65 136.918 1104.65 Q135.043 1104.65 133.168 1105.07 Q131.316 1105.48 129.371 1106.36 L129.371 1089 Z\" fill=\"#000000\" fill-rule=\"evenodd\" fill-opacity=\"1\" /><path clip-path=\"url(#clip290)\" d=\"M62.9365 752.645 Q59.3254 752.645 57.4967 756.209 Q55.6912 759.751 55.6912 766.881 Q55.6912 773.987 57.4967 777.552 Q59.3254 781.094 62.9365 781.094 Q66.5707 781.094 68.3763 777.552 Q70.205 773.987 70.205 766.881 Q70.205 759.751 68.3763 756.209 Q66.5707 752.645 62.9365 752.645 M62.9365 748.941 Q68.7467 748.941 71.8022 753.547 Q74.8809 758.131 74.8809 766.881 Q74.8809 775.608 71.8022 780.214 Q68.7467 784.797 62.9365 784.797 Q57.1264 784.797 54.0477 780.214 Q50.9921 775.608 50.9921 766.881 Q50.9921 758.131 54.0477 753.547 Q57.1264 748.941 62.9365 748.941 Z\" fill=\"#000000\" fill-rule=\"evenodd\" fill-opacity=\"1\" /><path clip-path=\"url(#clip290)\" d=\"M83.0984 778.246 L87.9827 778.246 L87.9827 784.126 L83.0984 784.126 L83.0984 778.246 Z\" fill=\"#000000\" fill-rule=\"evenodd\" fill-opacity=\"1\" /><path clip-path=\"url(#clip290)\" d=\"M98.2141 749.566 L116.57 749.566 L116.57 753.501 L102.496 753.501 L102.496 761.973 Q103.515 761.626 104.534 761.464 Q105.552 761.279 106.571 761.279 Q112.358 761.279 115.737 764.45 Q119.117 767.621 119.117 773.038 Q119.117 778.617 115.645 781.719 Q112.172 784.797 105.853 784.797 Q103.677 784.797 101.409 784.427 Q99.1632 784.057 96.7558 783.316 L96.7558 778.617 Q98.8391 779.751 101.061 780.307 Q103.284 780.862 105.76 780.862 Q109.765 780.862 112.103 778.756 Q114.441 776.649 114.441 773.038 Q114.441 769.427 112.103 767.321 Q109.765 765.214 105.76 765.214 Q103.885 765.214 102.01 765.631 Q100.159 766.047 98.2141 766.927 L98.2141 749.566 Z\" fill=\"#000000\" fill-rule=\"evenodd\" fill-opacity=\"1\" /><path clip-path=\"url(#clip290)\" d=\"M138.33 752.645 Q134.719 752.645 132.89 756.209 Q131.084 759.751 131.084 766.881 Q131.084 773.987 132.89 777.552 Q134.719 781.094 138.33 781.094 Q141.964 781.094 143.769 777.552 Q145.598 773.987 145.598 766.881 Q145.598 759.751 143.769 756.209 Q141.964 752.645 138.33 752.645 M138.33 748.941 Q144.14 748.941 147.195 753.547 Q150.274 758.131 150.274 766.881 Q150.274 775.608 147.195 780.214 Q144.14 784.797 138.33 784.797 Q132.519 784.797 129.441 780.214 Q126.385 775.608 126.385 766.881 Q126.385 758.131 129.441 753.547 Q132.519 748.941 138.33 748.941 Z\" fill=\"#000000\" fill-rule=\"evenodd\" fill-opacity=\"1\" /><path clip-path=\"url(#clip290)\" d=\"M63.9319 413.21 Q60.3208 413.21 58.4921 416.775 Q56.6865 420.316 56.6865 427.446 Q56.6865 434.552 58.4921 438.117 Q60.3208 441.659 63.9319 441.659 Q67.5661 441.659 69.3717 438.117 Q71.2004 434.552 71.2004 427.446 Q71.2004 420.316 69.3717 416.775 Q67.5661 413.21 63.9319 413.21 M63.9319 409.506 Q69.742 409.506 72.7976 414.113 Q75.8763 418.696 75.8763 427.446 Q75.8763 436.173 72.7976 440.779 Q69.742 445.362 63.9319 445.362 Q58.1217 445.362 55.043 440.779 Q51.9875 436.173 51.9875 427.446 Q51.9875 418.696 55.043 414.113 Q58.1217 409.506 63.9319 409.506 Z\" fill=\"#000000\" fill-rule=\"evenodd\" fill-opacity=\"1\" /><path clip-path=\"url(#clip290)\" d=\"M84.0938 438.812 L88.978 438.812 L88.978 444.691 L84.0938 444.691 L84.0938 438.812 Z\" fill=\"#000000\" fill-rule=\"evenodd\" fill-opacity=\"1\" /><path clip-path=\"url(#clip290)\" d=\"M97.9826 410.131 L120.205 410.131 L120.205 412.122 L107.658 444.691 L102.774 444.691 L114.58 414.066 L97.9826 414.066 L97.9826 410.131 Z\" fill=\"#000000\" fill-rule=\"evenodd\" fill-opacity=\"1\" /><path clip-path=\"url(#clip290)\" d=\"M129.371 410.131 L147.728 410.131 L147.728 414.066 L133.654 414.066 L133.654 422.538 Q134.672 422.191 135.691 422.029 Q136.709 421.844 137.728 421.844 Q143.515 421.844 146.894 425.015 Q150.274 428.187 150.274 433.603 Q150.274 439.182 146.802 442.284 Q143.33 445.362 137.01 445.362 Q134.834 445.362 132.566 444.992 Q130.32 444.622 127.913 443.881 L127.913 439.182 Q129.996 440.316 132.219 440.872 Q134.441 441.427 136.918 441.427 Q140.922 441.427 143.26 439.321 Q145.598 437.214 145.598 433.603 Q145.598 429.992 143.26 427.886 Q140.922 425.779 136.918 425.779 Q135.043 425.779 133.168 426.196 Q131.316 426.613 129.371 427.492 L129.371 410.131 Z\" fill=\"#000000\" fill-rule=\"evenodd\" fill-opacity=\"1\" /><path clip-path=\"url(#clip290)\" d=\"M53.7467 101.321 L61.3856 101.321 L61.3856 74.9555 L53.0754 76.6222 L53.0754 72.3629 L61.3393 70.6963 L66.0152 70.6963 L66.0152 101.321 L73.654 101.321 L73.654 105.256 L53.7467 105.256 L53.7467 101.321 Z\" fill=\"#000000\" fill-rule=\"evenodd\" fill-opacity=\"1\" /><path clip-path=\"url(#clip290)\" d=\"M83.0984 99.3767 L87.9827 99.3767 L87.9827 105.256 L83.0984 105.256 L83.0984 99.3767 Z\" fill=\"#000000\" fill-rule=\"evenodd\" fill-opacity=\"1\" /><path clip-path=\"url(#clip290)\" d=\"M108.168 73.775 Q104.557 73.775 102.728 77.3398 Q100.922 80.8814 100.922 88.011 Q100.922 95.1174 102.728 98.6822 Q104.557 102.224 108.168 102.224 Q111.802 102.224 113.608 98.6822 Q115.436 95.1174 115.436 88.011 Q115.436 80.8814 113.608 77.3398 Q111.802 73.775 108.168 73.775 M108.168 70.0713 Q113.978 70.0713 117.033 74.6777 Q120.112 79.261 120.112 88.011 Q120.112 96.7378 117.033 101.344 Q113.978 105.928 108.168 105.928 Q102.358 105.928 99.2789 101.344 Q96.2234 96.7378 96.2234 88.011 Q96.2234 79.261 99.2789 74.6777 Q102.358 70.0713 108.168 70.0713 Z\" fill=\"#000000\" fill-rule=\"evenodd\" fill-opacity=\"1\" /><path clip-path=\"url(#clip290)\" d=\"M138.33 73.775 Q134.719 73.775 132.89 77.3398 Q131.084 80.8814 131.084 88.011 Q131.084 95.1174 132.89 98.6822 Q134.719 102.224 138.33 102.224 Q141.964 102.224 143.769 98.6822 Q145.598 95.1174 145.598 88.011 Q145.598 80.8814 143.769 77.3398 Q141.964 73.775 138.33 73.775 M138.33 70.0713 Q144.14 70.0713 147.195 74.6777 Q150.274 79.261 150.274 88.011 Q150.274 96.7378 147.195 101.344 Q144.14 105.928 138.33 105.928 Q132.519 105.928 129.441 101.344 Q126.385 96.7378 126.385 88.011 Q126.385 79.261 129.441 74.6777 Q132.519 70.0713 138.33 70.0713 Z\" fill=\"#000000\" fill-rule=\"evenodd\" fill-opacity=\"1\" /><polyline clip-path=\"url(#clip292)\" style=\"stroke:#009af9; stroke-linecap:butt; stroke-linejoin:round; stroke-width:4; stroke-opacity:1; fill:none\" points=\"\n",
       "  247.59,1445.72 267.549,1445.72 452.107,1445.72 563.019,1445.72 656.793,1445.72 758.658,1445.72 852.569,1445.72 902.91,1445.72 953.251,1445.72 967.833,1445.72 \n",
       "  982.414,1445.72 996.995,1445.72 1011.58,1437.52 1026.16,1394.6 1040.74,1352.35 1055.32,1310.76 1069.9,1269.82 1121.73,1129.25 1173.57,996.014 1219.02,884.759 \n",
       "  1264.47,778.366 1314.03,667.542 1363.58,561.758 1413.43,460.09 1463.28,362.869 1518.4,260.211 1573.51,162.29 1599.73,117.273 1625.95,87.9763 1652.17,87.9763 \n",
       "  1678.39,87.9763 1732.92,87.9763 1787.45,87.9763 1833.35,87.9763 1879.25,87.9763 1991.32,87.9763 2096.68,87.9763 2265.46,87.9763 2291.44,87.9763 \n",
       "  \"/>\n",
       "<path clip-path=\"url(#clip290)\" d=\"\n",
       "M1987.39 198.898 L2280.54 198.898 L2280.54 95.2176 L1987.39 95.2176  Z\n",
       "  \" fill=\"#ffffff\" fill-rule=\"evenodd\" fill-opacity=\"1\"/>\n",
       "<polyline clip-path=\"url(#clip290)\" style=\"stroke:#000000; stroke-linecap:butt; stroke-linejoin:round; stroke-width:4; stroke-opacity:1; fill:none\" points=\"\n",
       "  1987.39,198.898 2280.54,198.898 2280.54,95.2176 1987.39,95.2176 1987.39,198.898 \n",
       "  \"/>\n",
       "<polyline clip-path=\"url(#clip290)\" style=\"stroke:#009af9; stroke-linecap:butt; stroke-linejoin:round; stroke-width:4; stroke-opacity:1; fill:none\" points=\"\n",
       "  2011.46,147.058 2155.89,147.058 \n",
       "  \"/>\n",
       "<path clip-path=\"url(#clip290)\" d=\"M2193.81 166.745 Q2192 171.375 2190.29 172.787 Q2188.58 174.199 2185.71 174.199 L2182.3 174.199 L2182.3 170.634 L2184.8 170.634 Q2186.56 170.634 2187.53 169.8 Q2188.51 168.967 2189.69 165.865 L2190.45 163.921 L2179.97 138.412 L2184.48 138.412 L2192.58 158.689 L2200.68 138.412 L2205.2 138.412 L2193.81 166.745 Z\" fill=\"#000000\" fill-rule=\"evenodd\" fill-opacity=\"1\" /><path clip-path=\"url(#clip290)\" d=\"M2212.49 160.402 L2220.13 160.402 L2220.13 134.037 L2211.82 135.703 L2211.82 131.444 L2220.08 129.778 L2224.76 129.778 L2224.76 160.402 L2232.4 160.402 L2232.4 164.338 L2212.49 164.338 L2212.49 160.402 Z\" fill=\"#000000\" fill-rule=\"evenodd\" fill-opacity=\"1\" /></svg>\n"
      ]
     },
     "execution_count": 13,
     "metadata": {},
     "output_type": "execute_result"
    }
   ],
   "source": [
    "using Plots\n",
    "plot(probh(lambda => .5,w_2=>.5),.01,.99)"
   ]
  },
  {
   "cell_type": "code",
   "execution_count": 14,
   "id": "ba31bacf-5a6e-443c-8413-afab0e54aa09",
   "metadata": {},
   "outputs": [
    {
     "data": {
      "image/svg+xml": [
       "<?xml version=\"1.0\" encoding=\"utf-8\"?>\n",
       "<svg xmlns=\"http://www.w3.org/2000/svg\" xmlns:xlink=\"http://www.w3.org/1999/xlink\" width=\"600\" height=\"400\" viewBox=\"0 0 2400 1600\">\n",
       "<defs>\n",
       "  <clipPath id=\"clip330\">\n",
       "    <rect x=\"0\" y=\"0\" width=\"2400\" height=\"1600\"/>\n",
       "  </clipPath>\n",
       "</defs>\n",
       "<path clip-path=\"url(#clip330)\" d=\"\n",
       "M0 1600 L2400 1600 L2400 0 L0 0  Z\n",
       "  \" fill=\"#ffffff\" fill-rule=\"evenodd\" fill-opacity=\"1\"/>\n",
       "<defs>\n",
       "  <clipPath id=\"clip331\">\n",
       "    <rect x=\"480\" y=\"0\" width=\"1681\" height=\"1600\"/>\n",
       "  </clipPath>\n",
       "</defs>\n",
       "<path clip-path=\"url(#clip330)\" d=\"\n",
       "M186.274 1486.45 L2352.76 1486.45 L2352.76 47.2441 L186.274 47.2441  Z\n",
       "  \" fill=\"#ffffff\" fill-rule=\"evenodd\" fill-opacity=\"1\"/>\n",
       "<defs>\n",
       "  <clipPath id=\"clip332\">\n",
       "    <rect x=\"186\" y=\"47\" width=\"2167\" height=\"1440\"/>\n",
       "  </clipPath>\n",
       "</defs>\n",
       "<polyline clip-path=\"url(#clip332)\" style=\"stroke:#000000; stroke-linecap:butt; stroke-linejoin:round; stroke-width:2; stroke-opacity:0.1; fill:none\" points=\"\n",
       "  226.734,1486.45 226.734,47.2441 \n",
       "  \"/>\n",
       "<polyline clip-path=\"url(#clip332)\" style=\"stroke:#000000; stroke-linecap:butt; stroke-linejoin:round; stroke-width:2; stroke-opacity:0.1; fill:none\" points=\"\n",
       "  748.124,1486.45 748.124,47.2441 \n",
       "  \"/>\n",
       "<polyline clip-path=\"url(#clip332)\" style=\"stroke:#000000; stroke-linecap:butt; stroke-linejoin:round; stroke-width:2; stroke-opacity:0.1; fill:none\" points=\"\n",
       "  1269.51,1486.45 1269.51,47.2441 \n",
       "  \"/>\n",
       "<polyline clip-path=\"url(#clip332)\" style=\"stroke:#000000; stroke-linecap:butt; stroke-linejoin:round; stroke-width:2; stroke-opacity:0.1; fill:none\" points=\"\n",
       "  1790.91,1486.45 1790.91,47.2441 \n",
       "  \"/>\n",
       "<polyline clip-path=\"url(#clip332)\" style=\"stroke:#000000; stroke-linecap:butt; stroke-linejoin:round; stroke-width:2; stroke-opacity:0.1; fill:none\" points=\"\n",
       "  2312.3,1486.45 2312.3,47.2441 \n",
       "  \"/>\n",
       "<polyline clip-path=\"url(#clip330)\" style=\"stroke:#000000; stroke-linecap:butt; stroke-linejoin:round; stroke-width:4; stroke-opacity:1; fill:none\" points=\"\n",
       "  186.274,1486.45 2352.76,1486.45 \n",
       "  \"/>\n",
       "<polyline clip-path=\"url(#clip330)\" style=\"stroke:#000000; stroke-linecap:butt; stroke-linejoin:round; stroke-width:4; stroke-opacity:1; fill:none\" points=\"\n",
       "  226.734,1486.45 226.734,1467.55 \n",
       "  \"/>\n",
       "<polyline clip-path=\"url(#clip330)\" style=\"stroke:#000000; stroke-linecap:butt; stroke-linejoin:round; stroke-width:4; stroke-opacity:1; fill:none\" points=\"\n",
       "  748.124,1486.45 748.124,1467.55 \n",
       "  \"/>\n",
       "<polyline clip-path=\"url(#clip330)\" style=\"stroke:#000000; stroke-linecap:butt; stroke-linejoin:round; stroke-width:4; stroke-opacity:1; fill:none\" points=\"\n",
       "  1269.51,1486.45 1269.51,1467.55 \n",
       "  \"/>\n",
       "<polyline clip-path=\"url(#clip330)\" style=\"stroke:#000000; stroke-linecap:butt; stroke-linejoin:round; stroke-width:4; stroke-opacity:1; fill:none\" points=\"\n",
       "  1790.91,1486.45 1790.91,1467.55 \n",
       "  \"/>\n",
       "<polyline clip-path=\"url(#clip330)\" style=\"stroke:#000000; stroke-linecap:butt; stroke-linejoin:round; stroke-width:4; stroke-opacity:1; fill:none\" points=\"\n",
       "  2312.3,1486.45 2312.3,1467.55 \n",
       "  \"/>\n",
       "<path clip-path=\"url(#clip330)\" d=\"M189.037 1517.37 Q185.426 1517.37 183.598 1520.93 Q181.792 1524.47 181.792 1531.6 Q181.792 1538.71 183.598 1542.27 Q185.426 1545.82 189.037 1545.82 Q192.672 1545.82 194.477 1542.27 Q196.306 1538.71 196.306 1531.6 Q196.306 1524.47 194.477 1520.93 Q192.672 1517.37 189.037 1517.37 M189.037 1513.66 Q194.848 1513.66 197.903 1518.27 Q200.982 1522.85 200.982 1531.6 Q200.982 1540.33 197.903 1544.94 Q194.848 1549.52 189.037 1549.52 Q183.227 1549.52 180.149 1544.94 Q177.093 1540.33 177.093 1531.6 Q177.093 1522.85 180.149 1518.27 Q183.227 1513.66 189.037 1513.66 Z\" fill=\"#000000\" fill-rule=\"evenodd\" fill-opacity=\"1\" /><path clip-path=\"url(#clip330)\" d=\"M209.199 1542.97 L214.084 1542.97 L214.084 1548.85 L209.199 1548.85 L209.199 1542.97 Z\" fill=\"#000000\" fill-rule=\"evenodd\" fill-opacity=\"1\" /><path clip-path=\"url(#clip330)\" d=\"M234.269 1517.37 Q230.657 1517.37 228.829 1520.93 Q227.023 1524.47 227.023 1531.6 Q227.023 1538.71 228.829 1542.27 Q230.657 1545.82 234.269 1545.82 Q237.903 1545.82 239.708 1542.27 Q241.537 1538.71 241.537 1531.6 Q241.537 1524.47 239.708 1520.93 Q237.903 1517.37 234.269 1517.37 M234.269 1513.66 Q240.079 1513.66 243.134 1518.27 Q246.213 1522.85 246.213 1531.6 Q246.213 1540.33 243.134 1544.94 Q240.079 1549.52 234.269 1549.52 Q228.458 1549.52 225.38 1544.94 Q222.324 1540.33 222.324 1531.6 Q222.324 1522.85 225.38 1518.27 Q228.458 1513.66 234.269 1513.66 Z\" fill=\"#000000\" fill-rule=\"evenodd\" fill-opacity=\"1\" /><path clip-path=\"url(#clip330)\" d=\"M264.43 1517.37 Q260.819 1517.37 258.991 1520.93 Q257.185 1524.47 257.185 1531.6 Q257.185 1538.71 258.991 1542.27 Q260.819 1545.82 264.43 1545.82 Q268.065 1545.82 269.87 1542.27 Q271.699 1538.71 271.699 1531.6 Q271.699 1524.47 269.87 1520.93 Q268.065 1517.37 264.43 1517.37 M264.43 1513.66 Q270.241 1513.66 273.296 1518.27 Q276.375 1522.85 276.375 1531.6 Q276.375 1540.33 273.296 1544.94 Q270.241 1549.52 264.43 1549.52 Q258.62 1549.52 255.542 1544.94 Q252.486 1540.33 252.486 1531.6 Q252.486 1522.85 255.542 1518.27 Q258.62 1513.66 264.43 1513.66 Z\" fill=\"#000000\" fill-rule=\"evenodd\" fill-opacity=\"1\" /><path clip-path=\"url(#clip330)\" d=\"M710.926 1517.37 Q707.314 1517.37 705.486 1520.93 Q703.68 1524.47 703.68 1531.6 Q703.68 1538.71 705.486 1542.27 Q707.314 1545.82 710.926 1545.82 Q714.56 1545.82 716.365 1542.27 Q718.194 1538.71 718.194 1531.6 Q718.194 1524.47 716.365 1520.93 Q714.56 1517.37 710.926 1517.37 M710.926 1513.66 Q716.736 1513.66 719.791 1518.27 Q722.87 1522.85 722.87 1531.6 Q722.87 1540.33 719.791 1544.94 Q716.736 1549.52 710.926 1549.52 Q705.115 1549.52 702.037 1544.94 Q698.981 1540.33 698.981 1531.6 Q698.981 1522.85 702.037 1518.27 Q705.115 1513.66 710.926 1513.66 Z\" fill=\"#000000\" fill-rule=\"evenodd\" fill-opacity=\"1\" /><path clip-path=\"url(#clip330)\" d=\"M731.087 1542.97 L735.972 1542.97 L735.972 1548.85 L731.087 1548.85 L731.087 1542.97 Z\" fill=\"#000000\" fill-rule=\"evenodd\" fill-opacity=\"1\" /><path clip-path=\"url(#clip330)\" d=\"M750.185 1544.91 L766.504 1544.91 L766.504 1548.85 L744.56 1548.85 L744.56 1544.91 Q747.222 1542.16 751.805 1537.53 Q756.411 1532.88 757.592 1531.53 Q759.837 1529.01 760.717 1527.27 Q761.62 1525.51 761.62 1523.82 Q761.62 1521.07 759.675 1519.33 Q757.754 1517.6 754.652 1517.6 Q752.453 1517.6 749.999 1518.36 Q747.569 1519.13 744.791 1520.68 L744.791 1515.95 Q747.615 1514.82 750.069 1514.24 Q752.523 1513.66 754.56 1513.66 Q759.93 1513.66 763.124 1516.35 Q766.319 1519.03 766.319 1523.52 Q766.319 1525.65 765.509 1527.57 Q764.722 1529.47 762.615 1532.07 Q762.036 1532.74 758.935 1535.95 Q755.833 1539.15 750.185 1544.91 Z\" fill=\"#000000\" fill-rule=\"evenodd\" fill-opacity=\"1\" /><path clip-path=\"url(#clip330)\" d=\"M776.365 1514.29 L794.721 1514.29 L794.721 1518.22 L780.647 1518.22 L780.647 1526.7 Q781.666 1526.35 782.684 1526.19 Q783.703 1526 784.721 1526 Q790.508 1526 793.888 1529.17 Q797.268 1532.34 797.268 1537.76 Q797.268 1543.34 793.795 1546.44 Q790.323 1549.52 784.004 1549.52 Q781.828 1549.52 779.559 1549.15 Q777.314 1548.78 774.907 1548.04 L774.907 1543.34 Q776.99 1544.47 779.212 1545.03 Q781.434 1545.58 783.911 1545.58 Q787.916 1545.58 790.254 1543.48 Q792.592 1541.37 792.592 1537.76 Q792.592 1534.15 790.254 1532.04 Q787.916 1529.94 783.911 1529.94 Q782.036 1529.94 780.161 1530.35 Q778.309 1530.77 776.365 1531.65 L776.365 1514.29 Z\" fill=\"#000000\" fill-rule=\"evenodd\" fill-opacity=\"1\" /><path clip-path=\"url(#clip330)\" d=\"M1231.82 1517.37 Q1228.21 1517.37 1226.38 1520.93 Q1224.57 1524.47 1224.57 1531.6 Q1224.57 1538.71 1226.38 1542.27 Q1228.21 1545.82 1231.82 1545.82 Q1235.45 1545.82 1237.26 1542.27 Q1239.09 1538.71 1239.09 1531.6 Q1239.09 1524.47 1237.26 1520.93 Q1235.45 1517.37 1231.82 1517.37 M1231.82 1513.66 Q1237.63 1513.66 1240.68 1518.27 Q1243.76 1522.85 1243.76 1531.6 Q1243.76 1540.33 1240.68 1544.94 Q1237.63 1549.52 1231.82 1549.52 Q1226.01 1549.52 1222.93 1544.94 Q1219.87 1540.33 1219.87 1531.6 Q1219.87 1522.85 1222.93 1518.27 Q1226.01 1513.66 1231.82 1513.66 Z\" fill=\"#000000\" fill-rule=\"evenodd\" fill-opacity=\"1\" /><path clip-path=\"url(#clip330)\" d=\"M1251.98 1542.97 L1256.86 1542.97 L1256.86 1548.85 L1251.98 1548.85 L1251.98 1542.97 Z\" fill=\"#000000\" fill-rule=\"evenodd\" fill-opacity=\"1\" /><path clip-path=\"url(#clip330)\" d=\"M1267.1 1514.29 L1285.45 1514.29 L1285.45 1518.22 L1271.38 1518.22 L1271.38 1526.7 Q1272.4 1526.35 1273.42 1526.19 Q1274.43 1526 1275.45 1526 Q1281.24 1526 1284.62 1529.17 Q1288 1532.34 1288 1537.76 Q1288 1543.34 1284.53 1546.44 Q1281.05 1549.52 1274.73 1549.52 Q1272.56 1549.52 1270.29 1549.15 Q1268.05 1548.78 1265.64 1548.04 L1265.64 1543.34 Q1267.72 1544.47 1269.94 1545.03 Q1272.17 1545.58 1274.64 1545.58 Q1278.65 1545.58 1280.98 1543.48 Q1283.32 1541.37 1283.32 1537.76 Q1283.32 1534.15 1280.98 1532.04 Q1278.65 1529.94 1274.64 1529.94 Q1272.77 1529.94 1270.89 1530.35 Q1269.04 1530.77 1267.1 1531.65 L1267.1 1514.29 Z\" fill=\"#000000\" fill-rule=\"evenodd\" fill-opacity=\"1\" /><path clip-path=\"url(#clip330)\" d=\"M1307.21 1517.37 Q1303.6 1517.37 1301.77 1520.93 Q1299.97 1524.47 1299.97 1531.6 Q1299.97 1538.71 1301.77 1542.27 Q1303.6 1545.82 1307.21 1545.82 Q1310.85 1545.82 1312.65 1542.27 Q1314.48 1538.71 1314.48 1531.6 Q1314.48 1524.47 1312.65 1520.93 Q1310.85 1517.37 1307.21 1517.37 M1307.21 1513.66 Q1313.02 1513.66 1316.08 1518.27 Q1319.16 1522.85 1319.16 1531.6 Q1319.16 1540.33 1316.08 1544.94 Q1313.02 1549.52 1307.21 1549.52 Q1301.4 1549.52 1298.32 1544.94 Q1295.27 1540.33 1295.27 1531.6 Q1295.27 1522.85 1298.32 1518.27 Q1301.4 1513.66 1307.21 1513.66 Z\" fill=\"#000000\" fill-rule=\"evenodd\" fill-opacity=\"1\" /><path clip-path=\"url(#clip330)\" d=\"M1753.71 1517.37 Q1750.1 1517.37 1748.27 1520.93 Q1746.46 1524.47 1746.46 1531.6 Q1746.46 1538.71 1748.27 1542.27 Q1750.1 1545.82 1753.71 1545.82 Q1757.34 1545.82 1759.15 1542.27 Q1760.98 1538.71 1760.98 1531.6 Q1760.98 1524.47 1759.15 1520.93 Q1757.34 1517.37 1753.71 1517.37 M1753.71 1513.66 Q1759.52 1513.66 1762.57 1518.27 Q1765.65 1522.85 1765.65 1531.6 Q1765.65 1540.33 1762.57 1544.94 Q1759.52 1549.52 1753.71 1549.52 Q1747.9 1549.52 1744.82 1544.94 Q1741.76 1540.33 1741.76 1531.6 Q1741.76 1522.85 1744.82 1518.27 Q1747.9 1513.66 1753.71 1513.66 Z\" fill=\"#000000\" fill-rule=\"evenodd\" fill-opacity=\"1\" /><path clip-path=\"url(#clip330)\" d=\"M1773.87 1542.97 L1778.75 1542.97 L1778.75 1548.85 L1773.87 1548.85 L1773.87 1542.97 Z\" fill=\"#000000\" fill-rule=\"evenodd\" fill-opacity=\"1\" /><path clip-path=\"url(#clip330)\" d=\"M1787.76 1514.29 L1809.98 1514.29 L1809.98 1516.28 L1797.43 1548.85 L1792.55 1548.85 L1804.35 1518.22 L1787.76 1518.22 L1787.76 1514.29 Z\" fill=\"#000000\" fill-rule=\"evenodd\" fill-opacity=\"1\" /><path clip-path=\"url(#clip330)\" d=\"M1819.15 1514.29 L1837.5 1514.29 L1837.5 1518.22 L1823.43 1518.22 L1823.43 1526.7 Q1824.45 1526.35 1825.47 1526.19 Q1826.48 1526 1827.5 1526 Q1833.29 1526 1836.67 1529.17 Q1840.05 1532.34 1840.05 1537.76 Q1840.05 1543.34 1836.58 1546.44 Q1833.1 1549.52 1826.78 1549.52 Q1824.61 1549.52 1822.34 1549.15 Q1820.1 1548.78 1817.69 1548.04 L1817.69 1543.34 Q1819.77 1544.47 1821.99 1545.03 Q1824.22 1545.58 1826.69 1545.58 Q1830.7 1545.58 1833.03 1543.48 Q1835.37 1541.37 1835.37 1537.76 Q1835.37 1534.15 1833.03 1532.04 Q1830.7 1529.94 1826.69 1529.94 Q1824.82 1529.94 1822.94 1530.35 Q1821.09 1530.77 1819.15 1531.65 L1819.15 1514.29 Z\" fill=\"#000000\" fill-rule=\"evenodd\" fill-opacity=\"1\" /><path clip-path=\"url(#clip330)\" d=\"M2264.37 1544.91 L2272.01 1544.91 L2272.01 1518.55 L2263.7 1520.21 L2263.7 1515.95 L2271.96 1514.29 L2276.64 1514.29 L2276.64 1544.91 L2284.28 1544.91 L2284.28 1548.85 L2264.37 1548.85 L2264.37 1544.91 Z\" fill=\"#000000\" fill-rule=\"evenodd\" fill-opacity=\"1\" /><path clip-path=\"url(#clip330)\" d=\"M2293.72 1542.97 L2298.6 1542.97 L2298.6 1548.85 L2293.72 1548.85 L2293.72 1542.97 Z\" fill=\"#000000\" fill-rule=\"evenodd\" fill-opacity=\"1\" /><path clip-path=\"url(#clip330)\" d=\"M2318.79 1517.37 Q2315.18 1517.37 2313.35 1520.93 Q2311.54 1524.47 2311.54 1531.6 Q2311.54 1538.71 2313.35 1542.27 Q2315.18 1545.82 2318.79 1545.82 Q2322.42 1545.82 2324.23 1542.27 Q2326.06 1538.71 2326.06 1531.6 Q2326.06 1524.47 2324.23 1520.93 Q2322.42 1517.37 2318.79 1517.37 M2318.79 1513.66 Q2324.6 1513.66 2327.65 1518.27 Q2330.73 1522.85 2330.73 1531.6 Q2330.73 1540.33 2327.65 1544.94 Q2324.6 1549.52 2318.79 1549.52 Q2312.98 1549.52 2309.9 1544.94 Q2306.84 1540.33 2306.84 1531.6 Q2306.84 1522.85 2309.9 1518.27 Q2312.98 1513.66 2318.79 1513.66 Z\" fill=\"#000000\" fill-rule=\"evenodd\" fill-opacity=\"1\" /><path clip-path=\"url(#clip330)\" d=\"M2348.95 1517.37 Q2345.34 1517.37 2343.51 1520.93 Q2341.71 1524.47 2341.71 1531.6 Q2341.71 1538.71 2343.51 1542.27 Q2345.34 1545.82 2348.95 1545.82 Q2352.59 1545.82 2354.39 1542.27 Q2356.22 1538.71 2356.22 1531.6 Q2356.22 1524.47 2354.39 1520.93 Q2352.59 1517.37 2348.95 1517.37 M2348.95 1513.66 Q2354.76 1513.66 2357.82 1518.27 Q2360.9 1522.85 2360.9 1531.6 Q2360.9 1540.33 2357.82 1544.94 Q2354.76 1549.52 2348.95 1549.52 Q2343.14 1549.52 2340.06 1544.94 Q2337.01 1540.33 2337.01 1531.6 Q2337.01 1522.85 2340.06 1518.27 Q2343.14 1513.66 2348.95 1513.66 Z\" fill=\"#000000\" fill-rule=\"evenodd\" fill-opacity=\"1\" /><polyline clip-path=\"url(#clip332)\" style=\"stroke:#000000; stroke-linecap:butt; stroke-linejoin:round; stroke-width:2; stroke-opacity:0.1; fill:none\" points=\"\n",
       "  186.274,1445.72 2352.76,1445.72 \n",
       "  \"/>\n",
       "<polyline clip-path=\"url(#clip332)\" style=\"stroke:#000000; stroke-linecap:butt; stroke-linejoin:round; stroke-width:2; stroke-opacity:0.1; fill:none\" points=\"\n",
       "  186.274,1106.28 2352.76,1106.28 \n",
       "  \"/>\n",
       "<polyline clip-path=\"url(#clip332)\" style=\"stroke:#000000; stroke-linecap:butt; stroke-linejoin:round; stroke-width:2; stroke-opacity:0.1; fill:none\" points=\"\n",
       "  186.274,766.846 2352.76,766.846 \n",
       "  \"/>\n",
       "<polyline clip-path=\"url(#clip332)\" style=\"stroke:#000000; stroke-linecap:butt; stroke-linejoin:round; stroke-width:2; stroke-opacity:0.1; fill:none\" points=\"\n",
       "  186.274,427.411 2352.76,427.411 \n",
       "  \"/>\n",
       "<polyline clip-path=\"url(#clip332)\" style=\"stroke:#000000; stroke-linecap:butt; stroke-linejoin:round; stroke-width:2; stroke-opacity:0.1; fill:none\" points=\"\n",
       "  186.274,87.9763 2352.76,87.9763 \n",
       "  \"/>\n",
       "<polyline clip-path=\"url(#clip330)\" style=\"stroke:#000000; stroke-linecap:butt; stroke-linejoin:round; stroke-width:4; stroke-opacity:1; fill:none\" points=\"\n",
       "  186.274,1486.45 186.274,47.2441 \n",
       "  \"/>\n",
       "<polyline clip-path=\"url(#clip330)\" style=\"stroke:#000000; stroke-linecap:butt; stroke-linejoin:round; stroke-width:4; stroke-opacity:1; fill:none\" points=\"\n",
       "  186.274,1445.72 205.172,1445.72 \n",
       "  \"/>\n",
       "<polyline clip-path=\"url(#clip330)\" style=\"stroke:#000000; stroke-linecap:butt; stroke-linejoin:round; stroke-width:4; stroke-opacity:1; fill:none\" points=\"\n",
       "  186.274,1106.28 205.172,1106.28 \n",
       "  \"/>\n",
       "<polyline clip-path=\"url(#clip330)\" style=\"stroke:#000000; stroke-linecap:butt; stroke-linejoin:round; stroke-width:4; stroke-opacity:1; fill:none\" points=\"\n",
       "  186.274,766.846 205.172,766.846 \n",
       "  \"/>\n",
       "<polyline clip-path=\"url(#clip330)\" style=\"stroke:#000000; stroke-linecap:butt; stroke-linejoin:round; stroke-width:4; stroke-opacity:1; fill:none\" points=\"\n",
       "  186.274,427.411 205.172,427.411 \n",
       "  \"/>\n",
       "<polyline clip-path=\"url(#clip330)\" style=\"stroke:#000000; stroke-linecap:butt; stroke-linejoin:round; stroke-width:4; stroke-opacity:1; fill:none\" points=\"\n",
       "  186.274,87.9763 205.172,87.9763 \n",
       "  \"/>\n",
       "<path clip-path=\"url(#clip330)\" d=\"M62.9365 1431.51 Q59.3254 1431.51 57.4967 1435.08 Q55.6912 1438.62 55.6912 1445.75 Q55.6912 1452.86 57.4967 1456.42 Q59.3254 1459.96 62.9365 1459.96 Q66.5707 1459.96 68.3763 1456.42 Q70.205 1452.86 70.205 1445.75 Q70.205 1438.62 68.3763 1435.08 Q66.5707 1431.51 62.9365 1431.51 M62.9365 1427.81 Q68.7467 1427.81 71.8022 1432.42 Q74.8809 1437 74.8809 1445.75 Q74.8809 1454.48 71.8022 1459.08 Q68.7467 1463.67 62.9365 1463.67 Q57.1264 1463.67 54.0477 1459.08 Q50.9921 1454.48 50.9921 1445.75 Q50.9921 1437 54.0477 1432.42 Q57.1264 1427.81 62.9365 1427.81 Z\" fill=\"#000000\" fill-rule=\"evenodd\" fill-opacity=\"1\" /><path clip-path=\"url(#clip330)\" d=\"M83.0984 1457.12 L87.9827 1457.12 L87.9827 1463 L83.0984 1463 L83.0984 1457.12 Z\" fill=\"#000000\" fill-rule=\"evenodd\" fill-opacity=\"1\" /><path clip-path=\"url(#clip330)\" d=\"M108.168 1431.51 Q104.557 1431.51 102.728 1435.08 Q100.922 1438.62 100.922 1445.75 Q100.922 1452.86 102.728 1456.42 Q104.557 1459.96 108.168 1459.96 Q111.802 1459.96 113.608 1456.42 Q115.436 1452.86 115.436 1445.75 Q115.436 1438.62 113.608 1435.08 Q111.802 1431.51 108.168 1431.51 M108.168 1427.81 Q113.978 1427.81 117.033 1432.42 Q120.112 1437 120.112 1445.75 Q120.112 1454.48 117.033 1459.08 Q113.978 1463.67 108.168 1463.67 Q102.358 1463.67 99.2789 1459.08 Q96.2234 1454.48 96.2234 1445.75 Q96.2234 1437 99.2789 1432.42 Q102.358 1427.81 108.168 1427.81 Z\" fill=\"#000000\" fill-rule=\"evenodd\" fill-opacity=\"1\" /><path clip-path=\"url(#clip330)\" d=\"M138.33 1431.51 Q134.719 1431.51 132.89 1435.08 Q131.084 1438.62 131.084 1445.75 Q131.084 1452.86 132.89 1456.42 Q134.719 1459.96 138.33 1459.96 Q141.964 1459.96 143.769 1456.42 Q145.598 1452.86 145.598 1445.75 Q145.598 1438.62 143.769 1435.08 Q141.964 1431.51 138.33 1431.51 M138.33 1427.81 Q144.14 1427.81 147.195 1432.42 Q150.274 1437 150.274 1445.75 Q150.274 1454.48 147.195 1459.08 Q144.14 1463.67 138.33 1463.67 Q132.519 1463.67 129.441 1459.08 Q126.385 1454.48 126.385 1445.75 Q126.385 1437 129.441 1432.42 Q132.519 1427.81 138.33 1427.81 Z\" fill=\"#000000\" fill-rule=\"evenodd\" fill-opacity=\"1\" /><path clip-path=\"url(#clip330)\" d=\"M63.9319 1092.08 Q60.3208 1092.08 58.4921 1095.64 Q56.6865 1099.19 56.6865 1106.32 Q56.6865 1113.42 58.4921 1116.99 Q60.3208 1120.53 63.9319 1120.53 Q67.5661 1120.53 69.3717 1116.99 Q71.2004 1113.42 71.2004 1106.32 Q71.2004 1099.19 69.3717 1095.64 Q67.5661 1092.08 63.9319 1092.08 M63.9319 1088.38 Q69.742 1088.38 72.7976 1092.98 Q75.8763 1097.57 75.8763 1106.32 Q75.8763 1115.04 72.7976 1119.65 Q69.742 1124.23 63.9319 1124.23 Q58.1217 1124.23 55.043 1119.65 Q51.9875 1115.04 51.9875 1106.32 Q51.9875 1097.57 55.043 1092.98 Q58.1217 1088.38 63.9319 1088.38 Z\" fill=\"#000000\" fill-rule=\"evenodd\" fill-opacity=\"1\" /><path clip-path=\"url(#clip330)\" d=\"M84.0938 1117.68 L88.978 1117.68 L88.978 1123.56 L84.0938 1123.56 L84.0938 1117.68 Z\" fill=\"#000000\" fill-rule=\"evenodd\" fill-opacity=\"1\" /><path clip-path=\"url(#clip330)\" d=\"M103.191 1119.63 L119.51 1119.63 L119.51 1123.56 L97.566 1123.56 L97.566 1119.63 Q100.228 1116.87 104.811 1112.24 Q109.418 1107.59 110.598 1106.25 Q112.844 1103.72 113.723 1101.99 Q114.626 1100.23 114.626 1098.54 Q114.626 1095.78 112.682 1094.05 Q110.76 1092.31 107.658 1092.31 Q105.459 1092.31 103.006 1093.07 Q100.575 1093.84 97.7974 1095.39 L97.7974 1090.67 Q100.621 1089.53 103.075 1088.95 Q105.529 1088.38 107.566 1088.38 Q112.936 1088.38 116.131 1091.06 Q119.325 1093.75 119.325 1098.24 Q119.325 1100.37 118.515 1102.29 Q117.728 1104.19 115.621 1106.78 Q115.043 1107.45 111.941 1110.67 Q108.839 1113.86 103.191 1119.63 Z\" fill=\"#000000\" fill-rule=\"evenodd\" fill-opacity=\"1\" /><path clip-path=\"url(#clip330)\" d=\"M129.371 1089 L147.728 1089 L147.728 1092.94 L133.654 1092.94 L133.654 1101.41 Q134.672 1101.06 135.691 1100.9 Q136.709 1100.71 137.728 1100.71 Q143.515 1100.71 146.894 1103.89 Q150.274 1107.06 150.274 1112.47 Q150.274 1118.05 146.802 1121.15 Q143.33 1124.23 137.01 1124.23 Q134.834 1124.23 132.566 1123.86 Q130.32 1123.49 127.913 1122.75 L127.913 1118.05 Q129.996 1119.19 132.219 1119.74 Q134.441 1120.3 136.918 1120.3 Q140.922 1120.3 143.26 1118.19 Q145.598 1116.08 145.598 1112.47 Q145.598 1108.86 143.26 1106.76 Q140.922 1104.65 136.918 1104.65 Q135.043 1104.65 133.168 1105.07 Q131.316 1105.48 129.371 1106.36 L129.371 1089 Z\" fill=\"#000000\" fill-rule=\"evenodd\" fill-opacity=\"1\" /><path clip-path=\"url(#clip330)\" d=\"M62.9365 752.645 Q59.3254 752.645 57.4967 756.209 Q55.6912 759.751 55.6912 766.881 Q55.6912 773.987 57.4967 777.552 Q59.3254 781.094 62.9365 781.094 Q66.5707 781.094 68.3763 777.552 Q70.205 773.987 70.205 766.881 Q70.205 759.751 68.3763 756.209 Q66.5707 752.645 62.9365 752.645 M62.9365 748.941 Q68.7467 748.941 71.8022 753.547 Q74.8809 758.131 74.8809 766.881 Q74.8809 775.608 71.8022 780.214 Q68.7467 784.797 62.9365 784.797 Q57.1264 784.797 54.0477 780.214 Q50.9921 775.608 50.9921 766.881 Q50.9921 758.131 54.0477 753.547 Q57.1264 748.941 62.9365 748.941 Z\" fill=\"#000000\" fill-rule=\"evenodd\" fill-opacity=\"1\" /><path clip-path=\"url(#clip330)\" d=\"M83.0984 778.246 L87.9827 778.246 L87.9827 784.126 L83.0984 784.126 L83.0984 778.246 Z\" fill=\"#000000\" fill-rule=\"evenodd\" fill-opacity=\"1\" /><path clip-path=\"url(#clip330)\" d=\"M98.2141 749.566 L116.57 749.566 L116.57 753.501 L102.496 753.501 L102.496 761.973 Q103.515 761.626 104.534 761.464 Q105.552 761.279 106.571 761.279 Q112.358 761.279 115.737 764.45 Q119.117 767.621 119.117 773.038 Q119.117 778.617 115.645 781.719 Q112.172 784.797 105.853 784.797 Q103.677 784.797 101.409 784.427 Q99.1632 784.057 96.7558 783.316 L96.7558 778.617 Q98.8391 779.751 101.061 780.307 Q103.284 780.862 105.76 780.862 Q109.765 780.862 112.103 778.756 Q114.441 776.649 114.441 773.038 Q114.441 769.427 112.103 767.321 Q109.765 765.214 105.76 765.214 Q103.885 765.214 102.01 765.631 Q100.159 766.047 98.2141 766.927 L98.2141 749.566 Z\" fill=\"#000000\" fill-rule=\"evenodd\" fill-opacity=\"1\" /><path clip-path=\"url(#clip330)\" d=\"M138.33 752.645 Q134.719 752.645 132.89 756.209 Q131.084 759.751 131.084 766.881 Q131.084 773.987 132.89 777.552 Q134.719 781.094 138.33 781.094 Q141.964 781.094 143.769 777.552 Q145.598 773.987 145.598 766.881 Q145.598 759.751 143.769 756.209 Q141.964 752.645 138.33 752.645 M138.33 748.941 Q144.14 748.941 147.195 753.547 Q150.274 758.131 150.274 766.881 Q150.274 775.608 147.195 780.214 Q144.14 784.797 138.33 784.797 Q132.519 784.797 129.441 780.214 Q126.385 775.608 126.385 766.881 Q126.385 758.131 129.441 753.547 Q132.519 748.941 138.33 748.941 Z\" fill=\"#000000\" fill-rule=\"evenodd\" fill-opacity=\"1\" /><path clip-path=\"url(#clip330)\" d=\"M63.9319 413.21 Q60.3208 413.21 58.4921 416.775 Q56.6865 420.316 56.6865 427.446 Q56.6865 434.552 58.4921 438.117 Q60.3208 441.659 63.9319 441.659 Q67.5661 441.659 69.3717 438.117 Q71.2004 434.552 71.2004 427.446 Q71.2004 420.316 69.3717 416.775 Q67.5661 413.21 63.9319 413.21 M63.9319 409.506 Q69.742 409.506 72.7976 414.113 Q75.8763 418.696 75.8763 427.446 Q75.8763 436.173 72.7976 440.779 Q69.742 445.362 63.9319 445.362 Q58.1217 445.362 55.043 440.779 Q51.9875 436.173 51.9875 427.446 Q51.9875 418.696 55.043 414.113 Q58.1217 409.506 63.9319 409.506 Z\" fill=\"#000000\" fill-rule=\"evenodd\" fill-opacity=\"1\" /><path clip-path=\"url(#clip330)\" d=\"M84.0938 438.812 L88.978 438.812 L88.978 444.691 L84.0938 444.691 L84.0938 438.812 Z\" fill=\"#000000\" fill-rule=\"evenodd\" fill-opacity=\"1\" /><path clip-path=\"url(#clip330)\" d=\"M97.9826 410.131 L120.205 410.131 L120.205 412.122 L107.658 444.691 L102.774 444.691 L114.58 414.066 L97.9826 414.066 L97.9826 410.131 Z\" fill=\"#000000\" fill-rule=\"evenodd\" fill-opacity=\"1\" /><path clip-path=\"url(#clip330)\" d=\"M129.371 410.131 L147.728 410.131 L147.728 414.066 L133.654 414.066 L133.654 422.538 Q134.672 422.191 135.691 422.029 Q136.709 421.844 137.728 421.844 Q143.515 421.844 146.894 425.015 Q150.274 428.187 150.274 433.603 Q150.274 439.182 146.802 442.284 Q143.33 445.362 137.01 445.362 Q134.834 445.362 132.566 444.992 Q130.32 444.622 127.913 443.881 L127.913 439.182 Q129.996 440.316 132.219 440.872 Q134.441 441.427 136.918 441.427 Q140.922 441.427 143.26 439.321 Q145.598 437.214 145.598 433.603 Q145.598 429.992 143.26 427.886 Q140.922 425.779 136.918 425.779 Q135.043 425.779 133.168 426.196 Q131.316 426.613 129.371 427.492 L129.371 410.131 Z\" fill=\"#000000\" fill-rule=\"evenodd\" fill-opacity=\"1\" /><path clip-path=\"url(#clip330)\" d=\"M53.7467 101.321 L61.3856 101.321 L61.3856 74.9555 L53.0754 76.6222 L53.0754 72.3629 L61.3393 70.6963 L66.0152 70.6963 L66.0152 101.321 L73.654 101.321 L73.654 105.256 L53.7467 105.256 L53.7467 101.321 Z\" fill=\"#000000\" fill-rule=\"evenodd\" fill-opacity=\"1\" /><path clip-path=\"url(#clip330)\" d=\"M83.0984 99.3767 L87.9827 99.3767 L87.9827 105.256 L83.0984 105.256 L83.0984 99.3767 Z\" fill=\"#000000\" fill-rule=\"evenodd\" fill-opacity=\"1\" /><path clip-path=\"url(#clip330)\" d=\"M108.168 73.775 Q104.557 73.775 102.728 77.3398 Q100.922 80.8814 100.922 88.011 Q100.922 95.1174 102.728 98.6822 Q104.557 102.224 108.168 102.224 Q111.802 102.224 113.608 98.6822 Q115.436 95.1174 115.436 88.011 Q115.436 80.8814 113.608 77.3398 Q111.802 73.775 108.168 73.775 M108.168 70.0713 Q113.978 70.0713 117.033 74.6777 Q120.112 79.261 120.112 88.011 Q120.112 96.7378 117.033 101.344 Q113.978 105.928 108.168 105.928 Q102.358 105.928 99.2789 101.344 Q96.2234 96.7378 96.2234 88.011 Q96.2234 79.261 99.2789 74.6777 Q102.358 70.0713 108.168 70.0713 Z\" fill=\"#000000\" fill-rule=\"evenodd\" fill-opacity=\"1\" /><path clip-path=\"url(#clip330)\" d=\"M138.33 73.775 Q134.719 73.775 132.89 77.3398 Q131.084 80.8814 131.084 88.011 Q131.084 95.1174 132.89 98.6822 Q134.719 102.224 138.33 102.224 Q141.964 102.224 143.769 98.6822 Q145.598 95.1174 145.598 88.011 Q145.598 80.8814 143.769 77.3398 Q141.964 73.775 138.33 73.775 M138.33 70.0713 Q144.14 70.0713 147.195 74.6777 Q150.274 79.261 150.274 88.011 Q150.274 96.7378 147.195 101.344 Q144.14 105.928 138.33 105.928 Q132.519 105.928 129.441 101.344 Q126.385 96.7378 126.385 88.011 Q126.385 79.261 129.441 74.6777 Q132.519 70.0713 138.33 70.0713 Z\" fill=\"#000000\" fill-rule=\"evenodd\" fill-opacity=\"1\" /><polyline clip-path=\"url(#clip332)\" style=\"stroke:#009af9; stroke-linecap:butt; stroke-linejoin:round; stroke-width:4; stroke-opacity:1; fill:none\" points=\"\n",
       "  247.59,1445.72 267.549,1445.72 452.107,1445.72 563.019,1445.72 656.793,1445.72 758.658,1445.72 852.569,1445.72 902.91,1445.72 953.251,1445.72 967.833,1445.72 \n",
       "  982.414,1445.72 996.995,1445.72 1011.58,1437.52 1026.16,1394.6 1040.74,1352.35 1055.32,1310.76 1069.9,1269.82 1121.73,1129.25 1173.57,996.014 1219.02,884.759 \n",
       "  1264.47,778.366 1314.03,667.542 1363.58,561.758 1413.43,460.09 1463.28,362.869 1518.4,260.211 1573.51,162.29 1599.73,117.273 1625.95,87.9763 1652.17,87.9763 \n",
       "  1678.39,87.9763 1732.92,87.9763 1787.45,87.9763 1833.35,87.9763 1879.25,87.9763 1991.32,87.9763 2096.68,87.9763 2265.46,87.9763 2291.44,87.9763 \n",
       "  \"/>\n",
       "<polyline clip-path=\"url(#clip332)\" style=\"stroke:#e26f46; stroke-linecap:butt; stroke-linejoin:round; stroke-width:4; stroke-opacity:1; fill:none\" points=\"\n",
       "  247.59,971.874 267.549,951.256 452.107,747.182 563.019,611.564 656.793,488.203 707.726,417.538 758.658,344.1 805.614,273.798 852.569,200.858 877.74,160.619 \n",
       "  902.91,119.555 915.496,98.7049 928.081,87.9763 940.666,87.9763 953.251,87.9763 982.414,87.9763 1011.58,87.9763 1026.16,87.9763 1040.74,87.9763 1048.03,87.9763 \n",
       "  1055.32,87.9763 1062.61,92.8691 1069.9,114.543 1095.82,192.722 1121.73,272.715 1147.65,354.587 1173.57,438.403 1219.02,590.314 1264.47,748.831 1314.03,929.701 \n",
       "  1363.58,1119.57 1388.51,1218.69 1413.43,1320.35 1425.89,1372.17 1438.36,1424.66 1444.59,1445.72 1450.82,1445.72 1457.05,1445.72 1463.28,1445.72 1490.84,1445.72 \n",
       "  1518.4,1445.72 1545.95,1445.72 1573.51,1445.72 1625.95,1445.72 1678.39,1445.72 1787.45,1445.72 1879.25,1445.72 1991.32,1445.72 2096.68,1445.72 2265.46,1445.72 \n",
       "  2291.44,1445.72 \n",
       "  \"/>\n",
       "<path clip-path=\"url(#clip330)\" d=\"\n",
       "M1987.39 250.738 L2280.54 250.738 L2280.54 95.2176 L1987.39 95.2176  Z\n",
       "  \" fill=\"#ffffff\" fill-rule=\"evenodd\" fill-opacity=\"1\"/>\n",
       "<polyline clip-path=\"url(#clip330)\" style=\"stroke:#000000; stroke-linecap:butt; stroke-linejoin:round; stroke-width:4; stroke-opacity:1; fill:none\" points=\"\n",
       "  1987.39,250.738 2280.54,250.738 2280.54,95.2176 1987.39,95.2176 1987.39,250.738 \n",
       "  \"/>\n",
       "<polyline clip-path=\"url(#clip330)\" style=\"stroke:#009af9; stroke-linecap:butt; stroke-linejoin:round; stroke-width:4; stroke-opacity:1; fill:none\" points=\"\n",
       "  2011.46,147.058 2155.89,147.058 \n",
       "  \"/>\n",
       "<path clip-path=\"url(#clip330)\" d=\"M2193.81 166.745 Q2192 171.375 2190.29 172.787 Q2188.58 174.199 2185.71 174.199 L2182.3 174.199 L2182.3 170.634 L2184.8 170.634 Q2186.56 170.634 2187.53 169.8 Q2188.51 168.967 2189.69 165.865 L2190.45 163.921 L2179.97 138.412 L2184.48 138.412 L2192.58 158.689 L2200.68 138.412 L2205.2 138.412 L2193.81 166.745 Z\" fill=\"#000000\" fill-rule=\"evenodd\" fill-opacity=\"1\" /><path clip-path=\"url(#clip330)\" d=\"M2212.49 160.402 L2220.13 160.402 L2220.13 134.037 L2211.82 135.703 L2211.82 131.444 L2220.08 129.778 L2224.76 129.778 L2224.76 160.402 L2232.4 160.402 L2232.4 164.338 L2212.49 164.338 L2212.49 160.402 Z\" fill=\"#000000\" fill-rule=\"evenodd\" fill-opacity=\"1\" /><polyline clip-path=\"url(#clip330)\" style=\"stroke:#e26f46; stroke-linecap:butt; stroke-linejoin:round; stroke-width:4; stroke-opacity:1; fill:none\" points=\"\n",
       "  2011.46,198.898 2155.89,198.898 \n",
       "  \"/>\n",
       "<path clip-path=\"url(#clip330)\" d=\"M2193.81 218.585 Q2192 223.215 2190.29 224.627 Q2188.58 226.039 2185.71 226.039 L2182.3 226.039 L2182.3 222.474 L2184.8 222.474 Q2186.56 222.474 2187.53 221.64 Q2188.51 220.807 2189.69 217.705 L2190.45 215.761 L2179.97 190.252 L2184.48 190.252 L2192.58 210.529 L2200.68 190.252 L2205.2 190.252 L2193.81 218.585 Z\" fill=\"#000000\" fill-rule=\"evenodd\" fill-opacity=\"1\" /><path clip-path=\"url(#clip330)\" d=\"M2215.71 212.242 L2232.03 212.242 L2232.03 216.178 L2210.08 216.178 L2210.08 212.242 Q2212.74 209.488 2217.33 204.858 Q2221.93 200.205 2223.11 198.863 Q2225.36 196.34 2226.24 194.604 Q2227.14 192.844 2227.14 191.155 Q2227.14 188.4 2225.2 186.664 Q2223.28 184.928 2220.17 184.928 Q2217.97 184.928 2215.52 185.692 Q2213.09 186.455 2210.31 188.006 L2210.31 183.284 Q2213.14 182.15 2215.59 181.571 Q2218.04 180.993 2220.08 180.993 Q2225.45 180.993 2228.65 183.678 Q2231.84 186.363 2231.84 190.854 Q2231.84 192.983 2231.03 194.905 Q2230.24 196.803 2228.14 199.395 Q2227.56 200.067 2224.46 203.284 Q2221.35 206.479 2215.71 212.242 Z\" fill=\"#000000\" fill-rule=\"evenodd\" fill-opacity=\"1\" /></svg>\n"
      ]
     },
     "execution_count": 14,
     "metadata": {},
     "output_type": "execute_result"
    }
   ],
   "source": [
    "plot!(probl(lambda =>5/10,w_2=>1/2),.01,.99)"
   ]
  },
  {
   "cell_type": "markdown",
   "id": "6244238e-3231-4f33-ae34-e201db4cbe6c",
   "metadata": {},
   "source": [
    "To figure out sellers' profits, notice that the seller doesn't really care which type of employee he or she hires because they are both equally productive.  There is no real reason to discriminate between the two types.\n",
    "\n",
    "To be specific this means that the seller will earn their profit as long as at least one worker applies.  As we described above, if a worker has type $h$ they apply with probability $\\pi_h$, if they have type $l$ the probability they apply is $\\pi_l$.  Then any particular worker applies to the firm with probability $\\lambda\\pi_h+(1-\\lambda)\\pi_l$.  One way to put this is that a worker applies to the firm 1 with probability $Q_1(w_1,w_2) = \\lambda\\pi_h+(1-\\lambda)\\pi_l$."
   ]
  },
  {
   "cell_type": "code",
   "execution_count": 15,
   "id": "ace01013-5a34-4874-8b4a-3906efe3a89d",
   "metadata": {},
   "outputs": [
    {
     "data": {
      "text/latex": [
       "$\\begin{equation*}\\lambda \\max\\left(0, \\min\\left(1, \\frac{\\lambda w_{2} + 2 w_{1} - 2 w_{2}}{\\lambda \\left(w_{1} + w_{2}\\right)}\\right)\\right) + \\left(1 - \\lambda\\right) \\max\\left(0, \\min\\left(1, \\frac{- 2 \\lambda w_{1} \\max\\left(0, \\min\\left(1, \\frac{\\lambda w_{2} + 2 w_{1} - 2 w_{2}}{\\lambda \\left(w_{1} + w_{2}\\right)}\\right)\\right) + 2 \\lambda w_{1} - 2 \\lambda w_{2} \\max\\left(0, \\min\\left(1, \\frac{\\lambda w_{2} + 2 w_{1} - 2 w_{2}}{\\lambda \\left(w_{1} + w_{2}\\right)}\\right)\\right) - \\lambda w_{2} + w_{2}}{\\lambda w_{1} - 3 \\lambda w_{2} - w_{1} + 3 w_{2}}\\right)\\right)\\end{equation*}$\n"
      ],
      "text/plain": [
       "λ⋅Max(0, Min(1, (lambda*w_2 + 2*w_1 - 2*w_2)/(lambda*(w_1 + w_2)))) + (1 - λ)⋅\n",
       "Max(0, Min(1, (-2*lambda*w_1*Max(0, Min(1, (lambda*w_2 + 2*w_1 - 2*w_2)/(lambd\n",
       "a*(w_1 + w_2)))) + 2*lambda*w_1 - 2*lambda*w_2*Max(0, Min(1, (lambda*w_2 + 2*w\n",
       "_1 - 2*w_2)/(lambda*(w_1 + w_2)))) - lambda*w_2 + w_2)/(lambda*w_1 - 3*lambda*\n",
       "w_2 - w_1 + 3*w_2)))"
      ]
     },
     "execution_count": 15,
     "metadata": {},
     "output_type": "execute_result"
    }
   ],
   "source": [
    "Q1 = lambda*probh+(1-lambda)*probl"
   ]
  },
  {
   "cell_type": "code",
   "execution_count": 16,
   "id": "23a4d6ca-a68b-4693-972e-b412604ff510",
   "metadata": {},
   "outputs": [
    {
     "data": {
      "image/svg+xml": [
       "<?xml version=\"1.0\" encoding=\"utf-8\"?>\n",
       "<svg xmlns=\"http://www.w3.org/2000/svg\" xmlns:xlink=\"http://www.w3.org/1999/xlink\" width=\"600\" height=\"400\" viewBox=\"0 0 2400 1600\">\n",
       "<defs>\n",
       "  <clipPath id=\"clip370\">\n",
       "    <rect x=\"0\" y=\"0\" width=\"2400\" height=\"1600\"/>\n",
       "  </clipPath>\n",
       "</defs>\n",
       "<path clip-path=\"url(#clip370)\" d=\"\n",
       "M0 1600 L2400 1600 L2400 0 L0 0  Z\n",
       "  \" fill=\"#ffffff\" fill-rule=\"evenodd\" fill-opacity=\"1\"/>\n",
       "<defs>\n",
       "  <clipPath id=\"clip371\">\n",
       "    <rect x=\"480\" y=\"0\" width=\"1681\" height=\"1600\"/>\n",
       "  </clipPath>\n",
       "</defs>\n",
       "<path clip-path=\"url(#clip370)\" d=\"\n",
       "M186.274 1486.45 L2352.76 1486.45 L2352.76 47.2441 L186.274 47.2441  Z\n",
       "  \" fill=\"#ffffff\" fill-rule=\"evenodd\" fill-opacity=\"1\"/>\n",
       "<defs>\n",
       "  <clipPath id=\"clip372\">\n",
       "    <rect x=\"186\" y=\"47\" width=\"2167\" height=\"1440\"/>\n",
       "  </clipPath>\n",
       "</defs>\n",
       "<polyline clip-path=\"url(#clip372)\" style=\"stroke:#000000; stroke-linecap:butt; stroke-linejoin:round; stroke-width:2; stroke-opacity:0.1; fill:none\" points=\"\n",
       "  226.734,1486.45 226.734,47.2441 \n",
       "  \"/>\n",
       "<polyline clip-path=\"url(#clip372)\" style=\"stroke:#000000; stroke-linecap:butt; stroke-linejoin:round; stroke-width:2; stroke-opacity:0.1; fill:none\" points=\"\n",
       "  748.124,1486.45 748.124,47.2441 \n",
       "  \"/>\n",
       "<polyline clip-path=\"url(#clip372)\" style=\"stroke:#000000; stroke-linecap:butt; stroke-linejoin:round; stroke-width:2; stroke-opacity:0.1; fill:none\" points=\"\n",
       "  1269.51,1486.45 1269.51,47.2441 \n",
       "  \"/>\n",
       "<polyline clip-path=\"url(#clip372)\" style=\"stroke:#000000; stroke-linecap:butt; stroke-linejoin:round; stroke-width:2; stroke-opacity:0.1; fill:none\" points=\"\n",
       "  1790.91,1486.45 1790.91,47.2441 \n",
       "  \"/>\n",
       "<polyline clip-path=\"url(#clip372)\" style=\"stroke:#000000; stroke-linecap:butt; stroke-linejoin:round; stroke-width:2; stroke-opacity:0.1; fill:none\" points=\"\n",
       "  2312.3,1486.45 2312.3,47.2441 \n",
       "  \"/>\n",
       "<polyline clip-path=\"url(#clip370)\" style=\"stroke:#000000; stroke-linecap:butt; stroke-linejoin:round; stroke-width:4; stroke-opacity:1; fill:none\" points=\"\n",
       "  186.274,1486.45 2352.76,1486.45 \n",
       "  \"/>\n",
       "<polyline clip-path=\"url(#clip370)\" style=\"stroke:#000000; stroke-linecap:butt; stroke-linejoin:round; stroke-width:4; stroke-opacity:1; fill:none\" points=\"\n",
       "  226.734,1486.45 226.734,1467.55 \n",
       "  \"/>\n",
       "<polyline clip-path=\"url(#clip370)\" style=\"stroke:#000000; stroke-linecap:butt; stroke-linejoin:round; stroke-width:4; stroke-opacity:1; fill:none\" points=\"\n",
       "  748.124,1486.45 748.124,1467.55 \n",
       "  \"/>\n",
       "<polyline clip-path=\"url(#clip370)\" style=\"stroke:#000000; stroke-linecap:butt; stroke-linejoin:round; stroke-width:4; stroke-opacity:1; fill:none\" points=\"\n",
       "  1269.51,1486.45 1269.51,1467.55 \n",
       "  \"/>\n",
       "<polyline clip-path=\"url(#clip370)\" style=\"stroke:#000000; stroke-linecap:butt; stroke-linejoin:round; stroke-width:4; stroke-opacity:1; fill:none\" points=\"\n",
       "  1790.91,1486.45 1790.91,1467.55 \n",
       "  \"/>\n",
       "<polyline clip-path=\"url(#clip370)\" style=\"stroke:#000000; stroke-linecap:butt; stroke-linejoin:round; stroke-width:4; stroke-opacity:1; fill:none\" points=\"\n",
       "  2312.3,1486.45 2312.3,1467.55 \n",
       "  \"/>\n",
       "<path clip-path=\"url(#clip370)\" d=\"M189.037 1517.37 Q185.426 1517.37 183.598 1520.93 Q181.792 1524.47 181.792 1531.6 Q181.792 1538.71 183.598 1542.27 Q185.426 1545.82 189.037 1545.82 Q192.672 1545.82 194.477 1542.27 Q196.306 1538.71 196.306 1531.6 Q196.306 1524.47 194.477 1520.93 Q192.672 1517.37 189.037 1517.37 M189.037 1513.66 Q194.848 1513.66 197.903 1518.27 Q200.982 1522.85 200.982 1531.6 Q200.982 1540.33 197.903 1544.94 Q194.848 1549.52 189.037 1549.52 Q183.227 1549.52 180.149 1544.94 Q177.093 1540.33 177.093 1531.6 Q177.093 1522.85 180.149 1518.27 Q183.227 1513.66 189.037 1513.66 Z\" fill=\"#000000\" fill-rule=\"evenodd\" fill-opacity=\"1\" /><path clip-path=\"url(#clip370)\" d=\"M209.199 1542.97 L214.084 1542.97 L214.084 1548.85 L209.199 1548.85 L209.199 1542.97 Z\" fill=\"#000000\" fill-rule=\"evenodd\" fill-opacity=\"1\" /><path clip-path=\"url(#clip370)\" d=\"M234.269 1517.37 Q230.657 1517.37 228.829 1520.93 Q227.023 1524.47 227.023 1531.6 Q227.023 1538.71 228.829 1542.27 Q230.657 1545.82 234.269 1545.82 Q237.903 1545.82 239.708 1542.27 Q241.537 1538.71 241.537 1531.6 Q241.537 1524.47 239.708 1520.93 Q237.903 1517.37 234.269 1517.37 M234.269 1513.66 Q240.079 1513.66 243.134 1518.27 Q246.213 1522.85 246.213 1531.6 Q246.213 1540.33 243.134 1544.94 Q240.079 1549.52 234.269 1549.52 Q228.458 1549.52 225.38 1544.94 Q222.324 1540.33 222.324 1531.6 Q222.324 1522.85 225.38 1518.27 Q228.458 1513.66 234.269 1513.66 Z\" fill=\"#000000\" fill-rule=\"evenodd\" fill-opacity=\"1\" /><path clip-path=\"url(#clip370)\" d=\"M264.43 1517.37 Q260.819 1517.37 258.991 1520.93 Q257.185 1524.47 257.185 1531.6 Q257.185 1538.71 258.991 1542.27 Q260.819 1545.82 264.43 1545.82 Q268.065 1545.82 269.87 1542.27 Q271.699 1538.71 271.699 1531.6 Q271.699 1524.47 269.87 1520.93 Q268.065 1517.37 264.43 1517.37 M264.43 1513.66 Q270.241 1513.66 273.296 1518.27 Q276.375 1522.85 276.375 1531.6 Q276.375 1540.33 273.296 1544.94 Q270.241 1549.52 264.43 1549.52 Q258.62 1549.52 255.542 1544.94 Q252.486 1540.33 252.486 1531.6 Q252.486 1522.85 255.542 1518.27 Q258.62 1513.66 264.43 1513.66 Z\" fill=\"#000000\" fill-rule=\"evenodd\" fill-opacity=\"1\" /><path clip-path=\"url(#clip370)\" d=\"M710.926 1517.37 Q707.314 1517.37 705.486 1520.93 Q703.68 1524.47 703.68 1531.6 Q703.68 1538.71 705.486 1542.27 Q707.314 1545.82 710.926 1545.82 Q714.56 1545.82 716.365 1542.27 Q718.194 1538.71 718.194 1531.6 Q718.194 1524.47 716.365 1520.93 Q714.56 1517.37 710.926 1517.37 M710.926 1513.66 Q716.736 1513.66 719.791 1518.27 Q722.87 1522.85 722.87 1531.6 Q722.87 1540.33 719.791 1544.94 Q716.736 1549.52 710.926 1549.52 Q705.115 1549.52 702.037 1544.94 Q698.981 1540.33 698.981 1531.6 Q698.981 1522.85 702.037 1518.27 Q705.115 1513.66 710.926 1513.66 Z\" fill=\"#000000\" fill-rule=\"evenodd\" fill-opacity=\"1\" /><path clip-path=\"url(#clip370)\" d=\"M731.087 1542.97 L735.972 1542.97 L735.972 1548.85 L731.087 1548.85 L731.087 1542.97 Z\" fill=\"#000000\" fill-rule=\"evenodd\" fill-opacity=\"1\" /><path clip-path=\"url(#clip370)\" d=\"M750.185 1544.91 L766.504 1544.91 L766.504 1548.85 L744.56 1548.85 L744.56 1544.91 Q747.222 1542.16 751.805 1537.53 Q756.411 1532.88 757.592 1531.53 Q759.837 1529.01 760.717 1527.27 Q761.62 1525.51 761.62 1523.82 Q761.62 1521.07 759.675 1519.33 Q757.754 1517.6 754.652 1517.6 Q752.453 1517.6 749.999 1518.36 Q747.569 1519.13 744.791 1520.68 L744.791 1515.95 Q747.615 1514.82 750.069 1514.24 Q752.523 1513.66 754.56 1513.66 Q759.93 1513.66 763.124 1516.35 Q766.319 1519.03 766.319 1523.52 Q766.319 1525.65 765.509 1527.57 Q764.722 1529.47 762.615 1532.07 Q762.036 1532.74 758.935 1535.95 Q755.833 1539.15 750.185 1544.91 Z\" fill=\"#000000\" fill-rule=\"evenodd\" fill-opacity=\"1\" /><path clip-path=\"url(#clip370)\" d=\"M776.365 1514.29 L794.721 1514.29 L794.721 1518.22 L780.647 1518.22 L780.647 1526.7 Q781.666 1526.35 782.684 1526.19 Q783.703 1526 784.721 1526 Q790.508 1526 793.888 1529.17 Q797.268 1532.34 797.268 1537.76 Q797.268 1543.34 793.795 1546.44 Q790.323 1549.52 784.004 1549.52 Q781.828 1549.52 779.559 1549.15 Q777.314 1548.78 774.907 1548.04 L774.907 1543.34 Q776.99 1544.47 779.212 1545.03 Q781.434 1545.58 783.911 1545.58 Q787.916 1545.58 790.254 1543.48 Q792.592 1541.37 792.592 1537.76 Q792.592 1534.15 790.254 1532.04 Q787.916 1529.94 783.911 1529.94 Q782.036 1529.94 780.161 1530.35 Q778.309 1530.77 776.365 1531.65 L776.365 1514.29 Z\" fill=\"#000000\" fill-rule=\"evenodd\" fill-opacity=\"1\" /><path clip-path=\"url(#clip370)\" d=\"M1231.82 1517.37 Q1228.21 1517.37 1226.38 1520.93 Q1224.57 1524.47 1224.57 1531.6 Q1224.57 1538.71 1226.38 1542.27 Q1228.21 1545.82 1231.82 1545.82 Q1235.45 1545.82 1237.26 1542.27 Q1239.09 1538.71 1239.09 1531.6 Q1239.09 1524.47 1237.26 1520.93 Q1235.45 1517.37 1231.82 1517.37 M1231.82 1513.66 Q1237.63 1513.66 1240.68 1518.27 Q1243.76 1522.85 1243.76 1531.6 Q1243.76 1540.33 1240.68 1544.94 Q1237.63 1549.52 1231.82 1549.52 Q1226.01 1549.52 1222.93 1544.94 Q1219.87 1540.33 1219.87 1531.6 Q1219.87 1522.85 1222.93 1518.27 Q1226.01 1513.66 1231.82 1513.66 Z\" fill=\"#000000\" fill-rule=\"evenodd\" fill-opacity=\"1\" /><path clip-path=\"url(#clip370)\" d=\"M1251.98 1542.97 L1256.86 1542.97 L1256.86 1548.85 L1251.98 1548.85 L1251.98 1542.97 Z\" fill=\"#000000\" fill-rule=\"evenodd\" fill-opacity=\"1\" /><path clip-path=\"url(#clip370)\" d=\"M1267.1 1514.29 L1285.45 1514.29 L1285.45 1518.22 L1271.38 1518.22 L1271.38 1526.7 Q1272.4 1526.35 1273.42 1526.19 Q1274.43 1526 1275.45 1526 Q1281.24 1526 1284.62 1529.17 Q1288 1532.34 1288 1537.76 Q1288 1543.34 1284.53 1546.44 Q1281.05 1549.52 1274.73 1549.52 Q1272.56 1549.52 1270.29 1549.15 Q1268.05 1548.78 1265.64 1548.04 L1265.64 1543.34 Q1267.72 1544.47 1269.94 1545.03 Q1272.17 1545.58 1274.64 1545.58 Q1278.65 1545.58 1280.98 1543.48 Q1283.32 1541.37 1283.32 1537.76 Q1283.32 1534.15 1280.98 1532.04 Q1278.65 1529.94 1274.64 1529.94 Q1272.77 1529.94 1270.89 1530.35 Q1269.04 1530.77 1267.1 1531.65 L1267.1 1514.29 Z\" fill=\"#000000\" fill-rule=\"evenodd\" fill-opacity=\"1\" /><path clip-path=\"url(#clip370)\" d=\"M1307.21 1517.37 Q1303.6 1517.37 1301.77 1520.93 Q1299.97 1524.47 1299.97 1531.6 Q1299.97 1538.71 1301.77 1542.27 Q1303.6 1545.82 1307.21 1545.82 Q1310.85 1545.82 1312.65 1542.27 Q1314.48 1538.71 1314.48 1531.6 Q1314.48 1524.47 1312.65 1520.93 Q1310.85 1517.37 1307.21 1517.37 M1307.21 1513.66 Q1313.02 1513.66 1316.08 1518.27 Q1319.16 1522.85 1319.16 1531.6 Q1319.16 1540.33 1316.08 1544.94 Q1313.02 1549.52 1307.21 1549.52 Q1301.4 1549.52 1298.32 1544.94 Q1295.27 1540.33 1295.27 1531.6 Q1295.27 1522.85 1298.32 1518.27 Q1301.4 1513.66 1307.21 1513.66 Z\" fill=\"#000000\" fill-rule=\"evenodd\" fill-opacity=\"1\" /><path clip-path=\"url(#clip370)\" d=\"M1753.71 1517.37 Q1750.1 1517.37 1748.27 1520.93 Q1746.46 1524.47 1746.46 1531.6 Q1746.46 1538.71 1748.27 1542.27 Q1750.1 1545.82 1753.71 1545.82 Q1757.34 1545.82 1759.15 1542.27 Q1760.98 1538.71 1760.98 1531.6 Q1760.98 1524.47 1759.15 1520.93 Q1757.34 1517.37 1753.71 1517.37 M1753.71 1513.66 Q1759.52 1513.66 1762.57 1518.27 Q1765.65 1522.85 1765.65 1531.6 Q1765.65 1540.33 1762.57 1544.94 Q1759.52 1549.52 1753.71 1549.52 Q1747.9 1549.52 1744.82 1544.94 Q1741.76 1540.33 1741.76 1531.6 Q1741.76 1522.85 1744.82 1518.27 Q1747.9 1513.66 1753.71 1513.66 Z\" fill=\"#000000\" fill-rule=\"evenodd\" fill-opacity=\"1\" /><path clip-path=\"url(#clip370)\" d=\"M1773.87 1542.97 L1778.75 1542.97 L1778.75 1548.85 L1773.87 1548.85 L1773.87 1542.97 Z\" fill=\"#000000\" fill-rule=\"evenodd\" fill-opacity=\"1\" /><path clip-path=\"url(#clip370)\" d=\"M1787.76 1514.29 L1809.98 1514.29 L1809.98 1516.28 L1797.43 1548.85 L1792.55 1548.85 L1804.35 1518.22 L1787.76 1518.22 L1787.76 1514.29 Z\" fill=\"#000000\" fill-rule=\"evenodd\" fill-opacity=\"1\" /><path clip-path=\"url(#clip370)\" d=\"M1819.15 1514.29 L1837.5 1514.29 L1837.5 1518.22 L1823.43 1518.22 L1823.43 1526.7 Q1824.45 1526.35 1825.47 1526.19 Q1826.48 1526 1827.5 1526 Q1833.29 1526 1836.67 1529.17 Q1840.05 1532.34 1840.05 1537.76 Q1840.05 1543.34 1836.58 1546.44 Q1833.1 1549.52 1826.78 1549.52 Q1824.61 1549.52 1822.34 1549.15 Q1820.1 1548.78 1817.69 1548.04 L1817.69 1543.34 Q1819.77 1544.47 1821.99 1545.03 Q1824.22 1545.58 1826.69 1545.58 Q1830.7 1545.58 1833.03 1543.48 Q1835.37 1541.37 1835.37 1537.76 Q1835.37 1534.15 1833.03 1532.04 Q1830.7 1529.94 1826.69 1529.94 Q1824.82 1529.94 1822.94 1530.35 Q1821.09 1530.77 1819.15 1531.65 L1819.15 1514.29 Z\" fill=\"#000000\" fill-rule=\"evenodd\" fill-opacity=\"1\" /><path clip-path=\"url(#clip370)\" d=\"M2264.37 1544.91 L2272.01 1544.91 L2272.01 1518.55 L2263.7 1520.21 L2263.7 1515.95 L2271.96 1514.29 L2276.64 1514.29 L2276.64 1544.91 L2284.28 1544.91 L2284.28 1548.85 L2264.37 1548.85 L2264.37 1544.91 Z\" fill=\"#000000\" fill-rule=\"evenodd\" fill-opacity=\"1\" /><path clip-path=\"url(#clip370)\" d=\"M2293.72 1542.97 L2298.6 1542.97 L2298.6 1548.85 L2293.72 1548.85 L2293.72 1542.97 Z\" fill=\"#000000\" fill-rule=\"evenodd\" fill-opacity=\"1\" /><path clip-path=\"url(#clip370)\" d=\"M2318.79 1517.37 Q2315.18 1517.37 2313.35 1520.93 Q2311.54 1524.47 2311.54 1531.6 Q2311.54 1538.71 2313.35 1542.27 Q2315.18 1545.82 2318.79 1545.82 Q2322.42 1545.82 2324.23 1542.27 Q2326.06 1538.71 2326.06 1531.6 Q2326.06 1524.47 2324.23 1520.93 Q2322.42 1517.37 2318.79 1517.37 M2318.79 1513.66 Q2324.6 1513.66 2327.65 1518.27 Q2330.73 1522.85 2330.73 1531.6 Q2330.73 1540.33 2327.65 1544.94 Q2324.6 1549.52 2318.79 1549.52 Q2312.98 1549.52 2309.9 1544.94 Q2306.84 1540.33 2306.84 1531.6 Q2306.84 1522.85 2309.9 1518.27 Q2312.98 1513.66 2318.79 1513.66 Z\" fill=\"#000000\" fill-rule=\"evenodd\" fill-opacity=\"1\" /><path clip-path=\"url(#clip370)\" d=\"M2348.95 1517.37 Q2345.34 1517.37 2343.51 1520.93 Q2341.71 1524.47 2341.71 1531.6 Q2341.71 1538.71 2343.51 1542.27 Q2345.34 1545.82 2348.95 1545.82 Q2352.59 1545.82 2354.39 1542.27 Q2356.22 1538.71 2356.22 1531.6 Q2356.22 1524.47 2354.39 1520.93 Q2352.59 1517.37 2348.95 1517.37 M2348.95 1513.66 Q2354.76 1513.66 2357.82 1518.27 Q2360.9 1522.85 2360.9 1531.6 Q2360.9 1540.33 2357.82 1544.94 Q2354.76 1549.52 2348.95 1549.52 Q2343.14 1549.52 2340.06 1544.94 Q2337.01 1540.33 2337.01 1531.6 Q2337.01 1522.85 2340.06 1518.27 Q2343.14 1513.66 2348.95 1513.66 Z\" fill=\"#000000\" fill-rule=\"evenodd\" fill-opacity=\"1\" /><polyline clip-path=\"url(#clip372)\" style=\"stroke:#000000; stroke-linecap:butt; stroke-linejoin:round; stroke-width:2; stroke-opacity:0.1; fill:none\" points=\"\n",
       "  186.274,1445.72 2352.76,1445.72 \n",
       "  \"/>\n",
       "<polyline clip-path=\"url(#clip372)\" style=\"stroke:#000000; stroke-linecap:butt; stroke-linejoin:round; stroke-width:2; stroke-opacity:0.1; fill:none\" points=\"\n",
       "  186.274,1106.28 2352.76,1106.28 \n",
       "  \"/>\n",
       "<polyline clip-path=\"url(#clip372)\" style=\"stroke:#000000; stroke-linecap:butt; stroke-linejoin:round; stroke-width:2; stroke-opacity:0.1; fill:none\" points=\"\n",
       "  186.274,766.846 2352.76,766.846 \n",
       "  \"/>\n",
       "<polyline clip-path=\"url(#clip372)\" style=\"stroke:#000000; stroke-linecap:butt; stroke-linejoin:round; stroke-width:2; stroke-opacity:0.1; fill:none\" points=\"\n",
       "  186.274,427.411 2352.76,427.411 \n",
       "  \"/>\n",
       "<polyline clip-path=\"url(#clip372)\" style=\"stroke:#000000; stroke-linecap:butt; stroke-linejoin:round; stroke-width:2; stroke-opacity:0.1; fill:none\" points=\"\n",
       "  186.274,87.9763 2352.76,87.9763 \n",
       "  \"/>\n",
       "<polyline clip-path=\"url(#clip370)\" style=\"stroke:#000000; stroke-linecap:butt; stroke-linejoin:round; stroke-width:4; stroke-opacity:1; fill:none\" points=\"\n",
       "  186.274,1486.45 186.274,47.2441 \n",
       "  \"/>\n",
       "<polyline clip-path=\"url(#clip370)\" style=\"stroke:#000000; stroke-linecap:butt; stroke-linejoin:round; stroke-width:4; stroke-opacity:1; fill:none\" points=\"\n",
       "  186.274,1445.72 205.172,1445.72 \n",
       "  \"/>\n",
       "<polyline clip-path=\"url(#clip370)\" style=\"stroke:#000000; stroke-linecap:butt; stroke-linejoin:round; stroke-width:4; stroke-opacity:1; fill:none\" points=\"\n",
       "  186.274,1106.28 205.172,1106.28 \n",
       "  \"/>\n",
       "<polyline clip-path=\"url(#clip370)\" style=\"stroke:#000000; stroke-linecap:butt; stroke-linejoin:round; stroke-width:4; stroke-opacity:1; fill:none\" points=\"\n",
       "  186.274,766.846 205.172,766.846 \n",
       "  \"/>\n",
       "<polyline clip-path=\"url(#clip370)\" style=\"stroke:#000000; stroke-linecap:butt; stroke-linejoin:round; stroke-width:4; stroke-opacity:1; fill:none\" points=\"\n",
       "  186.274,427.411 205.172,427.411 \n",
       "  \"/>\n",
       "<polyline clip-path=\"url(#clip370)\" style=\"stroke:#000000; stroke-linecap:butt; stroke-linejoin:round; stroke-width:4; stroke-opacity:1; fill:none\" points=\"\n",
       "  186.274,87.9763 205.172,87.9763 \n",
       "  \"/>\n",
       "<path clip-path=\"url(#clip370)\" d=\"M62.9365 1431.51 Q59.3254 1431.51 57.4967 1435.08 Q55.6912 1438.62 55.6912 1445.75 Q55.6912 1452.86 57.4967 1456.42 Q59.3254 1459.96 62.9365 1459.96 Q66.5707 1459.96 68.3763 1456.42 Q70.205 1452.86 70.205 1445.75 Q70.205 1438.62 68.3763 1435.08 Q66.5707 1431.51 62.9365 1431.51 M62.9365 1427.81 Q68.7467 1427.81 71.8022 1432.42 Q74.8809 1437 74.8809 1445.75 Q74.8809 1454.48 71.8022 1459.08 Q68.7467 1463.67 62.9365 1463.67 Q57.1264 1463.67 54.0477 1459.08 Q50.9921 1454.48 50.9921 1445.75 Q50.9921 1437 54.0477 1432.42 Q57.1264 1427.81 62.9365 1427.81 Z\" fill=\"#000000\" fill-rule=\"evenodd\" fill-opacity=\"1\" /><path clip-path=\"url(#clip370)\" d=\"M83.0984 1457.12 L87.9827 1457.12 L87.9827 1463 L83.0984 1463 L83.0984 1457.12 Z\" fill=\"#000000\" fill-rule=\"evenodd\" fill-opacity=\"1\" /><path clip-path=\"url(#clip370)\" d=\"M108.168 1431.51 Q104.557 1431.51 102.728 1435.08 Q100.922 1438.62 100.922 1445.75 Q100.922 1452.86 102.728 1456.42 Q104.557 1459.96 108.168 1459.96 Q111.802 1459.96 113.608 1456.42 Q115.436 1452.86 115.436 1445.75 Q115.436 1438.62 113.608 1435.08 Q111.802 1431.51 108.168 1431.51 M108.168 1427.81 Q113.978 1427.81 117.033 1432.42 Q120.112 1437 120.112 1445.75 Q120.112 1454.48 117.033 1459.08 Q113.978 1463.67 108.168 1463.67 Q102.358 1463.67 99.2789 1459.08 Q96.2234 1454.48 96.2234 1445.75 Q96.2234 1437 99.2789 1432.42 Q102.358 1427.81 108.168 1427.81 Z\" fill=\"#000000\" fill-rule=\"evenodd\" fill-opacity=\"1\" /><path clip-path=\"url(#clip370)\" d=\"M138.33 1431.51 Q134.719 1431.51 132.89 1435.08 Q131.084 1438.62 131.084 1445.75 Q131.084 1452.86 132.89 1456.42 Q134.719 1459.96 138.33 1459.96 Q141.964 1459.96 143.769 1456.42 Q145.598 1452.86 145.598 1445.75 Q145.598 1438.62 143.769 1435.08 Q141.964 1431.51 138.33 1431.51 M138.33 1427.81 Q144.14 1427.81 147.195 1432.42 Q150.274 1437 150.274 1445.75 Q150.274 1454.48 147.195 1459.08 Q144.14 1463.67 138.33 1463.67 Q132.519 1463.67 129.441 1459.08 Q126.385 1454.48 126.385 1445.75 Q126.385 1437 129.441 1432.42 Q132.519 1427.81 138.33 1427.81 Z\" fill=\"#000000\" fill-rule=\"evenodd\" fill-opacity=\"1\" /><path clip-path=\"url(#clip370)\" d=\"M63.9319 1092.08 Q60.3208 1092.08 58.4921 1095.64 Q56.6865 1099.19 56.6865 1106.32 Q56.6865 1113.42 58.4921 1116.99 Q60.3208 1120.53 63.9319 1120.53 Q67.5661 1120.53 69.3717 1116.99 Q71.2004 1113.42 71.2004 1106.32 Q71.2004 1099.19 69.3717 1095.64 Q67.5661 1092.08 63.9319 1092.08 M63.9319 1088.38 Q69.742 1088.38 72.7976 1092.98 Q75.8763 1097.57 75.8763 1106.32 Q75.8763 1115.04 72.7976 1119.65 Q69.742 1124.23 63.9319 1124.23 Q58.1217 1124.23 55.043 1119.65 Q51.9875 1115.04 51.9875 1106.32 Q51.9875 1097.57 55.043 1092.98 Q58.1217 1088.38 63.9319 1088.38 Z\" fill=\"#000000\" fill-rule=\"evenodd\" fill-opacity=\"1\" /><path clip-path=\"url(#clip370)\" d=\"M84.0938 1117.68 L88.978 1117.68 L88.978 1123.56 L84.0938 1123.56 L84.0938 1117.68 Z\" fill=\"#000000\" fill-rule=\"evenodd\" fill-opacity=\"1\" /><path clip-path=\"url(#clip370)\" d=\"M103.191 1119.63 L119.51 1119.63 L119.51 1123.56 L97.566 1123.56 L97.566 1119.63 Q100.228 1116.87 104.811 1112.24 Q109.418 1107.59 110.598 1106.25 Q112.844 1103.72 113.723 1101.99 Q114.626 1100.23 114.626 1098.54 Q114.626 1095.78 112.682 1094.05 Q110.76 1092.31 107.658 1092.31 Q105.459 1092.31 103.006 1093.07 Q100.575 1093.84 97.7974 1095.39 L97.7974 1090.67 Q100.621 1089.53 103.075 1088.95 Q105.529 1088.38 107.566 1088.38 Q112.936 1088.38 116.131 1091.06 Q119.325 1093.75 119.325 1098.24 Q119.325 1100.37 118.515 1102.29 Q117.728 1104.19 115.621 1106.78 Q115.043 1107.45 111.941 1110.67 Q108.839 1113.86 103.191 1119.63 Z\" fill=\"#000000\" fill-rule=\"evenodd\" fill-opacity=\"1\" /><path clip-path=\"url(#clip370)\" d=\"M129.371 1089 L147.728 1089 L147.728 1092.94 L133.654 1092.94 L133.654 1101.41 Q134.672 1101.06 135.691 1100.9 Q136.709 1100.71 137.728 1100.71 Q143.515 1100.71 146.894 1103.89 Q150.274 1107.06 150.274 1112.47 Q150.274 1118.05 146.802 1121.15 Q143.33 1124.23 137.01 1124.23 Q134.834 1124.23 132.566 1123.86 Q130.32 1123.49 127.913 1122.75 L127.913 1118.05 Q129.996 1119.19 132.219 1119.74 Q134.441 1120.3 136.918 1120.3 Q140.922 1120.3 143.26 1118.19 Q145.598 1116.08 145.598 1112.47 Q145.598 1108.86 143.26 1106.76 Q140.922 1104.65 136.918 1104.65 Q135.043 1104.65 133.168 1105.07 Q131.316 1105.48 129.371 1106.36 L129.371 1089 Z\" fill=\"#000000\" fill-rule=\"evenodd\" fill-opacity=\"1\" /><path clip-path=\"url(#clip370)\" d=\"M62.9365 752.645 Q59.3254 752.645 57.4967 756.209 Q55.6912 759.751 55.6912 766.881 Q55.6912 773.987 57.4967 777.552 Q59.3254 781.094 62.9365 781.094 Q66.5707 781.094 68.3763 777.552 Q70.205 773.987 70.205 766.881 Q70.205 759.751 68.3763 756.209 Q66.5707 752.645 62.9365 752.645 M62.9365 748.941 Q68.7467 748.941 71.8022 753.547 Q74.8809 758.131 74.8809 766.881 Q74.8809 775.608 71.8022 780.214 Q68.7467 784.797 62.9365 784.797 Q57.1264 784.797 54.0477 780.214 Q50.9921 775.608 50.9921 766.881 Q50.9921 758.131 54.0477 753.547 Q57.1264 748.941 62.9365 748.941 Z\" fill=\"#000000\" fill-rule=\"evenodd\" fill-opacity=\"1\" /><path clip-path=\"url(#clip370)\" d=\"M83.0984 778.246 L87.9827 778.246 L87.9827 784.126 L83.0984 784.126 L83.0984 778.246 Z\" fill=\"#000000\" fill-rule=\"evenodd\" fill-opacity=\"1\" /><path clip-path=\"url(#clip370)\" d=\"M98.2141 749.566 L116.57 749.566 L116.57 753.501 L102.496 753.501 L102.496 761.973 Q103.515 761.626 104.534 761.464 Q105.552 761.279 106.571 761.279 Q112.358 761.279 115.737 764.45 Q119.117 767.621 119.117 773.038 Q119.117 778.617 115.645 781.719 Q112.172 784.797 105.853 784.797 Q103.677 784.797 101.409 784.427 Q99.1632 784.057 96.7558 783.316 L96.7558 778.617 Q98.8391 779.751 101.061 780.307 Q103.284 780.862 105.76 780.862 Q109.765 780.862 112.103 778.756 Q114.441 776.649 114.441 773.038 Q114.441 769.427 112.103 767.321 Q109.765 765.214 105.76 765.214 Q103.885 765.214 102.01 765.631 Q100.159 766.047 98.2141 766.927 L98.2141 749.566 Z\" fill=\"#000000\" fill-rule=\"evenodd\" fill-opacity=\"1\" /><path clip-path=\"url(#clip370)\" d=\"M138.33 752.645 Q134.719 752.645 132.89 756.209 Q131.084 759.751 131.084 766.881 Q131.084 773.987 132.89 777.552 Q134.719 781.094 138.33 781.094 Q141.964 781.094 143.769 777.552 Q145.598 773.987 145.598 766.881 Q145.598 759.751 143.769 756.209 Q141.964 752.645 138.33 752.645 M138.33 748.941 Q144.14 748.941 147.195 753.547 Q150.274 758.131 150.274 766.881 Q150.274 775.608 147.195 780.214 Q144.14 784.797 138.33 784.797 Q132.519 784.797 129.441 780.214 Q126.385 775.608 126.385 766.881 Q126.385 758.131 129.441 753.547 Q132.519 748.941 138.33 748.941 Z\" fill=\"#000000\" fill-rule=\"evenodd\" fill-opacity=\"1\" /><path clip-path=\"url(#clip370)\" d=\"M63.9319 413.21 Q60.3208 413.21 58.4921 416.775 Q56.6865 420.316 56.6865 427.446 Q56.6865 434.552 58.4921 438.117 Q60.3208 441.659 63.9319 441.659 Q67.5661 441.659 69.3717 438.117 Q71.2004 434.552 71.2004 427.446 Q71.2004 420.316 69.3717 416.775 Q67.5661 413.21 63.9319 413.21 M63.9319 409.506 Q69.742 409.506 72.7976 414.113 Q75.8763 418.696 75.8763 427.446 Q75.8763 436.173 72.7976 440.779 Q69.742 445.362 63.9319 445.362 Q58.1217 445.362 55.043 440.779 Q51.9875 436.173 51.9875 427.446 Q51.9875 418.696 55.043 414.113 Q58.1217 409.506 63.9319 409.506 Z\" fill=\"#000000\" fill-rule=\"evenodd\" fill-opacity=\"1\" /><path clip-path=\"url(#clip370)\" d=\"M84.0938 438.812 L88.978 438.812 L88.978 444.691 L84.0938 444.691 L84.0938 438.812 Z\" fill=\"#000000\" fill-rule=\"evenodd\" fill-opacity=\"1\" /><path clip-path=\"url(#clip370)\" d=\"M97.9826 410.131 L120.205 410.131 L120.205 412.122 L107.658 444.691 L102.774 444.691 L114.58 414.066 L97.9826 414.066 L97.9826 410.131 Z\" fill=\"#000000\" fill-rule=\"evenodd\" fill-opacity=\"1\" /><path clip-path=\"url(#clip370)\" d=\"M129.371 410.131 L147.728 410.131 L147.728 414.066 L133.654 414.066 L133.654 422.538 Q134.672 422.191 135.691 422.029 Q136.709 421.844 137.728 421.844 Q143.515 421.844 146.894 425.015 Q150.274 428.187 150.274 433.603 Q150.274 439.182 146.802 442.284 Q143.33 445.362 137.01 445.362 Q134.834 445.362 132.566 444.992 Q130.32 444.622 127.913 443.881 L127.913 439.182 Q129.996 440.316 132.219 440.872 Q134.441 441.427 136.918 441.427 Q140.922 441.427 143.26 439.321 Q145.598 437.214 145.598 433.603 Q145.598 429.992 143.26 427.886 Q140.922 425.779 136.918 425.779 Q135.043 425.779 133.168 426.196 Q131.316 426.613 129.371 427.492 L129.371 410.131 Z\" fill=\"#000000\" fill-rule=\"evenodd\" fill-opacity=\"1\" /><path clip-path=\"url(#clip370)\" d=\"M53.7467 101.321 L61.3856 101.321 L61.3856 74.9555 L53.0754 76.6222 L53.0754 72.3629 L61.3393 70.6963 L66.0152 70.6963 L66.0152 101.321 L73.654 101.321 L73.654 105.256 L53.7467 105.256 L53.7467 101.321 Z\" fill=\"#000000\" fill-rule=\"evenodd\" fill-opacity=\"1\" /><path clip-path=\"url(#clip370)\" d=\"M83.0984 99.3767 L87.9827 99.3767 L87.9827 105.256 L83.0984 105.256 L83.0984 99.3767 Z\" fill=\"#000000\" fill-rule=\"evenodd\" fill-opacity=\"1\" /><path clip-path=\"url(#clip370)\" d=\"M108.168 73.775 Q104.557 73.775 102.728 77.3398 Q100.922 80.8814 100.922 88.011 Q100.922 95.1174 102.728 98.6822 Q104.557 102.224 108.168 102.224 Q111.802 102.224 113.608 98.6822 Q115.436 95.1174 115.436 88.011 Q115.436 80.8814 113.608 77.3398 Q111.802 73.775 108.168 73.775 M108.168 70.0713 Q113.978 70.0713 117.033 74.6777 Q120.112 79.261 120.112 88.011 Q120.112 96.7378 117.033 101.344 Q113.978 105.928 108.168 105.928 Q102.358 105.928 99.2789 101.344 Q96.2234 96.7378 96.2234 88.011 Q96.2234 79.261 99.2789 74.6777 Q102.358 70.0713 108.168 70.0713 Z\" fill=\"#000000\" fill-rule=\"evenodd\" fill-opacity=\"1\" /><path clip-path=\"url(#clip370)\" d=\"M138.33 73.775 Q134.719 73.775 132.89 77.3398 Q131.084 80.8814 131.084 88.011 Q131.084 95.1174 132.89 98.6822 Q134.719 102.224 138.33 102.224 Q141.964 102.224 143.769 98.6822 Q145.598 95.1174 145.598 88.011 Q145.598 80.8814 143.769 77.3398 Q141.964 73.775 138.33 73.775 M138.33 70.0713 Q144.14 70.0713 147.195 74.6777 Q150.274 79.261 150.274 88.011 Q150.274 96.7378 147.195 101.344 Q144.14 105.928 138.33 105.928 Q132.519 105.928 129.441 101.344 Q126.385 96.7378 126.385 88.011 Q126.385 79.261 129.441 74.6777 Q132.519 70.0713 138.33 70.0713 Z\" fill=\"#000000\" fill-rule=\"evenodd\" fill-opacity=\"1\" /><polyline clip-path=\"url(#clip372)\" style=\"stroke:#009af9; stroke-linecap:butt; stroke-linejoin:round; stroke-width:4; stroke-opacity:1; fill:none\" points=\"\n",
       "  247.59,1445.72 267.549,1445.72 452.107,1445.72 563.019,1445.72 656.793,1445.72 758.658,1445.72 852.569,1445.72 902.91,1445.72 953.251,1445.72 967.833,1445.72 \n",
       "  982.414,1445.72 996.995,1445.72 1011.58,1437.52 1026.16,1394.6 1040.74,1352.35 1055.32,1310.76 1069.9,1269.82 1121.73,1129.25 1173.57,996.014 1219.02,884.759 \n",
       "  1264.47,778.366 1314.03,667.542 1363.58,561.758 1413.43,460.09 1463.28,362.869 1518.4,260.211 1573.51,162.29 1599.73,117.273 1625.95,87.9763 1652.17,87.9763 \n",
       "  1678.39,87.9763 1732.92,87.9763 1787.45,87.9763 1833.35,87.9763 1879.25,87.9763 1991.32,87.9763 2096.68,87.9763 2265.46,87.9763 2291.44,87.9763 \n",
       "  \"/>\n",
       "<polyline clip-path=\"url(#clip372)\" style=\"stroke:#e26f46; stroke-linecap:butt; stroke-linejoin:round; stroke-width:4; stroke-opacity:1; fill:none\" points=\"\n",
       "  247.59,971.874 267.549,951.256 452.107,747.182 563.019,611.564 656.793,488.203 707.726,417.538 758.658,344.1 805.614,273.798 852.569,200.858 877.74,160.619 \n",
       "  902.91,119.555 915.496,98.7049 928.081,87.9763 940.666,87.9763 953.251,87.9763 982.414,87.9763 1011.58,87.9763 1026.16,87.9763 1040.74,87.9763 1048.03,87.9763 \n",
       "  1055.32,87.9763 1062.61,92.8691 1069.9,114.543 1095.82,192.722 1121.73,272.715 1147.65,354.587 1173.57,438.403 1219.02,590.314 1264.47,748.831 1314.03,929.701 \n",
       "  1363.58,1119.57 1388.51,1218.69 1413.43,1320.35 1425.89,1372.17 1438.36,1424.66 1444.59,1445.72 1450.82,1445.72 1457.05,1445.72 1463.28,1445.72 1490.84,1445.72 \n",
       "  1518.4,1445.72 1545.95,1445.72 1573.51,1445.72 1625.95,1445.72 1678.39,1445.72 1787.45,1445.72 1879.25,1445.72 1991.32,1445.72 2096.68,1445.72 2265.46,1445.72 \n",
       "  2291.44,1445.72 \n",
       "  \"/>\n",
       "<polyline clip-path=\"url(#clip372)\" style=\"stroke:#3da44d; stroke-linecap:butt; stroke-linejoin:round; stroke-width:4; stroke-opacity:1; fill:none\" points=\"\n",
       "  247.59,1208.79 267.549,1198.49 452.107,1096.45 563.019,1028.64 656.793,966.959 758.658,894.908 852.569,823.287 877.74,803.167 902.91,782.635 915.496,772.21 \n",
       "  928.081,766.846 940.666,766.846 953.251,766.846 967.833,766.846 982.414,766.846 996.995,766.846 1011.58,762.75 1026.16,741.289 1040.74,720.165 1048.03,709.727 \n",
       "  1055.32,699.37 1062.61,691.541 1069.9,692.181 1082.86,693.684 1095.82,695.653 1108.78,698.087 1121.73,700.985 1147.65,708.171 1173.57,717.209 1219.02,737.537 \n",
       "  1264.47,763.598 1289.25,780.242 1314.03,798.622 1338.8,818.756 1363.58,840.665 1388.51,864.519 1413.43,890.22 1425.89,903.773 1438.36,917.799 1444.59,922.27 \n",
       "  1450.82,916.244 1457.05,910.252 1463.28,904.292 1490.84,878.321 1518.4,852.964 1545.95,828.198 1573.51,804.003 1586.62,792.687 1599.73,781.494 1612.84,770.423 \n",
       "  1625.95,766.846 1652.17,766.846 1678.39,766.846 1732.92,766.846 1787.45,766.846 1833.35,766.846 1879.25,766.846 1991.32,766.846 2096.68,766.846 2265.46,766.846 \n",
       "  2291.44,766.846 \n",
       "  \"/>\n",
       "<path clip-path=\"url(#clip370)\" d=\"\n",
       "M1986.81 302.578 L2280.54 302.578 L2280.54 95.2176 L1986.81 95.2176  Z\n",
       "  \" fill=\"#ffffff\" fill-rule=\"evenodd\" fill-opacity=\"1\"/>\n",
       "<polyline clip-path=\"url(#clip370)\" style=\"stroke:#000000; stroke-linecap:butt; stroke-linejoin:round; stroke-width:4; stroke-opacity:1; fill:none\" points=\"\n",
       "  1986.81,302.578 2280.54,302.578 2280.54,95.2176 1986.81,95.2176 1986.81,302.578 \n",
       "  \"/>\n",
       "<polyline clip-path=\"url(#clip370)\" style=\"stroke:#009af9; stroke-linecap:butt; stroke-linejoin:round; stroke-width:4; stroke-opacity:1; fill:none\" points=\"\n",
       "  2010.88,147.058 2155.31,147.058 \n",
       "  \"/>\n",
       "<path clip-path=\"url(#clip370)\" d=\"M2193.23 166.745 Q2191.42 171.375 2189.71 172.787 Q2188 174.199 2185.13 174.199 L2181.72 174.199 L2181.72 170.634 L2184.22 170.634 Q2185.98 170.634 2186.96 169.8 Q2187.93 168.967 2189.11 165.865 L2189.87 163.921 L2179.39 138.412 L2183.9 138.412 L2192 158.689 L2200.1 138.412 L2204.62 138.412 L2193.23 166.745 Z\" fill=\"#000000\" fill-rule=\"evenodd\" fill-opacity=\"1\" /><path clip-path=\"url(#clip370)\" d=\"M2211.91 160.402 L2219.55 160.402 L2219.55 134.037 L2211.24 135.703 L2211.24 131.444 L2219.5 129.778 L2224.18 129.778 L2224.18 160.402 L2231.82 160.402 L2231.82 164.338 L2211.91 164.338 L2211.91 160.402 Z\" fill=\"#000000\" fill-rule=\"evenodd\" fill-opacity=\"1\" /><polyline clip-path=\"url(#clip370)\" style=\"stroke:#e26f46; stroke-linecap:butt; stroke-linejoin:round; stroke-width:4; stroke-opacity:1; fill:none\" points=\"\n",
       "  2010.88,198.898 2155.31,198.898 \n",
       "  \"/>\n",
       "<path clip-path=\"url(#clip370)\" d=\"M2193.23 218.585 Q2191.42 223.215 2189.71 224.627 Q2188 226.039 2185.13 226.039 L2181.72 226.039 L2181.72 222.474 L2184.22 222.474 Q2185.98 222.474 2186.96 221.64 Q2187.93 220.807 2189.11 217.705 L2189.87 215.761 L2179.39 190.252 L2183.9 190.252 L2192 210.529 L2200.1 190.252 L2204.62 190.252 L2193.23 218.585 Z\" fill=\"#000000\" fill-rule=\"evenodd\" fill-opacity=\"1\" /><path clip-path=\"url(#clip370)\" d=\"M2215.13 212.242 L2231.45 212.242 L2231.45 216.178 L2209.5 216.178 L2209.5 212.242 Q2212.16 209.488 2216.75 204.858 Q2221.35 200.205 2222.53 198.863 Q2224.78 196.34 2225.66 194.604 Q2226.56 192.844 2226.56 191.155 Q2226.56 188.4 2224.62 186.664 Q2222.7 184.928 2219.59 184.928 Q2217.4 184.928 2214.94 185.692 Q2212.51 186.455 2209.73 188.006 L2209.73 183.284 Q2212.56 182.15 2215.01 181.571 Q2217.47 180.993 2219.5 180.993 Q2224.87 180.993 2228.07 183.678 Q2231.26 186.363 2231.26 190.854 Q2231.26 192.983 2230.45 194.905 Q2229.66 196.803 2227.56 199.395 Q2226.98 200.067 2223.88 203.284 Q2220.78 206.479 2215.13 212.242 Z\" fill=\"#000000\" fill-rule=\"evenodd\" fill-opacity=\"1\" /><polyline clip-path=\"url(#clip370)\" style=\"stroke:#3da44d; stroke-linecap:butt; stroke-linejoin:round; stroke-width:4; stroke-opacity:1; fill:none\" points=\"\n",
       "  2010.88,250.738 2155.31,250.738 \n",
       "  \"/>\n",
       "<path clip-path=\"url(#clip370)\" d=\"M2193.23 270.425 Q2191.42 275.055 2189.71 276.467 Q2188 277.879 2185.13 277.879 L2181.72 277.879 L2181.72 274.314 L2184.22 274.314 Q2185.98 274.314 2186.96 273.48 Q2187.93 272.647 2189.11 269.545 L2189.87 267.601 L2179.39 242.092 L2183.9 242.092 L2192 262.369 L2200.1 242.092 L2204.62 242.092 L2193.23 270.425 Z\" fill=\"#000000\" fill-rule=\"evenodd\" fill-opacity=\"1\" /><path clip-path=\"url(#clip370)\" d=\"M2225.27 249.383 Q2228.62 250.101 2230.5 252.369 Q2232.4 254.638 2232.4 257.971 Q2232.4 263.087 2228.88 265.888 Q2225.36 268.689 2218.88 268.689 Q2216.7 268.689 2214.39 268.249 Q2212.09 267.832 2209.64 266.976 L2209.64 262.462 Q2211.59 263.596 2213.9 264.175 Q2216.22 264.754 2218.74 264.754 Q2223.14 264.754 2225.43 263.018 Q2227.74 261.281 2227.74 257.971 Q2227.74 254.916 2225.59 253.203 Q2223.46 251.467 2219.64 251.467 L2215.61 251.467 L2215.61 247.624 L2219.83 247.624 Q2223.28 247.624 2225.1 246.258 Q2226.93 244.87 2226.93 242.277 Q2226.93 239.615 2225.03 238.203 Q2223.16 236.768 2219.64 236.768 Q2217.72 236.768 2215.52 237.184 Q2213.32 237.601 2210.68 238.481 L2210.68 234.314 Q2213.34 233.573 2215.66 233.203 Q2218 232.833 2220.06 232.833 Q2225.38 232.833 2228.48 235.263 Q2231.59 237.67 2231.59 241.791 Q2231.59 244.661 2229.94 246.652 Q2228.3 248.62 2225.27 249.383 Z\" fill=\"#000000\" fill-rule=\"evenodd\" fill-opacity=\"1\" /></svg>\n"
      ]
     },
     "execution_count": 16,
     "metadata": {},
     "output_type": "execute_result"
    }
   ],
   "source": [
    "plot!(Q1(lambda =>5/10,w_2=>1/2),.01,.99)"
   ]
  },
  {
   "cell_type": "code",
   "execution_count": 17,
   "id": "28c451f6-acc3-4ab1-b024-e313fd5c8eee",
   "metadata": {},
   "outputs": [
    {
     "data": {
      "text/latex": [
       "$\\begin{equation*}\\left(1 - \\left(- \\lambda \\max\\left(0, \\min\\left(1, \\frac{\\lambda w_{2} + 2 w_{1} - 2 w_{2}}{\\lambda \\left(w_{1} + w_{2}\\right)}\\right)\\right) - \\left(1 - \\lambda\\right) \\max\\left(0, \\min\\left(1, \\frac{- 2 \\lambda w_{1} \\max\\left(0, \\min\\left(1, \\frac{\\lambda w_{2} + 2 w_{1} - 2 w_{2}}{\\lambda \\left(w_{1} + w_{2}\\right)}\\right)\\right) + 2 \\lambda w_{1} - 2 \\lambda w_{2} \\max\\left(0, \\min\\left(1, \\frac{\\lambda w_{2} + 2 w_{1} - 2 w_{2}}{\\lambda \\left(w_{1} + w_{2}\\right)}\\right)\\right) - \\lambda w_{2} + w_{2}}{\\lambda w_{1} - 3 \\lambda w_{2} - w_{1} + 3 w_{2}}\\right)\\right) + 1\\right)^{2}\\right) \\left(- w_{1} + y_{1}\\right)\\end{equation*}$\n"
      ],
      "text/plain": [
       "⎛                                                                             \n",
       "⎝1 - (-λ⋅Max(0, Min(1, (lambda*w_2 + 2*w_1 - 2*w_2)/(lambda*(w_1 + w_2)))) - (\n",
       "\n",
       "                                                                              \n",
       "1 - λ)⋅Max(0, Min(1, (-2*lambda*w_1*Max(0, Min(1, (lambda*w_2 + 2*w_1 - 2*w_2)\n",
       "\n",
       "                                                                              \n",
       "/(lambda*(w_1 + w_2)))) + 2*lambda*w_1 - 2*lambda*w_2*Max(0, Min(1, (lambda*w_\n",
       "\n",
       "                                                                              \n",
       "2 + 2*w_1 - 2*w_2)/(lambda*(w_1 + w_2)))) - lambda*w_2 + w_2)/(lambda*w_1 - 3*\n",
       "\n",
       "                                2⎞           \n",
       "lambda*w_2 - w_1 + 3*w_2))) + 1) ⎠⋅(-w₁ + y₁)"
      ]
     },
     "execution_count": 17,
     "metadata": {},
     "output_type": "execute_result"
    }
   ],
   "source": [
    "prof = (y_1-w_1)*(1-(1-(lambda*probh+(1-lambda)*probl))^2)"
   ]
  },
  {
   "cell_type": "code",
   "execution_count": 24,
   "id": "a6e0537f-3066-4ec1-8309-9fbdba862f97",
   "metadata": {},
   "outputs": [
    {
     "data": {
      "image/svg+xml": [
       "<?xml version=\"1.0\" encoding=\"utf-8\"?>\n",
       "<svg xmlns=\"http://www.w3.org/2000/svg\" xmlns:xlink=\"http://www.w3.org/1999/xlink\" width=\"600\" height=\"400\" viewBox=\"0 0 2400 1600\">\n",
       "<defs>\n",
       "  <clipPath id=\"clip650\">\n",
       "    <rect x=\"0\" y=\"0\" width=\"2400\" height=\"1600\"/>\n",
       "  </clipPath>\n",
       "</defs>\n",
       "<path clip-path=\"url(#clip650)\" d=\"\n",
       "M0 1600 L2400 1600 L2400 0 L0 0  Z\n",
       "  \" fill=\"#ffffff\" fill-rule=\"evenodd\" fill-opacity=\"1\"/>\n",
       "<defs>\n",
       "  <clipPath id=\"clip651\">\n",
       "    <rect x=\"480\" y=\"0\" width=\"1681\" height=\"1600\"/>\n",
       "  </clipPath>\n",
       "</defs>\n",
       "<path clip-path=\"url(#clip650)\" d=\"\n",
       "M156.598 1486.45 L2352.76 1486.45 L2352.76 47.2441 L156.598 47.2441  Z\n",
       "  \" fill=\"#ffffff\" fill-rule=\"evenodd\" fill-opacity=\"1\"/>\n",
       "<defs>\n",
       "  <clipPath id=\"clip652\">\n",
       "    <rect x=\"156\" y=\"47\" width=\"2197\" height=\"1440\"/>\n",
       "  </clipPath>\n",
       "</defs>\n",
       "<polyline clip-path=\"url(#clip652)\" style=\"stroke:#000000; stroke-linecap:butt; stroke-linejoin:round; stroke-width:2; stroke-opacity:0.1; fill:none\" points=\"\n",
       "  477.734,1486.45 477.734,47.2441 \n",
       "  \"/>\n",
       "<polyline clip-path=\"url(#clip652)\" style=\"stroke:#000000; stroke-linecap:butt; stroke-linejoin:round; stroke-width:2; stroke-opacity:0.1; fill:none\" points=\"\n",
       "  995.696,1486.45 995.696,47.2441 \n",
       "  \"/>\n",
       "<polyline clip-path=\"url(#clip652)\" style=\"stroke:#000000; stroke-linecap:butt; stroke-linejoin:round; stroke-width:2; stroke-opacity:0.1; fill:none\" points=\"\n",
       "  1513.66,1486.45 1513.66,47.2441 \n",
       "  \"/>\n",
       "<polyline clip-path=\"url(#clip652)\" style=\"stroke:#000000; stroke-linecap:butt; stroke-linejoin:round; stroke-width:2; stroke-opacity:0.1; fill:none\" points=\"\n",
       "  2031.62,1486.45 2031.62,47.2441 \n",
       "  \"/>\n",
       "<polyline clip-path=\"url(#clip650)\" style=\"stroke:#000000; stroke-linecap:butt; stroke-linejoin:round; stroke-width:4; stroke-opacity:1; fill:none\" points=\"\n",
       "  156.598,1486.45 2352.76,1486.45 \n",
       "  \"/>\n",
       "<polyline clip-path=\"url(#clip650)\" style=\"stroke:#000000; stroke-linecap:butt; stroke-linejoin:round; stroke-width:4; stroke-opacity:1; fill:none\" points=\"\n",
       "  477.734,1486.45 477.734,1467.55 \n",
       "  \"/>\n",
       "<polyline clip-path=\"url(#clip650)\" style=\"stroke:#000000; stroke-linecap:butt; stroke-linejoin:round; stroke-width:4; stroke-opacity:1; fill:none\" points=\"\n",
       "  995.696,1486.45 995.696,1467.55 \n",
       "  \"/>\n",
       "<polyline clip-path=\"url(#clip650)\" style=\"stroke:#000000; stroke-linecap:butt; stroke-linejoin:round; stroke-width:4; stroke-opacity:1; fill:none\" points=\"\n",
       "  1513.66,1486.45 1513.66,1467.55 \n",
       "  \"/>\n",
       "<polyline clip-path=\"url(#clip650)\" style=\"stroke:#000000; stroke-linecap:butt; stroke-linejoin:round; stroke-width:4; stroke-opacity:1; fill:none\" points=\"\n",
       "  2031.62,1486.45 2031.62,1467.55 \n",
       "  \"/>\n",
       "<path clip-path=\"url(#clip650)\" d=\"M455.917 1517.37 Q452.306 1517.37 450.478 1520.93 Q448.672 1524.47 448.672 1531.6 Q448.672 1538.71 450.478 1542.27 Q452.306 1545.82 455.917 1545.82 Q459.552 1545.82 461.357 1542.27 Q463.186 1538.71 463.186 1531.6 Q463.186 1524.47 461.357 1520.93 Q459.552 1517.37 455.917 1517.37 M455.917 1513.66 Q461.728 1513.66 464.783 1518.27 Q467.862 1522.85 467.862 1531.6 Q467.862 1540.33 464.783 1544.94 Q461.728 1549.52 455.917 1549.52 Q450.107 1549.52 447.029 1544.94 Q443.973 1540.33 443.973 1531.6 Q443.973 1522.85 447.029 1518.27 Q450.107 1513.66 455.917 1513.66 Z\" fill=\"#000000\" fill-rule=\"evenodd\" fill-opacity=\"1\" /><path clip-path=\"url(#clip650)\" d=\"M476.079 1542.97 L480.964 1542.97 L480.964 1548.85 L476.079 1548.85 L476.079 1542.97 Z\" fill=\"#000000\" fill-rule=\"evenodd\" fill-opacity=\"1\" /><path clip-path=\"url(#clip650)\" d=\"M495.177 1544.91 L511.496 1544.91 L511.496 1548.85 L489.552 1548.85 L489.552 1544.91 Q492.214 1542.16 496.797 1537.53 Q501.403 1532.88 502.584 1531.53 Q504.829 1529.01 505.709 1527.27 Q506.612 1525.51 506.612 1523.82 Q506.612 1521.07 504.667 1519.33 Q502.746 1517.6 499.644 1517.6 Q497.445 1517.6 494.991 1518.36 Q492.561 1519.13 489.783 1520.68 L489.783 1515.95 Q492.607 1514.82 495.061 1514.24 Q497.514 1513.66 499.552 1513.66 Q504.922 1513.66 508.116 1516.35 Q511.311 1519.03 511.311 1523.52 Q511.311 1525.65 510.501 1527.57 Q509.713 1529.47 507.607 1532.07 Q507.028 1532.74 503.926 1535.95 Q500.825 1539.15 495.177 1544.91 Z\" fill=\"#000000\" fill-rule=\"evenodd\" fill-opacity=\"1\" /><path clip-path=\"url(#clip650)\" d=\"M972.838 1517.37 Q969.226 1517.37 967.398 1520.93 Q965.592 1524.47 965.592 1531.6 Q965.592 1538.71 967.398 1542.27 Q969.226 1545.82 972.838 1545.82 Q976.472 1545.82 978.277 1542.27 Q980.106 1538.71 980.106 1531.6 Q980.106 1524.47 978.277 1520.93 Q976.472 1517.37 972.838 1517.37 M972.838 1513.66 Q978.648 1513.66 981.703 1518.27 Q984.782 1522.85 984.782 1531.6 Q984.782 1540.33 981.703 1544.94 Q978.648 1549.52 972.838 1549.52 Q967.027 1549.52 963.949 1544.94 Q960.893 1540.33 960.893 1531.6 Q960.893 1522.85 963.949 1518.27 Q967.027 1513.66 972.838 1513.66 Z\" fill=\"#000000\" fill-rule=\"evenodd\" fill-opacity=\"1\" /><path clip-path=\"url(#clip650)\" d=\"M992.999 1542.97 L997.884 1542.97 L997.884 1548.85 L992.999 1548.85 L992.999 1542.97 Z\" fill=\"#000000\" fill-rule=\"evenodd\" fill-opacity=\"1\" /><path clip-path=\"url(#clip650)\" d=\"M1020.92 1518.36 L1009.11 1536.81 L1020.92 1536.81 L1020.92 1518.36 M1019.69 1514.29 L1025.57 1514.29 L1025.57 1536.81 L1030.5 1536.81 L1030.5 1540.7 L1025.57 1540.7 L1025.57 1548.85 L1020.92 1548.85 L1020.92 1540.7 L1005.31 1540.7 L1005.31 1536.19 L1019.69 1514.29 Z\" fill=\"#000000\" fill-rule=\"evenodd\" fill-opacity=\"1\" /><path clip-path=\"url(#clip650)\" d=\"M1490.96 1517.37 Q1487.35 1517.37 1485.52 1520.93 Q1483.72 1524.47 1483.72 1531.6 Q1483.72 1538.71 1485.52 1542.27 Q1487.35 1545.82 1490.96 1545.82 Q1494.6 1545.82 1496.4 1542.27 Q1498.23 1538.71 1498.23 1531.6 Q1498.23 1524.47 1496.4 1520.93 Q1494.6 1517.37 1490.96 1517.37 M1490.96 1513.66 Q1496.77 1513.66 1499.83 1518.27 Q1502.91 1522.85 1502.91 1531.6 Q1502.91 1540.33 1499.83 1544.94 Q1496.77 1549.52 1490.96 1549.52 Q1485.15 1549.52 1482.07 1544.94 Q1479.02 1540.33 1479.02 1531.6 Q1479.02 1522.85 1482.07 1518.27 Q1485.15 1513.66 1490.96 1513.66 Z\" fill=\"#000000\" fill-rule=\"evenodd\" fill-opacity=\"1\" /><path clip-path=\"url(#clip650)\" d=\"M1511.12 1542.97 L1516.01 1542.97 L1516.01 1548.85 L1511.12 1548.85 L1511.12 1542.97 Z\" fill=\"#000000\" fill-rule=\"evenodd\" fill-opacity=\"1\" /><path clip-path=\"url(#clip650)\" d=\"M1536.77 1529.7 Q1533.62 1529.7 1531.77 1531.86 Q1529.94 1534.01 1529.94 1537.76 Q1529.94 1541.49 1531.77 1543.66 Q1533.62 1545.82 1536.77 1545.82 Q1539.92 1545.82 1541.75 1543.66 Q1543.6 1541.49 1543.6 1537.76 Q1543.6 1534.01 1541.75 1531.86 Q1539.92 1529.7 1536.77 1529.7 M1546.05 1515.05 L1546.05 1519.31 Q1544.29 1518.48 1542.49 1518.04 Q1540.71 1517.6 1538.95 1517.6 Q1534.32 1517.6 1531.86 1520.72 Q1529.43 1523.85 1529.09 1530.17 Q1530.45 1528.15 1532.51 1527.09 Q1534.57 1526 1537.05 1526 Q1542.26 1526 1545.27 1529.17 Q1548.3 1532.32 1548.3 1537.76 Q1548.3 1543.08 1545.15 1546.3 Q1542 1549.52 1536.77 1549.52 Q1530.78 1549.52 1527.6 1544.94 Q1524.43 1540.33 1524.43 1531.6 Q1524.43 1523.41 1528.32 1518.55 Q1532.21 1513.66 1538.76 1513.66 Q1540.52 1513.66 1542.3 1514.01 Q1544.11 1514.36 1546.05 1515.05 Z\" fill=\"#000000\" fill-rule=\"evenodd\" fill-opacity=\"1\" /><path clip-path=\"url(#clip650)\" d=\"M2009.05 1517.37 Q2005.44 1517.37 2003.61 1520.93 Q2001.8 1524.47 2001.8 1531.6 Q2001.8 1538.71 2003.61 1542.27 Q2005.44 1545.82 2009.05 1545.82 Q2012.68 1545.82 2014.49 1542.27 Q2016.32 1538.71 2016.32 1531.6 Q2016.32 1524.47 2014.49 1520.93 Q2012.68 1517.37 2009.05 1517.37 M2009.05 1513.66 Q2014.86 1513.66 2017.92 1518.27 Q2020.99 1522.85 2020.99 1531.6 Q2020.99 1540.33 2017.92 1544.94 Q2014.86 1549.52 2009.05 1549.52 Q2003.24 1549.52 2000.16 1544.94 Q1997.11 1540.33 1997.11 1531.6 Q1997.11 1522.85 2000.16 1518.27 Q2003.24 1513.66 2009.05 1513.66 Z\" fill=\"#000000\" fill-rule=\"evenodd\" fill-opacity=\"1\" /><path clip-path=\"url(#clip650)\" d=\"M2029.21 1542.97 L2034.1 1542.97 L2034.1 1548.85 L2029.21 1548.85 L2029.21 1542.97 Z\" fill=\"#000000\" fill-rule=\"evenodd\" fill-opacity=\"1\" /><path clip-path=\"url(#clip650)\" d=\"M2054.28 1532.44 Q2050.95 1532.44 2049.03 1534.22 Q2047.13 1536 2047.13 1539.13 Q2047.13 1542.25 2049.03 1544.03 Q2050.95 1545.82 2054.28 1545.82 Q2057.61 1545.82 2059.54 1544.03 Q2061.46 1542.23 2061.46 1539.13 Q2061.46 1536 2059.54 1534.22 Q2057.64 1532.44 2054.28 1532.44 M2049.61 1530.45 Q2046.6 1529.7 2044.91 1527.64 Q2043.24 1525.58 2043.24 1522.62 Q2043.24 1518.48 2046.18 1516.07 Q2049.14 1513.66 2054.28 1513.66 Q2059.44 1513.66 2062.38 1516.07 Q2065.32 1518.48 2065.32 1522.62 Q2065.32 1525.58 2063.63 1527.64 Q2061.97 1529.7 2058.98 1530.45 Q2062.36 1531.23 2064.24 1533.52 Q2066.13 1535.82 2066.13 1539.13 Q2066.13 1544.15 2063.05 1546.83 Q2060 1549.52 2054.28 1549.52 Q2048.56 1549.52 2045.49 1546.83 Q2042.43 1544.15 2042.43 1539.13 Q2042.43 1535.82 2044.33 1533.52 Q2046.23 1531.23 2049.61 1530.45 M2047.89 1523.06 Q2047.89 1525.75 2049.56 1527.25 Q2051.25 1528.76 2054.28 1528.76 Q2057.29 1528.76 2058.98 1527.25 Q2060.69 1525.75 2060.69 1523.06 Q2060.69 1520.38 2058.98 1518.87 Q2057.29 1517.37 2054.28 1517.37 Q2051.25 1517.37 2049.56 1518.87 Q2047.89 1520.38 2047.89 1523.06 Z\" fill=\"#000000\" fill-rule=\"evenodd\" fill-opacity=\"1\" /><polyline clip-path=\"url(#clip652)\" style=\"stroke:#000000; stroke-linecap:butt; stroke-linejoin:round; stroke-width:2; stroke-opacity:0.1; fill:none\" points=\"\n",
       "  156.598,1373.86 2352.76,1373.86 \n",
       "  \"/>\n",
       "<polyline clip-path=\"url(#clip652)\" style=\"stroke:#000000; stroke-linecap:butt; stroke-linejoin:round; stroke-width:2; stroke-opacity:0.1; fill:none\" points=\"\n",
       "  156.598,1086.45 2352.76,1086.45 \n",
       "  \"/>\n",
       "<polyline clip-path=\"url(#clip652)\" style=\"stroke:#000000; stroke-linecap:butt; stroke-linejoin:round; stroke-width:2; stroke-opacity:0.1; fill:none\" points=\"\n",
       "  156.598,799.032 2352.76,799.032 \n",
       "  \"/>\n",
       "<polyline clip-path=\"url(#clip652)\" style=\"stroke:#000000; stroke-linecap:butt; stroke-linejoin:round; stroke-width:2; stroke-opacity:0.1; fill:none\" points=\"\n",
       "  156.598,511.617 2352.76,511.617 \n",
       "  \"/>\n",
       "<polyline clip-path=\"url(#clip652)\" style=\"stroke:#000000; stroke-linecap:butt; stroke-linejoin:round; stroke-width:2; stroke-opacity:0.1; fill:none\" points=\"\n",
       "  156.598,224.202 2352.76,224.202 \n",
       "  \"/>\n",
       "<polyline clip-path=\"url(#clip650)\" style=\"stroke:#000000; stroke-linecap:butt; stroke-linejoin:round; stroke-width:4; stroke-opacity:1; fill:none\" points=\"\n",
       "  156.598,1486.45 156.598,47.2441 \n",
       "  \"/>\n",
       "<polyline clip-path=\"url(#clip650)\" style=\"stroke:#000000; stroke-linecap:butt; stroke-linejoin:round; stroke-width:4; stroke-opacity:1; fill:none\" points=\"\n",
       "  156.598,1373.86 175.496,1373.86 \n",
       "  \"/>\n",
       "<polyline clip-path=\"url(#clip650)\" style=\"stroke:#000000; stroke-linecap:butt; stroke-linejoin:round; stroke-width:4; stroke-opacity:1; fill:none\" points=\"\n",
       "  156.598,1086.45 175.496,1086.45 \n",
       "  \"/>\n",
       "<polyline clip-path=\"url(#clip650)\" style=\"stroke:#000000; stroke-linecap:butt; stroke-linejoin:round; stroke-width:4; stroke-opacity:1; fill:none\" points=\"\n",
       "  156.598,799.032 175.496,799.032 \n",
       "  \"/>\n",
       "<polyline clip-path=\"url(#clip650)\" style=\"stroke:#000000; stroke-linecap:butt; stroke-linejoin:round; stroke-width:4; stroke-opacity:1; fill:none\" points=\"\n",
       "  156.598,511.617 175.496,511.617 \n",
       "  \"/>\n",
       "<polyline clip-path=\"url(#clip650)\" style=\"stroke:#000000; stroke-linecap:butt; stroke-linejoin:round; stroke-width:4; stroke-opacity:1; fill:none\" points=\"\n",
       "  156.598,224.202 175.496,224.202 \n",
       "  \"/>\n",
       "<path clip-path=\"url(#clip650)\" d=\"M64.6495 1359.66 Q61.0384 1359.66 59.2097 1363.23 Q57.4041 1366.77 57.4041 1373.9 Q57.4041 1381 59.2097 1384.57 Q61.0384 1388.11 64.6495 1388.11 Q68.2837 1388.11 70.0892 1384.57 Q71.9179 1381 71.9179 1373.9 Q71.9179 1366.77 70.0892 1363.23 Q68.2837 1359.66 64.6495 1359.66 M64.6495 1355.96 Q70.4596 1355.96 73.5152 1360.56 Q76.5938 1365.15 76.5938 1373.9 Q76.5938 1382.62 73.5152 1387.23 Q70.4596 1391.81 64.6495 1391.81 Q58.8393 1391.81 55.7606 1387.23 Q52.7051 1382.62 52.7051 1373.9 Q52.7051 1365.15 55.7606 1360.56 Q58.8393 1355.96 64.6495 1355.96 Z\" fill=\"#000000\" fill-rule=\"evenodd\" fill-opacity=\"1\" /><path clip-path=\"url(#clip650)\" d=\"M84.8114 1385.26 L89.6956 1385.26 L89.6956 1391.14 L84.8114 1391.14 L84.8114 1385.26 Z\" fill=\"#000000\" fill-rule=\"evenodd\" fill-opacity=\"1\" /><path clip-path=\"url(#clip650)\" d=\"M100.691 1387.21 L108.33 1387.21 L108.33 1360.84 L100.02 1362.51 L100.02 1358.25 L108.283 1356.58 L112.959 1356.58 L112.959 1387.21 L120.598 1387.21 L120.598 1391.14 L100.691 1391.14 L100.691 1387.21 Z\" fill=\"#000000\" fill-rule=\"evenodd\" fill-opacity=\"1\" /><path clip-path=\"url(#clip650)\" d=\"M65.0198 1072.25 Q61.4087 1072.25 59.58 1075.81 Q57.7745 1079.35 57.7745 1086.48 Q57.7745 1093.59 59.58 1097.15 Q61.4087 1100.69 65.0198 1100.69 Q68.6541 1100.69 70.4596 1097.15 Q72.2883 1093.59 72.2883 1086.48 Q72.2883 1079.35 70.4596 1075.81 Q68.6541 1072.25 65.0198 1072.25 M65.0198 1068.54 Q70.83 1068.54 73.8855 1073.15 Q76.9642 1077.73 76.9642 1086.48 Q76.9642 1095.21 73.8855 1099.81 Q70.83 1104.4 65.0198 1104.4 Q59.2097 1104.4 56.131 1099.81 Q53.0754 1095.21 53.0754 1086.48 Q53.0754 1077.73 56.131 1073.15 Q59.2097 1068.54 65.0198 1068.54 Z\" fill=\"#000000\" fill-rule=\"evenodd\" fill-opacity=\"1\" /><path clip-path=\"url(#clip650)\" d=\"M85.1818 1097.85 L90.066 1097.85 L90.066 1103.73 L85.1818 1103.73 L85.1818 1097.85 Z\" fill=\"#000000\" fill-rule=\"evenodd\" fill-opacity=\"1\" /><path clip-path=\"url(#clip650)\" d=\"M104.279 1099.79 L120.598 1099.79 L120.598 1103.73 L98.6539 1103.73 L98.6539 1099.79 Q101.316 1097.04 105.899 1092.41 Q110.506 1087.75 111.686 1086.41 Q113.932 1083.89 114.811 1082.15 Q115.714 1080.39 115.714 1078.7 Q115.714 1075.95 113.77 1074.21 Q111.848 1072.48 108.746 1072.48 Q106.547 1072.48 104.094 1073.24 Q101.663 1074 98.8854 1075.56 L98.8854 1070.83 Q101.709 1069.7 104.163 1069.12 Q106.617 1068.54 108.654 1068.54 Q114.024 1068.54 117.219 1071.23 Q120.413 1073.91 120.413 1078.4 Q120.413 1080.53 119.603 1082.45 Q118.816 1084.35 116.709 1086.94 Q116.131 1087.62 113.029 1090.83 Q109.927 1094.03 104.279 1099.79 Z\" fill=\"#000000\" fill-rule=\"evenodd\" fill-opacity=\"1\" /><path clip-path=\"url(#clip650)\" d=\"M64.0708 784.83 Q60.4597 784.83 58.631 788.395 Q56.8254 791.937 56.8254 799.067 Q56.8254 806.173 58.631 809.738 Q60.4597 813.279 64.0708 813.279 Q67.705 813.279 69.5105 809.738 Q71.3392 806.173 71.3392 799.067 Q71.3392 791.937 69.5105 788.395 Q67.705 784.83 64.0708 784.83 M64.0708 781.127 Q69.8809 781.127 72.9365 785.733 Q76.0151 790.317 76.0151 799.067 Q76.0151 807.793 72.9365 812.4 Q69.8809 816.983 64.0708 816.983 Q58.2606 816.983 55.1819 812.4 Q52.1264 807.793 52.1264 799.067 Q52.1264 790.317 55.1819 785.733 Q58.2606 781.127 64.0708 781.127 Z\" fill=\"#000000\" fill-rule=\"evenodd\" fill-opacity=\"1\" /><path clip-path=\"url(#clip650)\" d=\"M84.2327 810.432 L89.1169 810.432 L89.1169 816.312 L84.2327 816.312 L84.2327 810.432 Z\" fill=\"#000000\" fill-rule=\"evenodd\" fill-opacity=\"1\" /><path clip-path=\"url(#clip650)\" d=\"M113.469 797.678 Q116.825 798.395 118.7 800.664 Q120.598 802.932 120.598 806.266 Q120.598 811.381 117.08 814.182 Q113.561 816.983 107.08 816.983 Q104.904 816.983 102.589 816.543 Q100.297 816.127 97.8437 815.27 L97.8437 810.756 Q99.7882 811.891 102.103 812.469 Q104.418 813.048 106.941 813.048 Q111.339 813.048 113.631 811.312 Q115.945 809.576 115.945 806.266 Q115.945 803.21 113.793 801.497 Q111.663 799.761 107.844 799.761 L103.816 799.761 L103.816 795.918 L108.029 795.918 Q111.478 795.918 113.307 794.553 Q115.135 793.164 115.135 790.571 Q115.135 787.909 113.237 786.497 Q111.362 785.062 107.844 785.062 Q105.922 785.062 103.723 785.479 Q101.524 785.895 98.8854 786.775 L98.8854 782.608 Q101.547 781.868 103.862 781.497 Q106.2 781.127 108.26 781.127 Q113.584 781.127 116.686 783.557 Q119.788 785.965 119.788 790.085 Q119.788 792.955 118.145 794.946 Q116.501 796.914 113.469 797.678 Z\" fill=\"#000000\" fill-rule=\"evenodd\" fill-opacity=\"1\" /><path clip-path=\"url(#clip650)\" d=\"M62.9365 497.415 Q59.3254 497.415 57.4967 500.98 Q55.6912 504.522 55.6912 511.651 Q55.6912 518.758 57.4967 522.323 Q59.3254 525.864 62.9365 525.864 Q66.5707 525.864 68.3763 522.323 Q70.205 518.758 70.205 511.651 Q70.205 504.522 68.3763 500.98 Q66.5707 497.415 62.9365 497.415 M62.9365 493.712 Q68.7467 493.712 71.8022 498.318 Q74.8809 502.902 74.8809 511.651 Q74.8809 520.378 71.8022 524.985 Q68.7467 529.568 62.9365 529.568 Q57.1264 529.568 54.0477 524.985 Q50.9921 520.378 50.9921 511.651 Q50.9921 502.902 54.0477 498.318 Q57.1264 493.712 62.9365 493.712 Z\" fill=\"#000000\" fill-rule=\"evenodd\" fill-opacity=\"1\" /><path clip-path=\"url(#clip650)\" d=\"M83.0984 523.017 L87.9827 523.017 L87.9827 528.897 L83.0984 528.897 L83.0984 523.017 Z\" fill=\"#000000\" fill-rule=\"evenodd\" fill-opacity=\"1\" /><path clip-path=\"url(#clip650)\" d=\"M111.015 498.411 L99.2095 516.86 L111.015 516.86 L111.015 498.411 M109.788 494.337 L115.668 494.337 L115.668 516.86 L120.598 516.86 L120.598 520.749 L115.668 520.749 L115.668 528.897 L111.015 528.897 L111.015 520.749 L95.4132 520.749 L95.4132 516.235 L109.788 494.337 Z\" fill=\"#000000\" fill-rule=\"evenodd\" fill-opacity=\"1\" /><path clip-path=\"url(#clip650)\" d=\"M64.418 210 Q60.8069 210 58.9782 213.565 Q57.1726 217.107 57.1726 224.236 Q57.1726 231.343 58.9782 234.908 Q60.8069 238.449 64.418 238.449 Q68.0522 238.449 69.8578 234.908 Q71.6865 231.343 71.6865 224.236 Q71.6865 217.107 69.8578 213.565 Q68.0522 210 64.418 210 M64.418 206.297 Q70.2281 206.297 73.2837 210.903 Q76.3624 215.486 76.3624 224.236 Q76.3624 232.963 73.2837 237.57 Q70.2281 242.153 64.418 242.153 Q58.6078 242.153 55.5291 237.57 Q52.4736 232.963 52.4736 224.236 Q52.4736 215.486 55.5291 210.903 Q58.6078 206.297 64.418 206.297 Z\" fill=\"#000000\" fill-rule=\"evenodd\" fill-opacity=\"1\" /><path clip-path=\"url(#clip650)\" d=\"M84.5799 235.602 L89.4641 235.602 L89.4641 241.482 L84.5799 241.482 L84.5799 235.602 Z\" fill=\"#000000\" fill-rule=\"evenodd\" fill-opacity=\"1\" /><path clip-path=\"url(#clip650)\" d=\"M99.6956 206.922 L118.052 206.922 L118.052 210.857 L103.978 210.857 L103.978 219.329 Q104.996 218.982 106.015 218.82 Q107.033 218.635 108.052 218.635 Q113.839 218.635 117.219 221.806 Q120.598 224.977 120.598 230.394 Q120.598 235.972 117.126 239.074 Q113.654 242.153 107.334 242.153 Q105.159 242.153 102.89 241.783 Q100.645 241.412 98.2372 240.671 L98.2372 235.972 Q100.321 237.107 102.543 237.662 Q104.765 238.218 107.242 238.218 Q111.246 238.218 113.584 236.111 Q115.922 234.005 115.922 230.394 Q115.922 226.783 113.584 224.676 Q111.246 222.57 107.242 222.57 Q105.367 222.57 103.492 222.986 Q101.64 223.403 99.6956 224.283 L99.6956 206.922 Z\" fill=\"#000000\" fill-rule=\"evenodd\" fill-opacity=\"1\" /><polyline clip-path=\"url(#clip652)\" style=\"stroke:#009af9; stroke-linecap:butt; stroke-linejoin:round; stroke-width:4; stroke-opacity:1; fill:none\" points=\"\n",
       "  218.754,442.732 228.87,431.082 238.987,419.566 332.53,319.627 426.073,232.218 482.288,186.171 538.504,145.303 586.033,114.996 633.562,88.7671 659.378,87.9763 \n",
       "  685.193,109.463 711.008,130.95 736.823,152.199 748.723,136.388 760.622,121.91 772.522,108.714 784.422,96.7496 808.221,112.997 832.02,139.017 883.051,201.108 \n",
       "  934.081,271.592 993.205,363.773 1052.33,467.661 1078.6,517.776 1104.87,570.445 1131.14,625.772 1157.41,683.868 1168.93,708.507 1180.45,701.153 1191.97,694.413 \n",
       "  1203.49,688.269 1226.53,677.701 1249.56,669.319 1274.68,662.53 1299.8,658.047 1324.92,655.731 1350.03,662.839 1400.57,704.9 1451.1,746.96 1562.84,839.967 \n",
       "  1669.16,928.461 1779.7,1020.47 1872.76,1097.93 1986.37,1192.49 2093.17,1281.39 2264.27,1423.8 2290.6,1445.72 \n",
       "  \"/>\n",
       "<path clip-path=\"url(#clip650)\" d=\"\n",
       "M1983.1 198.898 L2279.55 198.898 L2279.55 95.2176 L1983.1 95.2176  Z\n",
       "  \" fill=\"#ffffff\" fill-rule=\"evenodd\" fill-opacity=\"1\"/>\n",
       "<polyline clip-path=\"url(#clip650)\" style=\"stroke:#000000; stroke-linecap:butt; stroke-linejoin:round; stroke-width:4; stroke-opacity:1; fill:none\" points=\"\n",
       "  1983.1,198.898 2279.55,198.898 2279.55,95.2176 1983.1,95.2176 1983.1,198.898 \n",
       "  \"/>\n",
       "<polyline clip-path=\"url(#clip650)\" style=\"stroke:#009af9; stroke-linecap:butt; stroke-linejoin:round; stroke-width:4; stroke-opacity:1; fill:none\" points=\"\n",
       "  2007.5,147.058 2153.92,147.058 \n",
       "  \"/>\n",
       "<path clip-path=\"url(#clip650)\" d=\"M2192.16 166.745 Q2190.35 171.375 2188.64 172.787 Q2186.93 174.199 2184.06 174.199 L2180.65 174.199 L2180.65 170.634 L2183.15 170.634 Q2184.91 170.634 2185.89 169.8 Q2186.86 168.967 2188.04 165.865 L2188.8 163.921 L2178.32 138.412 L2182.83 138.412 L2190.93 158.689 L2199.03 138.412 L2203.55 138.412 L2192.16 166.745 Z\" fill=\"#000000\" fill-rule=\"evenodd\" fill-opacity=\"1\" /><path clip-path=\"url(#clip650)\" d=\"M2210.84 160.402 L2218.48 160.402 L2218.48 134.037 L2210.17 135.703 L2210.17 131.444 L2218.43 129.778 L2223.11 129.778 L2223.11 160.402 L2230.75 160.402 L2230.75 164.338 L2210.84 164.338 L2210.84 160.402 Z\" fill=\"#000000\" fill-rule=\"evenodd\" fill-opacity=\"1\" /></svg>\n"
      ]
     },
     "execution_count": 24,
     "metadata": {},
     "output_type": "execute_result"
    }
   ],
   "source": [
    "plot(prof(lambda => 1/2,w_2 => 2/5,y_1 => 1),0.1,.9)"
   ]
  }
 ],
 "metadata": {
  "kernelspec": {
   "display_name": "Julia 1.6.0",
   "language": "julia",
   "name": "julia-1.6"
  },
  "language_info": {
   "file_extension": ".jl",
   "mimetype": "application/julia",
   "name": "julia",
   "version": "1.6.0"
  }
 },
 "nbformat": 4,
 "nbformat_minor": 5
}
