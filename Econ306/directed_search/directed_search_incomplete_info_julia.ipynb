{
 "cells": [
  {
   "cell_type": "markdown",
   "id": "d75b2bac-a471-4640-a372-651fb18460d4",
   "metadata": {},
   "source": [
    "# Introduction\n",
    "\n",
    "This is the julia version of the directed search problem with incomplete information. Whether you use julia or sagemath or some commercially produced computer algebra system, symbolic computations are probably the only way to properly understand the subgame perfect equilibrium for this problem.\n",
    "\n",
    "We'll show below that when workers are equally productive in the two worker two firm version of the problem, then there won't be a pure strategy equilibrium in firms' wages.  It seems hard to imagine that this problem could be solved by hand, but maybe it is just my limited imagination and patience telling me this.\n",
    "\n",
    "There are two firms, 1 and 2 and two workers, each of whom applies to one and only one of the firms.  The firms earn revenues of $y_1$ and $y_2$ respectively if they are able to hire a worker. They offer wages $w_1$ and $w_2$. If only a single worker applies to a firm, the firm hires that worker.  In that case, the firm gets its revenue less the wage that it pays, the worker gets the wage.\n",
    "\n",
    "If two workers apply to the same firm, the firm will select the worker with the most desirable type.  Workers types are given by $h$ or $l$. Each firm will hire a type $h$ if one applies.  Otherwise they are happy to hire a type $l$.  In cases where two workers are considered equally good, the firm will hire each of them with probability $\\frac{1}{2}$.\n",
    "\n",
    "Firms with no applicants and workers who are not offered a job get nothing.\n",
    "\n",
    "We'll look for a symmetric subgame perect equilibrium of the directed search game in which workers of the same type use the same application strategy. Recall the basic assumption of directed search - both workers see the wage offers made by the firms and use an application strategy that depends on those wages.\n",
    "\n",
    "To make this a model of incomplete information, we'll assume that workers know their own types, but not the other worker's type.  Firms don't know the workers' types but can observe these types when the worker apply.  It is common belief that each worker is type $h$ with probability $\\lambda$.\n",
    "\n",
    "# Workers\n",
    "\n",
    "As always, to find a subgame perfect equilibrium you need to start with the last sub-game.  This is the one where workers apply.  There are two types of workers, so we want to find two mixed strategies, represented by $\\pi_h$ and $\\pi_l$, where $\\pi_j$ is the probability that a worker of type $j$ applies to firm 1 (the one offering wage $w_1$\n",
    "\n",
    "As you now know, the best way to find a mixed strategy is to write down an indifference condition.  For example, if you are a worker of type $H$, then you should expect your opponent to play in a way that makes you indifferent between your options. \n",
    "\n",
    "For a type $H$ worker, this is straightforward because the type $H$ workers don't care what type $L$ workers do.  So we can write the indifference condition as\n",
    "$$\n",
    "\\lambda \\{\\pi_h \\frac{w_1}{2} +(1-\\pi_h)w_1\\}+(1-\\lambda)w_1 =\n",
    "\\lambda \\{\\pi_h w_2 +(1-\\pi_h)\\frac{w_2}{2}\\}+(1-\\lambda)w_2\n",
    "$$\n",
    "\n",
    "We are ready to start to figure this game out using symbolics."
   ]
  },
  {
   "cell_type": "code",
   "execution_count": 1,
   "id": "090936fe-ca0a-4d3f-9dd7-8353bac29cb1",
   "metadata": {},
   "outputs": [],
   "source": [
    "using SymPy\n",
    "w_1, w_2 = symbols(\"w_1, w_2\",real=true,positive=true)\n",
    "pi_h, pi_l, y_1, y_2, lambda = symbols(\"pi_h, pi_l, y_1, y_2, lambda\")\n",
    "using Plots"
   ]
  },
  {
   "cell_type": "markdown",
   "id": "53b52a9e-27ca-48c8-aa0b-193b81e127a3",
   "metadata": {},
   "source": [
    "## Type H\n",
    "\n",
    "Since type $h$ workers are always hired ahead of typ $l$ workers, type $h$ workers don't care what type $l$ workers do.  So finding the continuation strategy involves just a trivial modification of what you would do with complete information."
   ]
  },
  {
   "cell_type": "code",
   "execution_count": 2,
   "id": "24f853ea-8b89-4fa0-84d0-9b38f77c7cc4",
   "metadata": {},
   "outputs": [
    {
     "data": {
      "text/latex": [
       "$\\begin{equation*}\\lambda \\left(\\frac{\\pi_{h} w_{1}}{2} + w_{1} \\left(1 - \\pi_{h}\\right)\\right) + w_{1} \\left(1 - \\lambda\\right)\\end{equation*}$\n"
      ],
      "text/plain": [
       "  ⎛πₕ⋅w₁              ⎞             \n",
       "λ⋅⎜───── + w₁⋅(1 - πₕ)⎟ + w₁⋅(1 - λ)\n",
       "  ⎝  2                ⎠             "
      ]
     },
     "execution_count": 2,
     "metadata": {},
     "output_type": "execute_result"
    }
   ],
   "source": [
    "lefth = lambda*(pi_h*(w_1/2)+(1-pi_h)w_1)+(1-lambda)w_1"
   ]
  },
  {
   "cell_type": "code",
   "execution_count": 3,
   "id": "e91dc950-b62e-4024-8d2b-ecc23b31d2b4",
   "metadata": {},
   "outputs": [
    {
     "data": {
      "text/latex": [
       "$\\begin{equation*}\\lambda \\left(\\pi_{h} w_{2} + \\frac{w_{2} \\left(1 - \\pi_{h}\\right)}{2}\\right) + w_{2} \\left(1 - \\lambda\\right)\\end{equation*}$\n"
      ],
      "text/plain": [
       "  ⎛        w₂⋅(1 - πₕ)⎞             \n",
       "λ⋅⎜πₕ⋅w₂ + ───────────⎟ + w₂⋅(1 - λ)\n",
       "  ⎝             2     ⎠             "
      ]
     },
     "execution_count": 3,
     "metadata": {},
     "output_type": "execute_result"
    }
   ],
   "source": [
    "righth =lambda*(pi_h*w_2+(1-pi_h)w_2/2)+(1-lambda)w_2"
   ]
  },
  {
   "cell_type": "code",
   "execution_count": 4,
   "id": "c1fa274a-8960-441a-8646-3e7313eea7c6",
   "metadata": {},
   "outputs": [
    {
     "data": {
      "text/latex": [
       "$\\begin{equation*}\\frac{\\lambda w_{2} + 2 w_{1} - 2 w_{2}}{\\lambda \\left(w_{1} + w_{2}\\right)}\\end{equation*}$\n"
      ],
      "text/plain": [
       "λ⋅w₂ + 2⋅w₁ - 2⋅w₂\n",
       "──────────────────\n",
       "   λ⋅(w₁ + w₂)    "
      ]
     },
     "execution_count": 4,
     "metadata": {},
     "output_type": "execute_result"
    }
   ],
   "source": [
    "probh_simp = solve(lefth-righth,pi_h)[1]"
   ]
  },
  {
   "cell_type": "markdown",
   "id": "e42b12c6-471d-42c4-8e28-fc9784a67714",
   "metadata": {},
   "source": [
    "The complication with this formula is that, because we want a subgame perfect equilibrium, we aren't yet sure what firms' wages will be.  The formula above could give a solution larger than 1 or less that 0, neither of which make sense here.  This is really what makes this problem so complicated to solve on paper.  In any case we can use the following trick - when a strategy is dominant, the solution for `probh_simp` will be larger than 1, similarly for a dominated strategy.  Symbolics lets us use the following trick."
   ]
  },
  {
   "cell_type": "code",
   "execution_count": 5,
   "id": "13a480d2-bc8a-4b8a-9ea7-7bd899fff846",
   "metadata": {},
   "outputs": [
    {
     "data": {
      "text/latex": [
       "$\\begin{equation*}\\max\\left(0, \\min\\left(1, \\frac{\\lambda w_{2} + 2 w_{1} - 2 w_{2}}{\\lambda \\left(w_{1} + w_{2}\\right)}\\right)\\right)\\end{equation*}$\n"
      ],
      "text/plain": [
       "Max(0, Min(1, (lambda*w_2 + 2*w_1 - 2*w_2)/(lambda*(w_1 + w_2))))"
      ]
     },
     "execution_count": 5,
     "metadata": {},
     "output_type": "execute_result"
    }
   ],
   "source": [
    "probh = max(min(probh_simp,1),0)"
   ]
  },
  {
   "cell_type": "code",
   "execution_count": null,
   "id": "974964b0-c43b-401a-990a-2e6cb55b1cbf",
   "metadata": {},
   "outputs": [],
   "source": [
    "plot(probh(w_2=>1/2,lambda=>.2),.01,.99)"
   ]
  },
  {
   "cell_type": "markdown",
   "id": "772582a5-c2af-442c-a0b4-6d732c495fc9",
   "metadata": {},
   "source": [
    "1\n",
    "\n",
    ", which is just the compete information case\n",
    "As always, it is good to check that your computations are working by looking at special cases where you already know the solution.  If you have looked at the notebook that describes the directed search game with complete information, then one thing you can do is to check what happens when $\\lambda=1$, which is just the compete information case"
   ]
  },
  {
   "cell_type": "code",
   "execution_count": null,
   "id": "f47bcb70-d1a2-488e-abd9-3cf9ced5ccff",
   "metadata": {},
   "outputs": [],
   "source": [
    "probh(lambda => 1)"
   ]
  },
  {
   "cell_type": "markdown",
   "id": "6c793d8d-a2d0-4490-aa08-416c9ddc18b0",
   "metadata": {},
   "source": [
    "That check passes, a second special case is when $w_1=w_2$:"
   ]
  },
  {
   "cell_type": "code",
   "execution_count": null,
   "id": "b818a225-392d-457c-9f8d-73682e90d34b",
   "metadata": {},
   "outputs": [],
   "source": [
    "probh(w_1 => w_2)"
   ]
  },
  {
   "cell_type": "markdown",
   "id": "8d7773b6-9c00-4001-9f1b-15f18861272b",
   "metadata": {},
   "source": [
    "## Type L\n",
    "\n",
    "For type $l$ workers the problem is more complicated because they do care what the type $h$ worker does.  If they apply to firm 1, their expected payoff is\n",
    "$$\n",
    "\\lambda(1-\\pi_h)w_1+(1-\\lambda)\\{(\\pi_l \\frac{w_1}{2})+(1-\\pi_l)w_2\\}\n",
    "$$\n",
    "while if they apply to firm 2 it is\n",
    "$$\n",
    "\\lambda\\pi_h w_2 +(1-\\lambda)\\{\\pi_l w_2 +(1-\\pi_l)\\frac{w_2}{2}\\}\n",
    "$$"
   ]
  },
  {
   "cell_type": "code",
   "execution_count": null,
   "id": "35140dea-719a-4d3e-9c98-8633a0717437",
   "metadata": {},
   "outputs": [],
   "source": [
    "leftl = lambda*(1-probh)*w_1 + (1-lambda)*(pi_l*w_1/2 +(1-pi_l)*w_2)"
   ]
  },
  {
   "cell_type": "code",
   "execution_count": null,
   "id": "7f435ab9-d253-4fd1-9282-f082e7e33241",
   "metadata": {},
   "outputs": [],
   "source": [
    "rightl = lambda*probh*w_2 +(1-lambda)*(pi_l*w_2+(1-pi_l)*w_2/2)"
   ]
  },
  {
   "cell_type": "code",
   "execution_count": null,
   "id": "13656f9e-4d44-4e1b-a2d4-4218e1e5a2b0",
   "metadata": {},
   "outputs": [],
   "source": [
    "sol = solve(leftl-rightl,pi_l)[1]"
   ]
  },
  {
   "cell_type": "code",
   "execution_count": null,
   "id": "41d35f2b-4445-4f74-a5aa-17b3bcb41da5",
   "metadata": {},
   "outputs": [],
   "source": [
    "probl = max(min(sol,1),0)"
   ]
  },
  {
   "cell_type": "code",
   "execution_count": null,
   "id": "31a0287a-d82d-4a8a-9983-f3f254c0437e",
   "metadata": {},
   "outputs": [],
   "source": [
    "\n",
    "plot(probh(lambda => .5,w_2=>.5),.01,.99)"
   ]
  },
  {
   "cell_type": "code",
   "execution_count": null,
   "id": "ba31bacf-5a6e-443c-8413-afab0e54aa09",
   "metadata": {},
   "outputs": [],
   "source": [
    "plot!(probl(lambda =>5/10,w_2=>1/2),.01,.99)"
   ]
  },
  {
   "cell_type": "markdown",
   "id": "6244238e-3231-4f33-ae34-e201db4cbe6c",
   "metadata": {},
   "source": [
    "To figure out sellers' profits, notice that the seller doesn't really care which type of employee he or she hires because they are both equally productive.  There is no real reason to discriminate between the two types.\n",
    "\n",
    "To be specific this means that the seller will earn their profit as long as at least one worker applies.  As we described above, if a worker has type $h$ they apply with probability $\\pi_h$, if they have type $l$ the probability they apply is $\\pi_l$.  Then any particular worker applies to the firm with probability $\\lambda\\pi_h+(1-\\lambda)\\pi_l$.  One way to put this is that a worker applies to the firm 1 with probability $Q_1(w_1,w_2) = \\lambda\\pi_h+(1-\\lambda)\\pi_l$."
   ]
  },
  {
   "cell_type": "code",
   "execution_count": null,
   "id": "ace01013-5a34-4874-8b4a-3906efe3a89d",
   "metadata": {},
   "outputs": [],
   "source": [
    "Q1 = lambda*probh+(1-lambda)*probl"
   ]
  },
  {
   "cell_type": "code",
   "execution_count": null,
   "id": "23a4d6ca-a68b-4693-972e-b412604ff510",
   "metadata": {},
   "outputs": [],
   "source": [
    "plot!(Q1(lambda =>5/10,w_2=>1/2),.01,.99)"
   ]
  },
  {
   "cell_type": "code",
   "execution_count": null,
   "id": "28c451f6-acc3-4ab1-b024-e313fd5c8eee",
   "metadata": {},
   "outputs": [],
   "source": [
    "prof = (y_1-w_1)*(1-(1-(lambda*probh+(1-lambda)*probl))^2)"
   ]
  },
  {
   "cell_type": "code",
   "execution_count": null,
   "id": "a6e0537f-3066-4ec1-8309-9fbdba862f97",
   "metadata": {},
   "outputs": [],
   "source": [
    "plot(prof(lambda => 1/2,w_2 => 2/5,y_1 => 1),0.1,.9)"
   ]
  }
 ],
 "metadata": {
  "kernelspec": {
   "display_name": "Julia 1.6.0",
   "language": "julia",
   "name": "julia-1.6"
  },
  "language_info": {
   "file_extension": ".jl",
   "mimetype": "application/julia",
   "name": "julia",
   "version": "1.6.0"
  }
 },
 "nbformat": 4,
 "nbformat_minor": 5
}
