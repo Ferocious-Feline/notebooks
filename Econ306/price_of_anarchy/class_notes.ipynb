{
 "cells": [
  {
   "cell_type": "code",
   "execution_count": 1,
   "id": "0476e7cb-3a6d-471c-ba0f-5ef2bea901f1",
   "metadata": {},
   "outputs": [
    {
     "data": {
      "text/plain": [
       "(beta, pi)"
      ]
     },
     "execution_count": 1,
     "metadata": {},
     "output_type": "execute_result"
    }
   ],
   "source": [
    "using SymPy\n",
    "beta, pi = symbols(\"beta,pi\")"
   ]
  },
  {
   "cell_type": "code",
   "execution_count": 2,
   "id": "3fd6468a-bcf3-4755-b904-8fe95d9f34b1",
   "metadata": {},
   "outputs": [
    {
     "data": {
      "text/latex": [
       "$\\begin{equation*}1 - 0.5 \\pi\\end{equation*}$\n"
      ],
      "text/plain": [
       "1 - 0.5⋅π"
      ]
     },
     "execution_count": 2,
     "metadata": {},
     "output_type": "execute_result"
    }
   ],
   "source": [
    "left = pi*(1/2)+(1-pi)"
   ]
  },
  {
   "cell_type": "code",
   "execution_count": 3,
   "id": "bfa30932-19ae-4ebd-b51c-7d5e305b1146",
   "metadata": {},
   "outputs": [
    {
     "data": {
      "text/latex": [
       "$\\begin{equation*}\\beta \\pi + \\frac{\\beta \\left(1 - \\pi\\right)}{2}\\end{equation*}$\n"
      ],
      "text/plain": [
       "      β⋅(1 - π)\n",
       "β⋅π + ─────────\n",
       "          2    "
      ]
     },
     "execution_count": 3,
     "metadata": {},
     "output_type": "execute_result"
    }
   ],
   "source": [
    "right = pi*beta+(1-pi)*beta/2"
   ]
  },
  {
   "cell_type": "code",
   "execution_count": 7,
   "id": "2e08366c-ab4c-41f0-ae27-10ddbb6ea5de",
   "metadata": {},
   "outputs": [
    {
     "data": {
      "text/latex": [
       "$\\begin{equation*}\\frac{2.0 - \\beta}{\\beta + 1.0}\\end{equation*}$\n"
      ],
      "text/plain": [
       "2.0 - β\n",
       "───────\n",
       "β + 1.0"
      ]
     },
     "execution_count": 7,
     "metadata": {},
     "output_type": "execute_result"
    }
   ],
   "source": [
    "sol = solve(left-right,pi)[1]"
   ]
  },
  {
   "cell_type": "code",
   "execution_count": 13,
   "id": "51229f68-7d35-4898-a28c-541458dd6dba",
   "metadata": {},
   "outputs": [
    {
     "data": {
      "text/latex": [
       "$\\begin{equation*}1.14285714285714\\end{equation*}$\n"
      ],
      "text/plain": [
       "1.14285714285714"
      ]
     },
     "execution_count": 13,
     "metadata": {},
     "output_type": "execute_result"
    }
   ],
   "source": [
    "sol(beta => .4)"
   ]
  },
  {
   "cell_type": "code",
   "execution_count": 9,
   "id": "0496d59a-1258-4276-bbfb-f1a95311a900",
   "metadata": {},
   "outputs": [
    {
     "data": {
      "text/latex": [
       "$\\begin{equation*}\\beta \\left(- \\frac{2.0 - \\beta}{\\beta + 1.0} + 1\\right)^{2} + \\frac{4.0 \\left(1 - 0.5 \\beta\\right)^{2}}{\\left(\\beta + 1.0\\right)^{2}} + \\frac{2 \\left(2.0 - \\beta\\right) \\left(\\beta + 1\\right) \\left(- \\frac{2.0 - \\beta}{\\beta + 1.0} + 1\\right)}{\\beta + 1.0}\\end{equation*}$\n"
      ],
      "text/plain": [
       "                                                            ⎛  2.0 - β    ⎞\n",
       "                 2                  2   2⋅(2.0 - β)⋅(β + 1)⋅⎜- ─────── + 1⎟\n",
       "  ⎛  2.0 - β    ⎞    4.0⋅(1 - 0.5⋅β)                        ⎝  β + 1.0    ⎠\n",
       "β⋅⎜- ─────── + 1⎟  + ──────────────── + ───────────────────────────────────\n",
       "  ⎝  β + 1.0    ⎠                2                    β + 1.0              \n",
       "                        (β + 1.0)                                          "
      ]
     },
     "execution_count": 9,
     "metadata": {},
     "output_type": "execute_result"
    }
   ],
   "source": [
    "anarchy=sol^2+2*sol*(1-sol)*(1+beta)+beta*(1-sol)^2"
   ]
  },
  {
   "cell_type": "code",
   "execution_count": 12,
   "id": "8d8ac0ec-ac9a-45ce-a726-5ec9f2a7f8a9",
   "metadata": {},
   "outputs": [
    {
     "data": {
      "text/latex": [
       "$\\begin{equation*}0.857142857142857\\end{equation*}$\n"
      ],
      "text/plain": [
       "0.857142857142857"
      ]
     },
     "execution_count": 12,
     "metadata": {},
     "output_type": "execute_result"
    }
   ],
   "source": [
    "anarchy(beta => .4)"
   ]
  },
  {
   "cell_type": "code",
   "execution_count": 16,
   "id": "0c9d7b7c-bb5c-48e4-afc0-292288e3770a",
   "metadata": {},
   "outputs": [
    {
     "data": {
      "text/latex": [
       "$\\begin{equation*}\\beta \\left(1 - \\pi\\right)^{2} + \\pi^{2} + 2 \\pi \\left(1 - \\pi\\right) \\left(\\beta + 1\\right)\\end{equation*}$\n"
      ],
      "text/plain": [
       "         2    2                      \n",
       "β⋅(1 - π)  + π  + 2⋅π⋅(1 - π)⋅(β + 1)"
      ]
     },
     "execution_count": 16,
     "metadata": {},
     "output_type": "execute_result"
    }
   ],
   "source": [
    "centralized = pi^2+2*pi*(1-pi)*(1+beta)+beta*(1-pi)^2"
   ]
  },
  {
   "cell_type": "code",
   "execution_count": 17,
   "id": "54f7bf28-d18f-4ff9-9c7e-ccbc64039a99",
   "metadata": {},
   "outputs": [
    {
     "data": {
      "image/svg+xml": [
       "<?xml version=\"1.0\" encoding=\"utf-8\"?>\n",
       "<svg xmlns=\"http://www.w3.org/2000/svg\" xmlns:xlink=\"http://www.w3.org/1999/xlink\" width=\"600\" height=\"400\" viewBox=\"0 0 2400 1600\">\n",
       "<defs>\n",
       "  <clipPath id=\"clip900\">\n",
       "    <rect x=\"0\" y=\"0\" width=\"2400\" height=\"1600\"/>\n",
       "  </clipPath>\n",
       "</defs>\n",
       "<path clip-path=\"url(#clip900)\" d=\"\n",
       "M0 1600 L2400 1600 L2400 0 L0 0  Z\n",
       "  \" fill=\"#ffffff\" fill-rule=\"evenodd\" fill-opacity=\"1\"/>\n",
       "<defs>\n",
       "  <clipPath id=\"clip901\">\n",
       "    <rect x=\"480\" y=\"0\" width=\"1681\" height=\"1600\"/>\n",
       "  </clipPath>\n",
       "</defs>\n",
       "<path clip-path=\"url(#clip900)\" d=\"\n",
       "M154.029 1486.45 L2352.76 1486.45 L2352.76 47.2441 L154.029 47.2441  Z\n",
       "  \" fill=\"#ffffff\" fill-rule=\"evenodd\" fill-opacity=\"1\"/>\n",
       "<defs>\n",
       "  <clipPath id=\"clip902\">\n",
       "    <rect x=\"154\" y=\"47\" width=\"2200\" height=\"1440\"/>\n",
       "  </clipPath>\n",
       "</defs>\n",
       "<polyline clip-path=\"url(#clip902)\" style=\"stroke:#000000; stroke-linecap:butt; stroke-linejoin:round; stroke-width:2; stroke-opacity:0.1; fill:none\" points=\"\n",
       "  449.321,1486.45 449.321,47.2441 \n",
       "  \"/>\n",
       "<polyline clip-path=\"url(#clip902)\" style=\"stroke:#000000; stroke-linecap:butt; stroke-linejoin:round; stroke-width:2; stroke-opacity:0.1; fill:none\" points=\"\n",
       "  915.449,1486.45 915.449,47.2441 \n",
       "  \"/>\n",
       "<polyline clip-path=\"url(#clip902)\" style=\"stroke:#000000; stroke-linecap:butt; stroke-linejoin:round; stroke-width:2; stroke-opacity:0.1; fill:none\" points=\"\n",
       "  1381.58,1486.45 1381.58,47.2441 \n",
       "  \"/>\n",
       "<polyline clip-path=\"url(#clip902)\" style=\"stroke:#000000; stroke-linecap:butt; stroke-linejoin:round; stroke-width:2; stroke-opacity:0.1; fill:none\" points=\"\n",
       "  1847.71,1486.45 1847.71,47.2441 \n",
       "  \"/>\n",
       "<polyline clip-path=\"url(#clip902)\" style=\"stroke:#000000; stroke-linecap:butt; stroke-linejoin:round; stroke-width:2; stroke-opacity:0.1; fill:none\" points=\"\n",
       "  2313.83,1486.45 2313.83,47.2441 \n",
       "  \"/>\n",
       "<polyline clip-path=\"url(#clip900)\" style=\"stroke:#000000; stroke-linecap:butt; stroke-linejoin:round; stroke-width:4; stroke-opacity:1; fill:none\" points=\"\n",
       "  154.029,1486.45 2352.76,1486.45 \n",
       "  \"/>\n",
       "<polyline clip-path=\"url(#clip900)\" style=\"stroke:#000000; stroke-linecap:butt; stroke-linejoin:round; stroke-width:4; stroke-opacity:1; fill:none\" points=\"\n",
       "  449.321,1486.45 449.321,1467.55 \n",
       "  \"/>\n",
       "<polyline clip-path=\"url(#clip900)\" style=\"stroke:#000000; stroke-linecap:butt; stroke-linejoin:round; stroke-width:4; stroke-opacity:1; fill:none\" points=\"\n",
       "  915.449,1486.45 915.449,1467.55 \n",
       "  \"/>\n",
       "<polyline clip-path=\"url(#clip900)\" style=\"stroke:#000000; stroke-linecap:butt; stroke-linejoin:round; stroke-width:4; stroke-opacity:1; fill:none\" points=\"\n",
       "  1381.58,1486.45 1381.58,1467.55 \n",
       "  \"/>\n",
       "<polyline clip-path=\"url(#clip900)\" style=\"stroke:#000000; stroke-linecap:butt; stroke-linejoin:round; stroke-width:4; stroke-opacity:1; fill:none\" points=\"\n",
       "  1847.71,1486.45 1847.71,1467.55 \n",
       "  \"/>\n",
       "<polyline clip-path=\"url(#clip900)\" style=\"stroke:#000000; stroke-linecap:butt; stroke-linejoin:round; stroke-width:4; stroke-opacity:1; fill:none\" points=\"\n",
       "  2313.83,1486.45 2313.83,1467.55 \n",
       "  \"/>\n",
       "<path clip-path=\"url(#clip900)\" d=\"M427.504 1517.37 Q423.893 1517.37 422.064 1520.93 Q420.259 1524.47 420.259 1531.6 Q420.259 1538.71 422.064 1542.27 Q423.893 1545.82 427.504 1545.82 Q431.138 1545.82 432.944 1542.27 Q434.773 1538.71 434.773 1531.6 Q434.773 1524.47 432.944 1520.93 Q431.138 1517.37 427.504 1517.37 M427.504 1513.66 Q433.314 1513.66 436.37 1518.27 Q439.448 1522.85 439.448 1531.6 Q439.448 1540.33 436.37 1544.94 Q433.314 1549.52 427.504 1549.52 Q421.694 1549.52 418.615 1544.94 Q415.56 1540.33 415.56 1531.6 Q415.56 1522.85 418.615 1518.27 Q421.694 1513.66 427.504 1513.66 Z\" fill=\"#000000\" fill-rule=\"evenodd\" fill-opacity=\"1\" /><path clip-path=\"url(#clip900)\" d=\"M447.666 1542.97 L452.55 1542.97 L452.55 1548.85 L447.666 1548.85 L447.666 1542.97 Z\" fill=\"#000000\" fill-rule=\"evenodd\" fill-opacity=\"1\" /><path clip-path=\"url(#clip900)\" d=\"M466.763 1544.91 L483.082 1544.91 L483.082 1548.85 L461.138 1548.85 L461.138 1544.91 Q463.8 1542.16 468.383 1537.53 Q472.99 1532.88 474.17 1531.53 Q476.416 1529.01 477.295 1527.27 Q478.198 1525.51 478.198 1523.82 Q478.198 1521.07 476.254 1519.33 Q474.333 1517.6 471.231 1517.6 Q469.032 1517.6 466.578 1518.36 Q464.147 1519.13 461.37 1520.68 L461.37 1515.95 Q464.194 1514.82 466.647 1514.24 Q469.101 1513.66 471.138 1513.66 Q476.508 1513.66 479.703 1516.35 Q482.897 1519.03 482.897 1523.52 Q482.897 1525.65 482.087 1527.57 Q481.3 1529.47 479.194 1532.07 Q478.615 1532.74 475.513 1535.95 Q472.411 1539.15 466.763 1544.91 Z\" fill=\"#000000\" fill-rule=\"evenodd\" fill-opacity=\"1\" /><path clip-path=\"url(#clip900)\" d=\"M892.591 1517.37 Q888.98 1517.37 887.151 1520.93 Q885.345 1524.47 885.345 1531.6 Q885.345 1538.71 887.151 1542.27 Q888.98 1545.82 892.591 1545.82 Q896.225 1545.82 898.03 1542.27 Q899.859 1538.71 899.859 1531.6 Q899.859 1524.47 898.03 1520.93 Q896.225 1517.37 892.591 1517.37 M892.591 1513.66 Q898.401 1513.66 901.456 1518.27 Q904.535 1522.85 904.535 1531.6 Q904.535 1540.33 901.456 1544.94 Q898.401 1549.52 892.591 1549.52 Q886.781 1549.52 883.702 1544.94 Q880.646 1540.33 880.646 1531.6 Q880.646 1522.85 883.702 1518.27 Q886.781 1513.66 892.591 1513.66 Z\" fill=\"#000000\" fill-rule=\"evenodd\" fill-opacity=\"1\" /><path clip-path=\"url(#clip900)\" d=\"M912.753 1542.97 L917.637 1542.97 L917.637 1548.85 L912.753 1548.85 L912.753 1542.97 Z\" fill=\"#000000\" fill-rule=\"evenodd\" fill-opacity=\"1\" /><path clip-path=\"url(#clip900)\" d=\"M940.669 1518.36 L928.864 1536.81 L940.669 1536.81 L940.669 1518.36 M939.442 1514.29 L945.322 1514.29 L945.322 1536.81 L950.252 1536.81 L950.252 1540.7 L945.322 1540.7 L945.322 1548.85 L940.669 1548.85 L940.669 1540.7 L925.067 1540.7 L925.067 1536.19 L939.442 1514.29 Z\" fill=\"#000000\" fill-rule=\"evenodd\" fill-opacity=\"1\" /><path clip-path=\"url(#clip900)\" d=\"M1358.88 1517.37 Q1355.27 1517.37 1353.44 1520.93 Q1351.64 1524.47 1351.64 1531.6 Q1351.64 1538.71 1353.44 1542.27 Q1355.27 1545.82 1358.88 1545.82 Q1362.52 1545.82 1364.32 1542.27 Q1366.15 1538.71 1366.15 1531.6 Q1366.15 1524.47 1364.32 1520.93 Q1362.52 1517.37 1358.88 1517.37 M1358.88 1513.66 Q1364.69 1513.66 1367.75 1518.27 Q1370.83 1522.85 1370.83 1531.6 Q1370.83 1540.33 1367.75 1544.94 Q1364.69 1549.52 1358.88 1549.52 Q1353.07 1549.52 1349.99 1544.94 Q1346.94 1540.33 1346.94 1531.6 Q1346.94 1522.85 1349.99 1518.27 Q1353.07 1513.66 1358.88 1513.66 Z\" fill=\"#000000\" fill-rule=\"evenodd\" fill-opacity=\"1\" /><path clip-path=\"url(#clip900)\" d=\"M1379.04 1542.97 L1383.93 1542.97 L1383.93 1548.85 L1379.04 1548.85 L1379.04 1542.97 Z\" fill=\"#000000\" fill-rule=\"evenodd\" fill-opacity=\"1\" /><path clip-path=\"url(#clip900)\" d=\"M1404.69 1529.7 Q1401.54 1529.7 1399.69 1531.86 Q1397.86 1534.01 1397.86 1537.76 Q1397.86 1541.49 1399.69 1543.66 Q1401.54 1545.82 1404.69 1545.82 Q1407.84 1545.82 1409.67 1543.66 Q1411.52 1541.49 1411.52 1537.76 Q1411.52 1534.01 1409.67 1531.86 Q1407.84 1529.7 1404.69 1529.7 M1413.97 1515.05 L1413.97 1519.31 Q1412.21 1518.48 1410.41 1518.04 Q1408.63 1517.6 1406.87 1517.6 Q1402.24 1517.6 1399.78 1520.72 Q1397.35 1523.85 1397.01 1530.17 Q1398.37 1528.15 1400.43 1527.09 Q1402.49 1526 1404.97 1526 Q1410.18 1526 1413.19 1529.17 Q1416.22 1532.32 1416.22 1537.76 Q1416.22 1543.08 1413.07 1546.3 Q1409.92 1549.52 1404.69 1549.52 Q1398.7 1549.52 1395.52 1544.94 Q1392.35 1540.33 1392.35 1531.6 Q1392.35 1523.41 1396.24 1518.55 Q1400.13 1513.66 1406.68 1513.66 Q1408.44 1513.66 1410.22 1514.01 Q1412.03 1514.36 1413.97 1515.05 Z\" fill=\"#000000\" fill-rule=\"evenodd\" fill-opacity=\"1\" /><path clip-path=\"url(#clip900)\" d=\"M1825.14 1517.37 Q1821.53 1517.37 1819.7 1520.93 Q1817.89 1524.47 1817.89 1531.6 Q1817.89 1538.71 1819.7 1542.27 Q1821.53 1545.82 1825.14 1545.82 Q1828.77 1545.82 1830.58 1542.27 Q1832.41 1538.71 1832.41 1531.6 Q1832.41 1524.47 1830.58 1520.93 Q1828.77 1517.37 1825.14 1517.37 M1825.14 1513.66 Q1830.95 1513.66 1834 1518.27 Q1837.08 1522.85 1837.08 1531.6 Q1837.08 1540.33 1834 1544.94 Q1830.95 1549.52 1825.14 1549.52 Q1819.33 1549.52 1816.25 1544.94 Q1813.19 1540.33 1813.19 1531.6 Q1813.19 1522.85 1816.25 1518.27 Q1819.33 1513.66 1825.14 1513.66 Z\" fill=\"#000000\" fill-rule=\"evenodd\" fill-opacity=\"1\" /><path clip-path=\"url(#clip900)\" d=\"M1845.3 1542.97 L1850.18 1542.97 L1850.18 1548.85 L1845.3 1548.85 L1845.3 1542.97 Z\" fill=\"#000000\" fill-rule=\"evenodd\" fill-opacity=\"1\" /><path clip-path=\"url(#clip900)\" d=\"M1870.37 1532.44 Q1867.03 1532.44 1865.11 1534.22 Q1863.22 1536 1863.22 1539.13 Q1863.22 1542.25 1865.11 1544.03 Q1867.03 1545.82 1870.37 1545.82 Q1873.7 1545.82 1875.62 1544.03 Q1877.54 1542.23 1877.54 1539.13 Q1877.54 1536 1875.62 1534.22 Q1873.72 1532.44 1870.37 1532.44 M1865.69 1530.45 Q1862.68 1529.7 1860.99 1527.64 Q1859.33 1525.58 1859.33 1522.62 Q1859.33 1518.48 1862.27 1516.07 Q1865.23 1513.66 1870.37 1513.66 Q1875.53 1513.66 1878.47 1516.07 Q1881.41 1518.48 1881.41 1522.62 Q1881.41 1525.58 1879.72 1527.64 Q1878.05 1529.7 1875.07 1530.45 Q1878.45 1531.23 1880.32 1533.52 Q1882.22 1535.82 1882.22 1539.13 Q1882.22 1544.15 1879.14 1546.83 Q1876.09 1549.52 1870.37 1549.52 Q1864.65 1549.52 1861.57 1546.83 Q1858.52 1544.15 1858.52 1539.13 Q1858.52 1535.82 1860.41 1533.52 Q1862.31 1531.23 1865.69 1530.45 M1863.98 1523.06 Q1863.98 1525.75 1865.65 1527.25 Q1867.34 1528.76 1870.37 1528.76 Q1873.38 1528.76 1875.07 1527.25 Q1876.78 1525.75 1876.78 1523.06 Q1876.78 1520.38 1875.07 1518.87 Q1873.38 1517.37 1870.37 1517.37 Q1867.34 1517.37 1865.65 1518.87 Q1863.98 1520.38 1863.98 1523.06 Z\" fill=\"#000000\" fill-rule=\"evenodd\" fill-opacity=\"1\" /><path clip-path=\"url(#clip900)\" d=\"M2280.99 1544.91 L2288.63 1544.91 L2288.63 1518.55 L2280.32 1520.21 L2280.32 1515.95 L2288.58 1514.29 L2293.26 1514.29 L2293.26 1544.91 L2300.89 1544.91 L2300.89 1548.85 L2280.99 1548.85 L2280.99 1544.91 Z\" fill=\"#000000\" fill-rule=\"evenodd\" fill-opacity=\"1\" /><path clip-path=\"url(#clip900)\" d=\"M2310.34 1542.97 L2315.22 1542.97 L2315.22 1548.85 L2310.34 1548.85 L2310.34 1542.97 Z\" fill=\"#000000\" fill-rule=\"evenodd\" fill-opacity=\"1\" /><path clip-path=\"url(#clip900)\" d=\"M2335.41 1517.37 Q2331.8 1517.37 2329.97 1520.93 Q2328.16 1524.47 2328.16 1531.6 Q2328.16 1538.71 2329.97 1542.27 Q2331.8 1545.82 2335.41 1545.82 Q2339.04 1545.82 2340.85 1542.27 Q2342.68 1538.71 2342.68 1531.6 Q2342.68 1524.47 2340.85 1520.93 Q2339.04 1517.37 2335.41 1517.37 M2335.41 1513.66 Q2341.22 1513.66 2344.27 1518.27 Q2347.35 1522.85 2347.35 1531.6 Q2347.35 1540.33 2344.27 1544.94 Q2341.22 1549.52 2335.41 1549.52 Q2329.6 1549.52 2326.52 1544.94 Q2323.46 1540.33 2323.46 1531.6 Q2323.46 1522.85 2326.52 1518.27 Q2329.6 1513.66 2335.41 1513.66 Z\" fill=\"#000000\" fill-rule=\"evenodd\" fill-opacity=\"1\" /><polyline clip-path=\"url(#clip902)\" style=\"stroke:#000000; stroke-linecap:butt; stroke-linejoin:round; stroke-width:2; stroke-opacity:0.1; fill:none\" points=\"\n",
       "  154.029,1210.02 2352.76,1210.02 \n",
       "  \"/>\n",
       "<polyline clip-path=\"url(#clip902)\" style=\"stroke:#000000; stroke-linecap:butt; stroke-linejoin:round; stroke-width:2; stroke-opacity:0.1; fill:none\" points=\"\n",
       "  154.029,860.847 2352.76,860.847 \n",
       "  \"/>\n",
       "<polyline clip-path=\"url(#clip902)\" style=\"stroke:#000000; stroke-linecap:butt; stroke-linejoin:round; stroke-width:2; stroke-opacity:0.1; fill:none\" points=\"\n",
       "  154.029,511.672 2352.76,511.672 \n",
       "  \"/>\n",
       "<polyline clip-path=\"url(#clip902)\" style=\"stroke:#000000; stroke-linecap:butt; stroke-linejoin:round; stroke-width:2; stroke-opacity:0.1; fill:none\" points=\"\n",
       "  154.029,162.496 2352.76,162.496 \n",
       "  \"/>\n",
       "<polyline clip-path=\"url(#clip900)\" style=\"stroke:#000000; stroke-linecap:butt; stroke-linejoin:round; stroke-width:4; stroke-opacity:1; fill:none\" points=\"\n",
       "  154.029,1486.45 154.029,47.2441 \n",
       "  \"/>\n",
       "<polyline clip-path=\"url(#clip900)\" style=\"stroke:#000000; stroke-linecap:butt; stroke-linejoin:round; stroke-width:4; stroke-opacity:1; fill:none\" points=\"\n",
       "  154.029,1210.02 172.926,1210.02 \n",
       "  \"/>\n",
       "<polyline clip-path=\"url(#clip900)\" style=\"stroke:#000000; stroke-linecap:butt; stroke-linejoin:round; stroke-width:4; stroke-opacity:1; fill:none\" points=\"\n",
       "  154.029,860.847 172.926,860.847 \n",
       "  \"/>\n",
       "<polyline clip-path=\"url(#clip900)\" style=\"stroke:#000000; stroke-linecap:butt; stroke-linejoin:round; stroke-width:4; stroke-opacity:1; fill:none\" points=\"\n",
       "  154.029,511.672 172.926,511.672 \n",
       "  \"/>\n",
       "<polyline clip-path=\"url(#clip900)\" style=\"stroke:#000000; stroke-linecap:butt; stroke-linejoin:round; stroke-width:4; stroke-opacity:1; fill:none\" points=\"\n",
       "  154.029,162.496 172.926,162.496 \n",
       "  \"/>\n",
       "<path clip-path=\"url(#clip900)\" d=\"M51.6634 1223.37 L59.3023 1223.37 L59.3023 1197 L50.9921 1198.67 L50.9921 1194.41 L59.256 1192.74 L63.9319 1192.74 L63.9319 1223.37 L71.5707 1223.37 L71.5707 1227.3 L51.6634 1227.3 L51.6634 1223.37 Z\" fill=\"#000000\" fill-rule=\"evenodd\" fill-opacity=\"1\" /><path clip-path=\"url(#clip900)\" d=\"M81.0151 1221.42 L85.8993 1221.42 L85.8993 1227.3 L81.0151 1227.3 L81.0151 1221.42 Z\" fill=\"#000000\" fill-rule=\"evenodd\" fill-opacity=\"1\" /><path clip-path=\"url(#clip900)\" d=\"M106.084 1195.82 Q102.473 1195.82 100.645 1199.39 Q98.8391 1202.93 98.8391 1210.06 Q98.8391 1217.16 100.645 1220.73 Q102.473 1224.27 106.084 1224.27 Q109.719 1224.27 111.524 1220.73 Q113.353 1217.16 113.353 1210.06 Q113.353 1202.93 111.524 1199.39 Q109.719 1195.82 106.084 1195.82 M106.084 1192.12 Q111.895 1192.12 114.95 1196.72 Q118.029 1201.31 118.029 1210.06 Q118.029 1218.78 114.95 1223.39 Q111.895 1227.97 106.084 1227.97 Q100.274 1227.97 97.1956 1223.39 Q94.14 1218.78 94.14 1210.06 Q94.14 1201.31 97.1956 1196.72 Q100.274 1192.12 106.084 1192.12 Z\" fill=\"#000000\" fill-rule=\"evenodd\" fill-opacity=\"1\" /><path clip-path=\"url(#clip900)\" d=\"M52.8903 874.192 L60.5291 874.192 L60.5291 847.826 L52.219 849.493 L52.219 845.234 L60.4828 843.567 L65.1587 843.567 L65.1587 874.192 L72.7976 874.192 L72.7976 878.127 L52.8903 878.127 L52.8903 874.192 Z\" fill=\"#000000\" fill-rule=\"evenodd\" fill-opacity=\"1\" /><path clip-path=\"url(#clip900)\" d=\"M82.242 872.247 L87.1262 872.247 L87.1262 878.127 L82.242 878.127 L82.242 872.247 Z\" fill=\"#000000\" fill-rule=\"evenodd\" fill-opacity=\"1\" /><path clip-path=\"url(#clip900)\" d=\"M98.1215 874.192 L105.76 874.192 L105.76 847.826 L97.4502 849.493 L97.4502 845.234 L105.714 843.567 L110.39 843.567 L110.39 874.192 L118.029 874.192 L118.029 878.127 L98.1215 878.127 L98.1215 874.192 Z\" fill=\"#000000\" fill-rule=\"evenodd\" fill-opacity=\"1\" /><path clip-path=\"url(#clip900)\" d=\"M53.2606 525.016 L60.8995 525.016 L60.8995 498.651 L52.5893 500.317 L52.5893 496.058 L60.8532 494.392 L65.5291 494.392 L65.5291 525.016 L73.1679 525.016 L73.1679 528.952 L53.2606 528.952 L53.2606 525.016 Z\" fill=\"#000000\" fill-rule=\"evenodd\" fill-opacity=\"1\" /><path clip-path=\"url(#clip900)\" d=\"M82.6123 523.072 L87.4966 523.072 L87.4966 528.952 L82.6123 528.952 L82.6123 523.072 Z\" fill=\"#000000\" fill-rule=\"evenodd\" fill-opacity=\"1\" /><path clip-path=\"url(#clip900)\" d=\"M101.709 525.016 L118.029 525.016 L118.029 528.952 L96.0845 528.952 L96.0845 525.016 Q98.7465 522.262 103.33 517.632 Q107.936 512.979 109.117 511.637 Q111.362 509.114 112.242 507.378 Q113.145 505.618 113.145 503.929 Q113.145 501.174 111.2 499.438 Q109.279 497.702 106.177 497.702 Q103.978 497.702 101.524 498.466 Q99.0937 499.23 96.316 500.78 L96.316 496.058 Q99.14 494.924 101.594 494.345 Q104.047 493.767 106.084 493.767 Q111.455 493.767 114.649 496.452 Q117.844 499.137 117.844 503.628 Q117.844 505.757 117.033 507.679 Q116.246 509.577 114.14 512.169 Q113.561 512.841 110.459 516.058 Q107.358 519.253 101.709 525.016 Z\" fill=\"#000000\" fill-rule=\"evenodd\" fill-opacity=\"1\" /><path clip-path=\"url(#clip900)\" d=\"M52.3116 175.841 L59.9504 175.841 L59.9504 149.475 L51.6403 151.142 L51.6403 146.883 L59.9041 145.216 L64.58 145.216 L64.58 175.841 L72.2189 175.841 L72.2189 179.776 L52.3116 179.776 L52.3116 175.841 Z\" fill=\"#000000\" fill-rule=\"evenodd\" fill-opacity=\"1\" /><path clip-path=\"url(#clip900)\" d=\"M81.6633 173.897 L86.5475 173.897 L86.5475 179.776 L81.6633 179.776 L81.6633 173.897 Z\" fill=\"#000000\" fill-rule=\"evenodd\" fill-opacity=\"1\" /><path clip-path=\"url(#clip900)\" d=\"M110.899 161.142 Q114.256 161.86 116.131 164.128 Q118.029 166.397 118.029 169.73 Q118.029 174.846 114.51 177.647 Q110.992 180.448 104.51 180.448 Q102.334 180.448 100.02 180.008 Q97.728 179.591 95.2743 178.735 L95.2743 174.221 Q97.2187 175.355 99.5335 175.934 Q101.848 176.512 104.371 176.512 Q108.77 176.512 111.061 174.776 Q113.376 173.04 113.376 169.73 Q113.376 166.674 111.223 164.961 Q109.094 163.225 105.274 163.225 L101.246 163.225 L101.246 159.383 L105.459 159.383 Q108.908 159.383 110.737 158.017 Q112.566 156.628 112.566 154.036 Q112.566 151.374 110.668 149.962 Q108.793 148.526 105.274 148.526 Q103.353 148.526 101.154 148.943 Q98.9548 149.36 96.316 150.239 L96.316 146.073 Q98.978 145.332 101.293 144.962 Q103.631 144.591 105.691 144.591 Q111.015 144.591 114.117 147.022 Q117.219 149.429 117.219 153.55 Q117.219 156.42 115.575 158.411 Q113.932 160.378 110.899 161.142 Z\" fill=\"#000000\" fill-rule=\"evenodd\" fill-opacity=\"1\" /><polyline clip-path=\"url(#clip902)\" style=\"stroke:#009af9; stroke-linecap:butt; stroke-linejoin:round; stroke-width:4; stroke-opacity:1; fill:none\" points=\"\n",
       "  216.257,1445.72 226.385,1420.79 236.514,1396.1 330.166,1178.73 423.819,981.083 480.1,871.801 536.381,769.646 583.966,688.835 631.551,613.118 683.242,536.641 \n",
       "  734.932,466.176 782.587,406.539 830.241,352.012 881.331,299.228 932.422,252.316 991.615,205.308 1050.81,166.184 1103.41,138.03 1156.02,116.103 1202.14,101.997 \n",
       "  1248.27,92.6798 1298.57,87.9763 1348.86,88.9636 1399.45,95.6984 1450.04,108.192 1505.98,128.708 1561.91,156.264 1615.14,189.018 1668.36,228.145 1723.7,275.585 \n",
       "  1779.03,329.916 1825.62,380.992 1872.2,436.95 1929.07,511.887 1985.94,594.101 2039.4,678.021 2092.87,768.371 2178.52,926.522 2264.17,1101.18 2277.35,1129.52 \n",
       "  2290.53,1158.26 \n",
       "  \"/>\n",
       "<path clip-path=\"url(#clip900)\" d=\"\n",
       "M1982.73 198.898 L2279.47 198.898 L2279.47 95.2176 L1982.73 95.2176  Z\n",
       "  \" fill=\"#ffffff\" fill-rule=\"evenodd\" fill-opacity=\"1\"/>\n",
       "<polyline clip-path=\"url(#clip900)\" style=\"stroke:#000000; stroke-linecap:butt; stroke-linejoin:round; stroke-width:4; stroke-opacity:1; fill:none\" points=\"\n",
       "  1982.73,198.898 2279.47,198.898 2279.47,95.2176 1982.73,95.2176 1982.73,198.898 \n",
       "  \"/>\n",
       "<polyline clip-path=\"url(#clip900)\" style=\"stroke:#009af9; stroke-linecap:butt; stroke-linejoin:round; stroke-width:4; stroke-opacity:1; fill:none\" points=\"\n",
       "  2007.16,147.058 2153.74,147.058 \n",
       "  \"/>\n",
       "<path clip-path=\"url(#clip900)\" d=\"M2192.02 166.745 Q2190.21 171.375 2188.5 172.787 Q2186.79 174.199 2183.91 174.199 L2180.51 174.199 L2180.51 170.634 L2183.01 170.634 Q2184.77 170.634 2185.74 169.8 Q2186.72 168.967 2187.9 165.865 L2188.66 163.921 L2178.17 138.412 L2182.69 138.412 L2190.79 158.689 L2198.89 138.412 L2203.41 138.412 L2192.02 166.745 Z\" fill=\"#000000\" fill-rule=\"evenodd\" fill-opacity=\"1\" /><path clip-path=\"url(#clip900)\" d=\"M2210.7 160.402 L2218.34 160.402 L2218.34 134.037 L2210.03 135.703 L2210.03 131.444 L2218.29 129.778 L2222.97 129.778 L2222.97 160.402 L2230.6 160.402 L2230.6 164.338 L2210.7 164.338 L2210.7 160.402 Z\" fill=\"#000000\" fill-rule=\"evenodd\" fill-opacity=\"1\" /></svg>\n"
      ]
     },
     "execution_count": 17,
     "metadata": {},
     "output_type": "execute_result"
    }
   ],
   "source": [
    "using Plots\n",
    "plot(centralized(beta => 3/4),0.1,.99)"
   ]
  },
  {
   "cell_type": "code",
   "execution_count": 26,
   "id": "c4030dcf-ccae-4c97-9173-1f78f3d637bd",
   "metadata": {},
   "outputs": [
    {
     "data": {
      "text/latex": [
       "$\\begin{equation*}\\beta \\left(2 \\pi - 2\\right) - 2 \\pi \\left(\\beta + 1\\right) + 2 \\pi + \\left(1 - \\pi\\right) \\left(2 \\beta + 2\\right)\\end{equation*}$\n"
      ],
      "text/plain": [
       "β⋅(2⋅π - 2) - 2⋅π⋅(β + 1) + 2⋅π + (1 - π)⋅(2⋅β + 2)"
      ]
     },
     "execution_count": 26,
     "metadata": {},
     "output_type": "execute_result"
    }
   ],
   "source": [
    "dcentralized = diff(centralized,pi)"
   ]
  },
  {
   "cell_type": "code",
   "execution_count": 27,
   "id": "7aa2438d-cb42-4305-b1e2-85886cb87ea3",
   "metadata": {},
   "outputs": [
    {
     "data": {
      "text/latex": [
       "$\\begin{equation*}\\frac{1}{\\beta + 1}\\end{equation*}$\n"
      ],
      "text/plain": [
       "  1  \n",
       "─────\n",
       "β + 1"
      ]
     },
     "execution_count": 27,
     "metadata": {},
     "output_type": "execute_result"
    }
   ],
   "source": [
    "dictator = solve(dcentralized,pi)[1]"
   ]
  },
  {
   "cell_type": "code",
   "execution_count": 28,
   "id": "32b85a5d-e474-47b4-936c-904a0eddaec4",
   "metadata": {},
   "outputs": [
    {
     "data": {
      "text/latex": [
       "$\\begin{equation*}\\frac{2.0 - \\beta}{\\beta + 1.0}\\end{equation*}$\n"
      ],
      "text/plain": [
       "2.0 - β\n",
       "───────\n",
       "β + 1.0"
      ]
     },
     "execution_count": 28,
     "metadata": {},
     "output_type": "execute_result"
    }
   ],
   "source": [
    "sol()"
   ]
  },
  {
   "cell_type": "code",
   "execution_count": 23,
   "id": "c4d501ab-79d4-4076-9cbf-4bf735a934b0",
   "metadata": {},
   "outputs": [
    {
     "data": {
      "text/latex": [
       "$\\begin{equation*}\\beta \\left(2 \\pi - 2\\right) - 2 \\pi \\left(\\beta + 1\\right) + 2 \\pi + \\left(1 - \\pi\\right) \\left(2 \\beta + 2\\right)\\end{equation*}$\n"
      ],
      "text/plain": [
       "β⋅(2⋅π - 2) - 2⋅π⋅(β + 1) + 2⋅π + (1 - π)⋅(2⋅β + 2)"
      ]
     },
     "execution_count": 23,
     "metadata": {},
     "output_type": "execute_result"
    }
   ],
   "source": [
    "dict = diff(centralized,pi)"
   ]
  },
  {
   "cell_type": "code",
   "execution_count": 29,
   "id": "b0819dfc-93b2-463b-940a-21524d090bba",
   "metadata": {},
   "outputs": [
    {
     "data": {
      "image/svg+xml": [
       "<?xml version=\"1.0\" encoding=\"utf-8\"?>\n",
       "<svg xmlns=\"http://www.w3.org/2000/svg\" xmlns:xlink=\"http://www.w3.org/1999/xlink\" width=\"600\" height=\"400\" viewBox=\"0 0 2400 1600\">\n",
       "<defs>\n",
       "  <clipPath id=\"clip980\">\n",
       "    <rect x=\"0\" y=\"0\" width=\"2400\" height=\"1600\"/>\n",
       "  </clipPath>\n",
       "</defs>\n",
       "<path clip-path=\"url(#clip980)\" d=\"\n",
       "M0 1600 L2400 1600 L2400 0 L0 0  Z\n",
       "  \" fill=\"#ffffff\" fill-rule=\"evenodd\" fill-opacity=\"1\"/>\n",
       "<defs>\n",
       "  <clipPath id=\"clip981\">\n",
       "    <rect x=\"480\" y=\"0\" width=\"1681\" height=\"1600\"/>\n",
       "  </clipPath>\n",
       "</defs>\n",
       "<path clip-path=\"url(#clip980)\" d=\"\n",
       "M154.515 1486.45 L2352.76 1486.45 L2352.76 47.2441 L154.515 47.2441  Z\n",
       "  \" fill=\"#ffffff\" fill-rule=\"evenodd\" fill-opacity=\"1\"/>\n",
       "<defs>\n",
       "  <clipPath id=\"clip982\">\n",
       "    <rect x=\"154\" y=\"47\" width=\"2199\" height=\"1440\"/>\n",
       "  </clipPath>\n",
       "</defs>\n",
       "<polyline clip-path=\"url(#clip982)\" style=\"stroke:#000000; stroke-linecap:butt; stroke-linejoin:round; stroke-width:2; stroke-opacity:0.1; fill:none\" points=\"\n",
       "  216.729,1486.45 216.729,47.2441 \n",
       "  \"/>\n",
       "<polyline clip-path=\"url(#clip982)\" style=\"stroke:#000000; stroke-linecap:butt; stroke-linejoin:round; stroke-width:2; stroke-opacity:0.1; fill:none\" points=\"\n",
       "  639.956,1486.45 639.956,47.2441 \n",
       "  \"/>\n",
       "<polyline clip-path=\"url(#clip982)\" style=\"stroke:#000000; stroke-linecap:butt; stroke-linejoin:round; stroke-width:2; stroke-opacity:0.1; fill:none\" points=\"\n",
       "  1063.18,1486.45 1063.18,47.2441 \n",
       "  \"/>\n",
       "<polyline clip-path=\"url(#clip982)\" style=\"stroke:#000000; stroke-linecap:butt; stroke-linejoin:round; stroke-width:2; stroke-opacity:0.1; fill:none\" points=\"\n",
       "  1486.41,1486.45 1486.41,47.2441 \n",
       "  \"/>\n",
       "<polyline clip-path=\"url(#clip982)\" style=\"stroke:#000000; stroke-linecap:butt; stroke-linejoin:round; stroke-width:2; stroke-opacity:0.1; fill:none\" points=\"\n",
       "  1909.64,1486.45 1909.64,47.2441 \n",
       "  \"/>\n",
       "<polyline clip-path=\"url(#clip982)\" style=\"stroke:#000000; stroke-linecap:butt; stroke-linejoin:round; stroke-width:2; stroke-opacity:0.1; fill:none\" points=\"\n",
       "  2332.86,1486.45 2332.86,47.2441 \n",
       "  \"/>\n",
       "<polyline clip-path=\"url(#clip980)\" style=\"stroke:#000000; stroke-linecap:butt; stroke-linejoin:round; stroke-width:4; stroke-opacity:1; fill:none\" points=\"\n",
       "  154.515,1486.45 2352.76,1486.45 \n",
       "  \"/>\n",
       "<polyline clip-path=\"url(#clip980)\" style=\"stroke:#000000; stroke-linecap:butt; stroke-linejoin:round; stroke-width:4; stroke-opacity:1; fill:none\" points=\"\n",
       "  216.729,1486.45 216.729,1467.55 \n",
       "  \"/>\n",
       "<polyline clip-path=\"url(#clip980)\" style=\"stroke:#000000; stroke-linecap:butt; stroke-linejoin:round; stroke-width:4; stroke-opacity:1; fill:none\" points=\"\n",
       "  639.956,1486.45 639.956,1467.55 \n",
       "  \"/>\n",
       "<polyline clip-path=\"url(#clip980)\" style=\"stroke:#000000; stroke-linecap:butt; stroke-linejoin:round; stroke-width:4; stroke-opacity:1; fill:none\" points=\"\n",
       "  1063.18,1486.45 1063.18,1467.55 \n",
       "  \"/>\n",
       "<polyline clip-path=\"url(#clip980)\" style=\"stroke:#000000; stroke-linecap:butt; stroke-linejoin:round; stroke-width:4; stroke-opacity:1; fill:none\" points=\"\n",
       "  1486.41,1486.45 1486.41,1467.55 \n",
       "  \"/>\n",
       "<polyline clip-path=\"url(#clip980)\" style=\"stroke:#000000; stroke-linecap:butt; stroke-linejoin:round; stroke-width:4; stroke-opacity:1; fill:none\" points=\"\n",
       "  1909.64,1486.45 1909.64,1467.55 \n",
       "  \"/>\n",
       "<polyline clip-path=\"url(#clip980)\" style=\"stroke:#000000; stroke-linecap:butt; stroke-linejoin:round; stroke-width:4; stroke-opacity:1; fill:none\" points=\"\n",
       "  2332.86,1486.45 2332.86,1467.55 \n",
       "  \"/>\n",
       "<path clip-path=\"url(#clip980)\" d=\"M194.611 1517.37 Q191 1517.37 189.172 1520.93 Q187.366 1524.47 187.366 1531.6 Q187.366 1538.71 189.172 1542.27 Q191 1545.82 194.611 1545.82 Q198.246 1545.82 200.051 1542.27 Q201.88 1538.71 201.88 1531.6 Q201.88 1524.47 200.051 1520.93 Q198.246 1517.37 194.611 1517.37 M194.611 1513.66 Q200.421 1513.66 203.477 1518.27 Q206.556 1522.85 206.556 1531.6 Q206.556 1540.33 203.477 1544.94 Q200.421 1549.52 194.611 1549.52 Q188.801 1549.52 185.723 1544.94 Q182.667 1540.33 182.667 1531.6 Q182.667 1522.85 185.723 1518.27 Q188.801 1513.66 194.611 1513.66 Z\" fill=\"#000000\" fill-rule=\"evenodd\" fill-opacity=\"1\" /><path clip-path=\"url(#clip980)\" d=\"M214.773 1542.97 L219.658 1542.97 L219.658 1548.85 L214.773 1548.85 L214.773 1542.97 Z\" fill=\"#000000\" fill-rule=\"evenodd\" fill-opacity=\"1\" /><path clip-path=\"url(#clip980)\" d=\"M229.889 1514.29 L248.245 1514.29 L248.245 1518.22 L234.171 1518.22 L234.171 1526.7 Q235.19 1526.35 236.208 1526.19 Q237.227 1526 238.245 1526 Q244.032 1526 247.412 1529.17 Q250.792 1532.34 250.792 1537.76 Q250.792 1543.34 247.319 1546.44 Q243.847 1549.52 237.528 1549.52 Q235.352 1549.52 233.083 1549.15 Q230.838 1548.78 228.431 1548.04 L228.431 1543.34 Q230.514 1544.47 232.736 1545.03 Q234.958 1545.58 237.435 1545.58 Q241.44 1545.58 243.778 1543.48 Q246.116 1541.37 246.116 1537.76 Q246.116 1534.15 243.778 1532.04 Q241.44 1529.94 237.435 1529.94 Q235.56 1529.94 233.685 1530.35 Q231.833 1530.77 229.889 1531.65 L229.889 1514.29 Z\" fill=\"#000000\" fill-rule=\"evenodd\" fill-opacity=\"1\" /><path clip-path=\"url(#clip980)\" d=\"M617.26 1517.37 Q613.649 1517.37 611.82 1520.93 Q610.014 1524.47 610.014 1531.6 Q610.014 1538.71 611.82 1542.27 Q613.649 1545.82 617.26 1545.82 Q620.894 1545.82 622.699 1542.27 Q624.528 1538.71 624.528 1531.6 Q624.528 1524.47 622.699 1520.93 Q620.894 1517.37 617.26 1517.37 M617.26 1513.66 Q623.07 1513.66 626.125 1518.27 Q629.204 1522.85 629.204 1531.6 Q629.204 1540.33 626.125 1544.94 Q623.07 1549.52 617.26 1549.52 Q611.449 1549.52 608.371 1544.94 Q605.315 1540.33 605.315 1531.6 Q605.315 1522.85 608.371 1518.27 Q611.449 1513.66 617.26 1513.66 Z\" fill=\"#000000\" fill-rule=\"evenodd\" fill-opacity=\"1\" /><path clip-path=\"url(#clip980)\" d=\"M637.422 1542.97 L642.306 1542.97 L642.306 1548.85 L637.422 1548.85 L637.422 1542.97 Z\" fill=\"#000000\" fill-rule=\"evenodd\" fill-opacity=\"1\" /><path clip-path=\"url(#clip980)\" d=\"M663.07 1529.7 Q659.921 1529.7 658.07 1531.86 Q656.241 1534.01 656.241 1537.76 Q656.241 1541.49 658.07 1543.66 Q659.921 1545.82 663.07 1545.82 Q666.218 1545.82 668.046 1543.66 Q669.898 1541.49 669.898 1537.76 Q669.898 1534.01 668.046 1531.86 Q666.218 1529.7 663.07 1529.7 M672.352 1515.05 L672.352 1519.31 Q670.593 1518.48 668.787 1518.04 Q667.005 1517.6 665.245 1517.6 Q660.616 1517.6 658.162 1520.72 Q655.732 1523.85 655.384 1530.17 Q656.75 1528.15 658.81 1527.09 Q660.871 1526 663.347 1526 Q668.556 1526 671.565 1529.17 Q674.597 1532.32 674.597 1537.76 Q674.597 1543.08 671.449 1546.3 Q668.301 1549.52 663.07 1549.52 Q657.074 1549.52 653.903 1544.94 Q650.732 1540.33 650.732 1531.6 Q650.732 1523.41 654.621 1518.55 Q658.509 1513.66 665.06 1513.66 Q666.82 1513.66 668.602 1514.01 Q670.407 1514.36 672.352 1515.05 Z\" fill=\"#000000\" fill-rule=\"evenodd\" fill-opacity=\"1\" /><path clip-path=\"url(#clip980)\" d=\"M1041.02 1517.37 Q1037.41 1517.37 1035.58 1520.93 Q1033.77 1524.47 1033.77 1531.6 Q1033.77 1538.71 1035.58 1542.27 Q1037.41 1545.82 1041.02 1545.82 Q1044.65 1545.82 1046.46 1542.27 Q1048.29 1538.71 1048.29 1531.6 Q1048.29 1524.47 1046.46 1520.93 Q1044.65 1517.37 1041.02 1517.37 M1041.02 1513.66 Q1046.83 1513.66 1049.88 1518.27 Q1052.96 1522.85 1052.96 1531.6 Q1052.96 1540.33 1049.88 1544.94 Q1046.83 1549.52 1041.02 1549.52 Q1035.21 1549.52 1032.13 1544.94 Q1029.07 1540.33 1029.07 1531.6 Q1029.07 1522.85 1032.13 1518.27 Q1035.21 1513.66 1041.02 1513.66 Z\" fill=\"#000000\" fill-rule=\"evenodd\" fill-opacity=\"1\" /><path clip-path=\"url(#clip980)\" d=\"M1061.18 1542.97 L1066.07 1542.97 L1066.07 1548.85 L1061.18 1548.85 L1061.18 1542.97 Z\" fill=\"#000000\" fill-rule=\"evenodd\" fill-opacity=\"1\" /><path clip-path=\"url(#clip980)\" d=\"M1075.07 1514.29 L1097.29 1514.29 L1097.29 1516.28 L1084.75 1548.85 L1079.86 1548.85 L1091.67 1518.22 L1075.07 1518.22 L1075.07 1514.29 Z\" fill=\"#000000\" fill-rule=\"evenodd\" fill-opacity=\"1\" /><path clip-path=\"url(#clip980)\" d=\"M1463.84 1517.37 Q1460.23 1517.37 1458.4 1520.93 Q1456.6 1524.47 1456.6 1531.6 Q1456.6 1538.71 1458.4 1542.27 Q1460.23 1545.82 1463.84 1545.82 Q1467.48 1545.82 1469.28 1542.27 Q1471.11 1538.71 1471.11 1531.6 Q1471.11 1524.47 1469.28 1520.93 Q1467.48 1517.37 1463.84 1517.37 M1463.84 1513.66 Q1469.65 1513.66 1472.71 1518.27 Q1475.79 1522.85 1475.79 1531.6 Q1475.79 1540.33 1472.71 1544.94 Q1469.65 1549.52 1463.84 1549.52 Q1458.03 1549.52 1454.95 1544.94 Q1451.9 1540.33 1451.9 1531.6 Q1451.9 1522.85 1454.95 1518.27 Q1458.03 1513.66 1463.84 1513.66 Z\" fill=\"#000000\" fill-rule=\"evenodd\" fill-opacity=\"1\" /><path clip-path=\"url(#clip980)\" d=\"M1484 1542.97 L1488.89 1542.97 L1488.89 1548.85 L1484 1548.85 L1484 1542.97 Z\" fill=\"#000000\" fill-rule=\"evenodd\" fill-opacity=\"1\" /><path clip-path=\"url(#clip980)\" d=\"M1509.07 1532.44 Q1505.74 1532.44 1503.82 1534.22 Q1501.92 1536 1501.92 1539.13 Q1501.92 1542.25 1503.82 1544.03 Q1505.74 1545.82 1509.07 1545.82 Q1512.41 1545.82 1514.33 1544.03 Q1516.25 1542.23 1516.25 1539.13 Q1516.25 1536 1514.33 1534.22 Q1512.43 1532.44 1509.07 1532.44 M1504.4 1530.45 Q1501.39 1529.7 1499.7 1527.64 Q1498.03 1525.58 1498.03 1522.62 Q1498.03 1518.48 1500.97 1516.07 Q1503.93 1513.66 1509.07 1513.66 Q1514.23 1513.66 1517.17 1516.07 Q1520.11 1518.48 1520.11 1522.62 Q1520.11 1525.58 1518.42 1527.64 Q1516.76 1529.7 1513.77 1530.45 Q1517.15 1531.23 1519.03 1533.52 Q1520.92 1535.82 1520.92 1539.13 Q1520.92 1544.15 1517.85 1546.83 Q1514.79 1549.52 1509.07 1549.52 Q1503.35 1549.52 1500.28 1546.83 Q1497.22 1544.15 1497.22 1539.13 Q1497.22 1535.82 1499.12 1533.52 Q1501.02 1531.23 1504.4 1530.45 M1502.68 1523.06 Q1502.68 1525.75 1504.35 1527.25 Q1506.04 1528.76 1509.07 1528.76 Q1512.08 1528.76 1513.77 1527.25 Q1515.48 1525.75 1515.48 1523.06 Q1515.48 1520.38 1513.77 1518.87 Q1512.08 1517.37 1509.07 1517.37 Q1506.04 1517.37 1504.35 1518.87 Q1502.68 1520.38 1502.68 1523.06 Z\" fill=\"#000000\" fill-rule=\"evenodd\" fill-opacity=\"1\" /><path clip-path=\"url(#clip980)\" d=\"M1887.11 1517.37 Q1883.5 1517.37 1881.67 1520.93 Q1879.87 1524.47 1879.87 1531.6 Q1879.87 1538.71 1881.67 1542.27 Q1883.5 1545.82 1887.11 1545.82 Q1890.75 1545.82 1892.55 1542.27 Q1894.38 1538.71 1894.38 1531.6 Q1894.38 1524.47 1892.55 1520.93 Q1890.75 1517.37 1887.11 1517.37 M1887.11 1513.66 Q1892.92 1513.66 1895.98 1518.27 Q1899.06 1522.85 1899.06 1531.6 Q1899.06 1540.33 1895.98 1544.94 Q1892.92 1549.52 1887.11 1549.52 Q1881.3 1549.52 1878.23 1544.94 Q1875.17 1540.33 1875.17 1531.6 Q1875.17 1522.85 1878.23 1518.27 Q1881.3 1513.66 1887.11 1513.66 Z\" fill=\"#000000\" fill-rule=\"evenodd\" fill-opacity=\"1\" /><path clip-path=\"url(#clip980)\" d=\"M1907.28 1542.97 L1912.16 1542.97 L1912.16 1548.85 L1907.28 1548.85 L1907.28 1542.97 Z\" fill=\"#000000\" fill-rule=\"evenodd\" fill-opacity=\"1\" /><path clip-path=\"url(#clip980)\" d=\"M1922.48 1548.13 L1922.48 1543.87 Q1924.24 1544.7 1926.05 1545.14 Q1927.85 1545.58 1929.59 1545.58 Q1934.22 1545.58 1936.65 1542.48 Q1939.1 1539.36 1939.45 1533.01 Q1938.11 1535.01 1936.05 1536.07 Q1933.99 1537.13 1931.49 1537.13 Q1926.3 1537.13 1923.27 1534.01 Q1920.26 1530.86 1920.26 1525.42 Q1920.26 1520.1 1923.41 1516.88 Q1926.56 1513.66 1931.79 1513.66 Q1937.79 1513.66 1940.93 1518.27 Q1944.1 1522.85 1944.1 1531.6 Q1944.1 1539.77 1940.22 1544.66 Q1936.35 1549.52 1929.8 1549.52 Q1928.04 1549.52 1926.23 1549.17 Q1924.43 1548.82 1922.48 1548.13 M1931.79 1533.48 Q1934.94 1533.48 1936.77 1531.32 Q1938.62 1529.17 1938.62 1525.42 Q1938.62 1521.7 1936.77 1519.54 Q1934.94 1517.37 1931.79 1517.37 Q1928.64 1517.37 1926.79 1519.54 Q1924.96 1521.7 1924.96 1525.42 Q1924.96 1529.17 1926.79 1531.32 Q1928.64 1533.48 1931.79 1533.48 Z\" fill=\"#000000\" fill-rule=\"evenodd\" fill-opacity=\"1\" /><path clip-path=\"url(#clip980)\" d=\"M2300.02 1544.91 L2307.66 1544.91 L2307.66 1518.55 L2299.35 1520.21 L2299.35 1515.95 L2307.61 1514.29 L2312.29 1514.29 L2312.29 1544.91 L2319.92 1544.91 L2319.92 1548.85 L2300.02 1548.85 L2300.02 1544.91 Z\" fill=\"#000000\" fill-rule=\"evenodd\" fill-opacity=\"1\" /><path clip-path=\"url(#clip980)\" d=\"M2329.37 1542.97 L2334.25 1542.97 L2334.25 1548.85 L2329.37 1548.85 L2329.37 1542.97 Z\" fill=\"#000000\" fill-rule=\"evenodd\" fill-opacity=\"1\" /><path clip-path=\"url(#clip980)\" d=\"M2354.44 1517.37 Q2350.83 1517.37 2349 1520.93 Q2347.19 1524.47 2347.19 1531.6 Q2347.19 1538.71 2349 1542.27 Q2350.83 1545.82 2354.44 1545.82 Q2358.07 1545.82 2359.88 1542.27 Q2361.71 1538.71 2361.71 1531.6 Q2361.71 1524.47 2359.88 1520.93 Q2358.07 1517.37 2354.44 1517.37 M2354.44 1513.66 Q2360.25 1513.66 2363.3 1518.27 Q2366.38 1522.85 2366.38 1531.6 Q2366.38 1540.33 2363.3 1544.94 Q2360.25 1549.52 2354.44 1549.52 Q2348.63 1549.52 2345.55 1544.94 Q2342.49 1540.33 2342.49 1531.6 Q2342.49 1522.85 2345.55 1518.27 Q2348.63 1513.66 2354.44 1513.66 Z\" fill=\"#000000\" fill-rule=\"evenodd\" fill-opacity=\"1\" /><polyline clip-path=\"url(#clip982)\" style=\"stroke:#000000; stroke-linecap:butt; stroke-linejoin:round; stroke-width:2; stroke-opacity:0.1; fill:none\" points=\"\n",
       "  154.515,1306.82 2352.76,1306.82 \n",
       "  \"/>\n",
       "<polyline clip-path=\"url(#clip982)\" style=\"stroke:#000000; stroke-linecap:butt; stroke-linejoin:round; stroke-width:2; stroke-opacity:0.1; fill:none\" points=\"\n",
       "  154.515,890.14 2352.76,890.14 \n",
       "  \"/>\n",
       "<polyline clip-path=\"url(#clip982)\" style=\"stroke:#000000; stroke-linecap:butt; stroke-linejoin:round; stroke-width:2; stroke-opacity:0.1; fill:none\" points=\"\n",
       "  154.515,473.459 2352.76,473.459 \n",
       "  \"/>\n",
       "<polyline clip-path=\"url(#clip982)\" style=\"stroke:#000000; stroke-linecap:butt; stroke-linejoin:round; stroke-width:2; stroke-opacity:0.1; fill:none\" points=\"\n",
       "  154.515,56.7775 2352.76,56.7775 \n",
       "  \"/>\n",
       "<polyline clip-path=\"url(#clip980)\" style=\"stroke:#000000; stroke-linecap:butt; stroke-linejoin:round; stroke-width:4; stroke-opacity:1; fill:none\" points=\"\n",
       "  154.515,1486.45 154.515,47.2441 \n",
       "  \"/>\n",
       "<polyline clip-path=\"url(#clip980)\" style=\"stroke:#000000; stroke-linecap:butt; stroke-linejoin:round; stroke-width:4; stroke-opacity:1; fill:none\" points=\"\n",
       "  154.515,1306.82 173.413,1306.82 \n",
       "  \"/>\n",
       "<polyline clip-path=\"url(#clip980)\" style=\"stroke:#000000; stroke-linecap:butt; stroke-linejoin:round; stroke-width:4; stroke-opacity:1; fill:none\" points=\"\n",
       "  154.515,890.14 173.413,890.14 \n",
       "  \"/>\n",
       "<polyline clip-path=\"url(#clip980)\" style=\"stroke:#000000; stroke-linecap:butt; stroke-linejoin:round; stroke-width:4; stroke-opacity:1; fill:none\" points=\"\n",
       "  154.515,473.459 173.413,473.459 \n",
       "  \"/>\n",
       "<polyline clip-path=\"url(#clip980)\" style=\"stroke:#000000; stroke-linecap:butt; stroke-linejoin:round; stroke-width:4; stroke-opacity:1; fill:none\" points=\"\n",
       "  154.515,56.7775 173.413,56.7775 \n",
       "  \"/>\n",
       "<path clip-path=\"url(#clip980)\" d=\"M53.7467 1320.17 L61.3856 1320.17 L61.3856 1293.8 L53.0754 1295.47 L53.0754 1291.21 L61.3393 1289.54 L66.0152 1289.54 L66.0152 1320.17 L73.654 1320.17 L73.654 1324.1 L53.7467 1324.1 L53.7467 1320.17 Z\" fill=\"#000000\" fill-rule=\"evenodd\" fill-opacity=\"1\" /><path clip-path=\"url(#clip980)\" d=\"M83.0984 1318.22 L87.9827 1318.22 L87.9827 1324.1 L83.0984 1324.1 L83.0984 1318.22 Z\" fill=\"#000000\" fill-rule=\"evenodd\" fill-opacity=\"1\" /><path clip-path=\"url(#clip980)\" d=\"M102.196 1320.17 L118.515 1320.17 L118.515 1324.1 L96.5706 1324.1 L96.5706 1320.17 Q99.2326 1317.41 103.816 1312.78 Q108.422 1308.13 109.603 1306.79 Q111.848 1304.26 112.728 1302.53 Q113.631 1300.77 113.631 1299.08 Q113.631 1296.32 111.686 1294.59 Q109.765 1292.85 106.663 1292.85 Q104.464 1292.85 102.01 1293.62 Q99.5798 1294.38 96.8021 1295.93 L96.8021 1291.21 Q99.6261 1290.07 102.08 1289.5 Q104.534 1288.92 106.571 1288.92 Q111.941 1288.92 115.135 1291.6 Q118.33 1294.29 118.33 1298.78 Q118.33 1300.91 117.52 1302.83 Q116.733 1304.73 114.626 1307.32 Q114.047 1307.99 110.946 1311.21 Q107.844 1314.4 102.196 1320.17 Z\" fill=\"#000000\" fill-rule=\"evenodd\" fill-opacity=\"1\" /><path clip-path=\"url(#clip980)\" d=\"M52.7977 903.485 L60.4365 903.485 L60.4365 877.12 L52.1264 878.786 L52.1264 874.527 L60.3902 872.86 L65.0661 872.86 L65.0661 903.485 L72.705 903.485 L72.705 907.42 L52.7977 907.42 L52.7977 903.485 Z\" fill=\"#000000\" fill-rule=\"evenodd\" fill-opacity=\"1\" /><path clip-path=\"url(#clip980)\" d=\"M82.1494 901.541 L87.0336 901.541 L87.0336 907.42 L82.1494 907.42 L82.1494 901.541 Z\" fill=\"#000000\" fill-rule=\"evenodd\" fill-opacity=\"1\" /><path clip-path=\"url(#clip980)\" d=\"M111.385 888.786 Q114.742 889.504 116.617 891.772 Q118.515 894.041 118.515 897.374 Q118.515 902.49 114.996 905.291 Q111.478 908.092 104.996 908.092 Q102.821 908.092 100.506 907.652 Q98.2141 907.235 95.7604 906.379 L95.7604 901.865 Q97.7048 902.999 100.02 903.578 Q102.334 904.157 104.858 904.157 Q109.256 904.157 111.547 902.42 Q113.862 900.684 113.862 897.374 Q113.862 894.319 111.709 892.606 Q109.58 890.87 105.76 890.87 L101.733 890.87 L101.733 887.027 L105.946 887.027 Q109.395 887.027 111.223 885.661 Q113.052 884.272 113.052 881.68 Q113.052 879.018 111.154 877.606 Q109.279 876.171 105.76 876.171 Q103.839 876.171 101.64 876.587 Q99.4409 877.004 96.8021 877.884 L96.8021 873.717 Q99.4641 872.976 101.779 872.606 Q104.117 872.235 106.177 872.235 Q111.501 872.235 114.603 874.666 Q117.705 877.073 117.705 881.194 Q117.705 884.064 116.061 886.055 Q114.418 888.022 111.385 888.786 Z\" fill=\"#000000\" fill-rule=\"evenodd\" fill-opacity=\"1\" /><path clip-path=\"url(#clip980)\" d=\"M51.6634 486.804 L59.3023 486.804 L59.3023 460.438 L50.9921 462.105 L50.9921 457.846 L59.256 456.179 L63.9319 456.179 L63.9319 486.804 L71.5707 486.804 L71.5707 490.739 L51.6634 490.739 L51.6634 486.804 Z\" fill=\"#000000\" fill-rule=\"evenodd\" fill-opacity=\"1\" /><path clip-path=\"url(#clip980)\" d=\"M81.0151 484.859 L85.8993 484.859 L85.8993 490.739 L81.0151 490.739 L81.0151 484.859 Z\" fill=\"#000000\" fill-rule=\"evenodd\" fill-opacity=\"1\" /><path clip-path=\"url(#clip980)\" d=\"M108.932 460.253 L97.1261 478.702 L108.932 478.702 L108.932 460.253 M107.705 456.179 L113.584 456.179 L113.584 478.702 L118.515 478.702 L118.515 482.591 L113.584 482.591 L113.584 490.739 L108.932 490.739 L108.932 482.591 L93.3299 482.591 L93.3299 478.077 L107.705 456.179 Z\" fill=\"#000000\" fill-rule=\"evenodd\" fill-opacity=\"1\" /><path clip-path=\"url(#clip980)\" d=\"M53.1449 70.1224 L60.7837 70.1224 L60.7837 43.7568 L52.4736 45.4234 L52.4736 41.1642 L60.7374 39.4975 L65.4133 39.4975 L65.4133 70.1224 L73.0522 70.1224 L73.0522 74.0575 L53.1449 74.0575 L53.1449 70.1224 Z\" fill=\"#000000\" fill-rule=\"evenodd\" fill-opacity=\"1\" /><path clip-path=\"url(#clip980)\" d=\"M82.4966 68.1779 L87.3808 68.1779 L87.3808 74.0575 L82.4966 74.0575 L82.4966 68.1779 Z\" fill=\"#000000\" fill-rule=\"evenodd\" fill-opacity=\"1\" /><path clip-path=\"url(#clip980)\" d=\"M97.6122 39.4975 L115.969 39.4975 L115.969 43.4327 L101.895 43.4327 L101.895 51.9049 Q102.913 51.5576 103.932 51.3956 Q104.95 51.2104 105.969 51.2104 Q111.756 51.2104 115.135 54.3817 Q118.515 57.553 118.515 62.9696 Q118.515 68.5483 115.043 71.6501 Q111.571 74.7288 105.251 74.7288 Q103.075 74.7288 100.807 74.3584 Q98.5613 73.9881 96.1539 73.2473 L96.1539 68.5483 Q98.2372 69.6825 100.459 70.2381 Q102.682 70.7936 105.159 70.7936 Q109.163 70.7936 111.501 68.6872 Q113.839 66.5807 113.839 62.9696 Q113.839 59.3585 111.501 57.252 Q109.163 55.1456 105.159 55.1456 Q103.284 55.1456 101.409 55.5622 Q99.5567 55.9789 97.6122 56.8585 L97.6122 39.4975 Z\" fill=\"#000000\" fill-rule=\"evenodd\" fill-opacity=\"1\" /><polyline clip-path=\"url(#clip982)\" style=\"stroke:#009af9; stroke-linecap:butt; stroke-linejoin:round; stroke-width:4; stroke-opacity:1; fill:none\" points=\"\n",
       "  216.729,1445.72 236.982,1434.61 424.245,1329.34 536.783,1263.94 631.932,1207.46 735.29,1144.95 830.578,1086.28 932.736,1022.33 1051.1,946.937 1156.28,878.815 \n",
       "  1248.52,818.246 1349.08,751.36 1450.24,683.216 1562.09,606.912 1668.51,533.411 1779.16,456.094 1872.3,390.332 1986.02,309.237 2092.92,232.227 2264.19,107.352 \n",
       "  2290.54,87.9763 \n",
       "  \"/>\n",
       "<path clip-path=\"url(#clip980)\" d=\"\n",
       "M1982.8 198.898 L2279.48 198.898 L2279.48 95.2176 L1982.8 95.2176  Z\n",
       "  \" fill=\"#ffffff\" fill-rule=\"evenodd\" fill-opacity=\"1\"/>\n",
       "<polyline clip-path=\"url(#clip980)\" style=\"stroke:#000000; stroke-linecap:butt; stroke-linejoin:round; stroke-width:4; stroke-opacity:1; fill:none\" points=\"\n",
       "  1982.8,198.898 2279.48,198.898 2279.48,95.2176 1982.8,95.2176 1982.8,198.898 \n",
       "  \"/>\n",
       "<polyline clip-path=\"url(#clip980)\" style=\"stroke:#009af9; stroke-linecap:butt; stroke-linejoin:round; stroke-width:4; stroke-opacity:1; fill:none\" points=\"\n",
       "  2007.23,147.058 2153.78,147.058 \n",
       "  \"/>\n",
       "<path clip-path=\"url(#clip980)\" d=\"M2192.04 166.745 Q2190.24 171.375 2188.53 172.787 Q2186.81 174.199 2183.94 174.199 L2180.54 174.199 L2180.54 170.634 L2183.04 170.634 Q2184.8 170.634 2185.77 169.8 Q2186.74 168.967 2187.92 165.865 L2188.69 163.921 L2178.2 138.412 L2182.71 138.412 L2190.82 158.689 L2198.92 138.412 L2203.43 138.412 L2192.04 166.745 Z\" fill=\"#000000\" fill-rule=\"evenodd\" fill-opacity=\"1\" /><path clip-path=\"url(#clip980)\" d=\"M2210.72 160.402 L2218.36 160.402 L2218.36 134.037 L2210.05 135.703 L2210.05 131.444 L2218.32 129.778 L2222.99 129.778 L2222.99 160.402 L2230.63 160.402 L2230.63 164.338 L2210.72 164.338 L2210.72 160.402 Z\" fill=\"#000000\" fill-rule=\"evenodd\" fill-opacity=\"1\" /></svg>\n"
      ]
     },
     "execution_count": 29,
     "metadata": {},
     "output_type": "execute_result"
    }
   ],
   "source": [
    "plot(centralized(pi => dictator),.5,.99)"
   ]
  },
  {
   "cell_type": "code",
   "execution_count": 30,
   "id": "924eb1be-cd93-4965-846a-40b4529b30a0",
   "metadata": {},
   "outputs": [
    {
     "data": {
      "image/svg+xml": [
       "<?xml version=\"1.0\" encoding=\"utf-8\"?>\n",
       "<svg xmlns=\"http://www.w3.org/2000/svg\" xmlns:xlink=\"http://www.w3.org/1999/xlink\" width=\"600\" height=\"400\" viewBox=\"0 0 2400 1600\">\n",
       "<defs>\n",
       "  <clipPath id=\"clip020\">\n",
       "    <rect x=\"0\" y=\"0\" width=\"2400\" height=\"1600\"/>\n",
       "  </clipPath>\n",
       "</defs>\n",
       "<path clip-path=\"url(#clip020)\" d=\"\n",
       "M0 1600 L2400 1600 L2400 0 L0 0  Z\n",
       "  \" fill=\"#ffffff\" fill-rule=\"evenodd\" fill-opacity=\"1\"/>\n",
       "<defs>\n",
       "  <clipPath id=\"clip021\">\n",
       "    <rect x=\"480\" y=\"0\" width=\"1681\" height=\"1600\"/>\n",
       "  </clipPath>\n",
       "</defs>\n",
       "<path clip-path=\"url(#clip020)\" d=\"\n",
       "M154.515 1486.45 L2352.76 1486.45 L2352.76 47.2441 L154.515 47.2441  Z\n",
       "  \" fill=\"#ffffff\" fill-rule=\"evenodd\" fill-opacity=\"1\"/>\n",
       "<defs>\n",
       "  <clipPath id=\"clip022\">\n",
       "    <rect x=\"154\" y=\"47\" width=\"2199\" height=\"1440\"/>\n",
       "  </clipPath>\n",
       "</defs>\n",
       "<polyline clip-path=\"url(#clip022)\" style=\"stroke:#000000; stroke-linecap:butt; stroke-linejoin:round; stroke-width:2; stroke-opacity:0.1; fill:none\" points=\"\n",
       "  216.729,1486.45 216.729,47.2441 \n",
       "  \"/>\n",
       "<polyline clip-path=\"url(#clip022)\" style=\"stroke:#000000; stroke-linecap:butt; stroke-linejoin:round; stroke-width:2; stroke-opacity:0.1; fill:none\" points=\"\n",
       "  639.956,1486.45 639.956,47.2441 \n",
       "  \"/>\n",
       "<polyline clip-path=\"url(#clip022)\" style=\"stroke:#000000; stroke-linecap:butt; stroke-linejoin:round; stroke-width:2; stroke-opacity:0.1; fill:none\" points=\"\n",
       "  1063.18,1486.45 1063.18,47.2441 \n",
       "  \"/>\n",
       "<polyline clip-path=\"url(#clip022)\" style=\"stroke:#000000; stroke-linecap:butt; stroke-linejoin:round; stroke-width:2; stroke-opacity:0.1; fill:none\" points=\"\n",
       "  1486.41,1486.45 1486.41,47.2441 \n",
       "  \"/>\n",
       "<polyline clip-path=\"url(#clip022)\" style=\"stroke:#000000; stroke-linecap:butt; stroke-linejoin:round; stroke-width:2; stroke-opacity:0.1; fill:none\" points=\"\n",
       "  1909.64,1486.45 1909.64,47.2441 \n",
       "  \"/>\n",
       "<polyline clip-path=\"url(#clip022)\" style=\"stroke:#000000; stroke-linecap:butt; stroke-linejoin:round; stroke-width:2; stroke-opacity:0.1; fill:none\" points=\"\n",
       "  2332.86,1486.45 2332.86,47.2441 \n",
       "  \"/>\n",
       "<polyline clip-path=\"url(#clip020)\" style=\"stroke:#000000; stroke-linecap:butt; stroke-linejoin:round; stroke-width:4; stroke-opacity:1; fill:none\" points=\"\n",
       "  154.515,1486.45 2352.76,1486.45 \n",
       "  \"/>\n",
       "<polyline clip-path=\"url(#clip020)\" style=\"stroke:#000000; stroke-linecap:butt; stroke-linejoin:round; stroke-width:4; stroke-opacity:1; fill:none\" points=\"\n",
       "  216.729,1486.45 216.729,1467.55 \n",
       "  \"/>\n",
       "<polyline clip-path=\"url(#clip020)\" style=\"stroke:#000000; stroke-linecap:butt; stroke-linejoin:round; stroke-width:4; stroke-opacity:1; fill:none\" points=\"\n",
       "  639.956,1486.45 639.956,1467.55 \n",
       "  \"/>\n",
       "<polyline clip-path=\"url(#clip020)\" style=\"stroke:#000000; stroke-linecap:butt; stroke-linejoin:round; stroke-width:4; stroke-opacity:1; fill:none\" points=\"\n",
       "  1063.18,1486.45 1063.18,1467.55 \n",
       "  \"/>\n",
       "<polyline clip-path=\"url(#clip020)\" style=\"stroke:#000000; stroke-linecap:butt; stroke-linejoin:round; stroke-width:4; stroke-opacity:1; fill:none\" points=\"\n",
       "  1486.41,1486.45 1486.41,1467.55 \n",
       "  \"/>\n",
       "<polyline clip-path=\"url(#clip020)\" style=\"stroke:#000000; stroke-linecap:butt; stroke-linejoin:round; stroke-width:4; stroke-opacity:1; fill:none\" points=\"\n",
       "  1909.64,1486.45 1909.64,1467.55 \n",
       "  \"/>\n",
       "<polyline clip-path=\"url(#clip020)\" style=\"stroke:#000000; stroke-linecap:butt; stroke-linejoin:round; stroke-width:4; stroke-opacity:1; fill:none\" points=\"\n",
       "  2332.86,1486.45 2332.86,1467.55 \n",
       "  \"/>\n",
       "<path clip-path=\"url(#clip020)\" d=\"M194.611 1517.37 Q191 1517.37 189.172 1520.93 Q187.366 1524.47 187.366 1531.6 Q187.366 1538.71 189.172 1542.27 Q191 1545.82 194.611 1545.82 Q198.246 1545.82 200.051 1542.27 Q201.88 1538.71 201.88 1531.6 Q201.88 1524.47 200.051 1520.93 Q198.246 1517.37 194.611 1517.37 M194.611 1513.66 Q200.421 1513.66 203.477 1518.27 Q206.556 1522.85 206.556 1531.6 Q206.556 1540.33 203.477 1544.94 Q200.421 1549.52 194.611 1549.52 Q188.801 1549.52 185.723 1544.94 Q182.667 1540.33 182.667 1531.6 Q182.667 1522.85 185.723 1518.27 Q188.801 1513.66 194.611 1513.66 Z\" fill=\"#000000\" fill-rule=\"evenodd\" fill-opacity=\"1\" /><path clip-path=\"url(#clip020)\" d=\"M214.773 1542.97 L219.658 1542.97 L219.658 1548.85 L214.773 1548.85 L214.773 1542.97 Z\" fill=\"#000000\" fill-rule=\"evenodd\" fill-opacity=\"1\" /><path clip-path=\"url(#clip020)\" d=\"M229.889 1514.29 L248.245 1514.29 L248.245 1518.22 L234.171 1518.22 L234.171 1526.7 Q235.19 1526.35 236.208 1526.19 Q237.227 1526 238.245 1526 Q244.032 1526 247.412 1529.17 Q250.792 1532.34 250.792 1537.76 Q250.792 1543.34 247.319 1546.44 Q243.847 1549.52 237.528 1549.52 Q235.352 1549.52 233.083 1549.15 Q230.838 1548.78 228.431 1548.04 L228.431 1543.34 Q230.514 1544.47 232.736 1545.03 Q234.958 1545.58 237.435 1545.58 Q241.44 1545.58 243.778 1543.48 Q246.116 1541.37 246.116 1537.76 Q246.116 1534.15 243.778 1532.04 Q241.44 1529.94 237.435 1529.94 Q235.56 1529.94 233.685 1530.35 Q231.833 1530.77 229.889 1531.65 L229.889 1514.29 Z\" fill=\"#000000\" fill-rule=\"evenodd\" fill-opacity=\"1\" /><path clip-path=\"url(#clip020)\" d=\"M617.26 1517.37 Q613.649 1517.37 611.82 1520.93 Q610.014 1524.47 610.014 1531.6 Q610.014 1538.71 611.82 1542.27 Q613.649 1545.82 617.26 1545.82 Q620.894 1545.82 622.699 1542.27 Q624.528 1538.71 624.528 1531.6 Q624.528 1524.47 622.699 1520.93 Q620.894 1517.37 617.26 1517.37 M617.26 1513.66 Q623.07 1513.66 626.125 1518.27 Q629.204 1522.85 629.204 1531.6 Q629.204 1540.33 626.125 1544.94 Q623.07 1549.52 617.26 1549.52 Q611.449 1549.52 608.371 1544.94 Q605.315 1540.33 605.315 1531.6 Q605.315 1522.85 608.371 1518.27 Q611.449 1513.66 617.26 1513.66 Z\" fill=\"#000000\" fill-rule=\"evenodd\" fill-opacity=\"1\" /><path clip-path=\"url(#clip020)\" d=\"M637.422 1542.97 L642.306 1542.97 L642.306 1548.85 L637.422 1548.85 L637.422 1542.97 Z\" fill=\"#000000\" fill-rule=\"evenodd\" fill-opacity=\"1\" /><path clip-path=\"url(#clip020)\" d=\"M663.07 1529.7 Q659.921 1529.7 658.07 1531.86 Q656.241 1534.01 656.241 1537.76 Q656.241 1541.49 658.07 1543.66 Q659.921 1545.82 663.07 1545.82 Q666.218 1545.82 668.046 1543.66 Q669.898 1541.49 669.898 1537.76 Q669.898 1534.01 668.046 1531.86 Q666.218 1529.7 663.07 1529.7 M672.352 1515.05 L672.352 1519.31 Q670.593 1518.48 668.787 1518.04 Q667.005 1517.6 665.245 1517.6 Q660.616 1517.6 658.162 1520.72 Q655.732 1523.85 655.384 1530.17 Q656.75 1528.15 658.81 1527.09 Q660.871 1526 663.347 1526 Q668.556 1526 671.565 1529.17 Q674.597 1532.32 674.597 1537.76 Q674.597 1543.08 671.449 1546.3 Q668.301 1549.52 663.07 1549.52 Q657.074 1549.52 653.903 1544.94 Q650.732 1540.33 650.732 1531.6 Q650.732 1523.41 654.621 1518.55 Q658.509 1513.66 665.06 1513.66 Q666.82 1513.66 668.602 1514.01 Q670.407 1514.36 672.352 1515.05 Z\" fill=\"#000000\" fill-rule=\"evenodd\" fill-opacity=\"1\" /><path clip-path=\"url(#clip020)\" d=\"M1041.02 1517.37 Q1037.41 1517.37 1035.58 1520.93 Q1033.77 1524.47 1033.77 1531.6 Q1033.77 1538.71 1035.58 1542.27 Q1037.41 1545.82 1041.02 1545.82 Q1044.65 1545.82 1046.46 1542.27 Q1048.29 1538.71 1048.29 1531.6 Q1048.29 1524.47 1046.46 1520.93 Q1044.65 1517.37 1041.02 1517.37 M1041.02 1513.66 Q1046.83 1513.66 1049.88 1518.27 Q1052.96 1522.85 1052.96 1531.6 Q1052.96 1540.33 1049.88 1544.94 Q1046.83 1549.52 1041.02 1549.52 Q1035.21 1549.52 1032.13 1544.94 Q1029.07 1540.33 1029.07 1531.6 Q1029.07 1522.85 1032.13 1518.27 Q1035.21 1513.66 1041.02 1513.66 Z\" fill=\"#000000\" fill-rule=\"evenodd\" fill-opacity=\"1\" /><path clip-path=\"url(#clip020)\" d=\"M1061.18 1542.97 L1066.07 1542.97 L1066.07 1548.85 L1061.18 1548.85 L1061.18 1542.97 Z\" fill=\"#000000\" fill-rule=\"evenodd\" fill-opacity=\"1\" /><path clip-path=\"url(#clip020)\" d=\"M1075.07 1514.29 L1097.29 1514.29 L1097.29 1516.28 L1084.75 1548.85 L1079.86 1548.85 L1091.67 1518.22 L1075.07 1518.22 L1075.07 1514.29 Z\" fill=\"#000000\" fill-rule=\"evenodd\" fill-opacity=\"1\" /><path clip-path=\"url(#clip020)\" d=\"M1463.84 1517.37 Q1460.23 1517.37 1458.4 1520.93 Q1456.6 1524.47 1456.6 1531.6 Q1456.6 1538.71 1458.4 1542.27 Q1460.23 1545.82 1463.84 1545.82 Q1467.48 1545.82 1469.28 1542.27 Q1471.11 1538.71 1471.11 1531.6 Q1471.11 1524.47 1469.28 1520.93 Q1467.48 1517.37 1463.84 1517.37 M1463.84 1513.66 Q1469.65 1513.66 1472.71 1518.27 Q1475.79 1522.85 1475.79 1531.6 Q1475.79 1540.33 1472.71 1544.94 Q1469.65 1549.52 1463.84 1549.52 Q1458.03 1549.52 1454.95 1544.94 Q1451.9 1540.33 1451.9 1531.6 Q1451.9 1522.85 1454.95 1518.27 Q1458.03 1513.66 1463.84 1513.66 Z\" fill=\"#000000\" fill-rule=\"evenodd\" fill-opacity=\"1\" /><path clip-path=\"url(#clip020)\" d=\"M1484 1542.97 L1488.89 1542.97 L1488.89 1548.85 L1484 1548.85 L1484 1542.97 Z\" fill=\"#000000\" fill-rule=\"evenodd\" fill-opacity=\"1\" /><path clip-path=\"url(#clip020)\" d=\"M1509.07 1532.44 Q1505.74 1532.44 1503.82 1534.22 Q1501.92 1536 1501.92 1539.13 Q1501.92 1542.25 1503.82 1544.03 Q1505.74 1545.82 1509.07 1545.82 Q1512.41 1545.82 1514.33 1544.03 Q1516.25 1542.23 1516.25 1539.13 Q1516.25 1536 1514.33 1534.22 Q1512.43 1532.44 1509.07 1532.44 M1504.4 1530.45 Q1501.39 1529.7 1499.7 1527.64 Q1498.03 1525.58 1498.03 1522.62 Q1498.03 1518.48 1500.97 1516.07 Q1503.93 1513.66 1509.07 1513.66 Q1514.23 1513.66 1517.17 1516.07 Q1520.11 1518.48 1520.11 1522.62 Q1520.11 1525.58 1518.42 1527.64 Q1516.76 1529.7 1513.77 1530.45 Q1517.15 1531.23 1519.03 1533.52 Q1520.92 1535.82 1520.92 1539.13 Q1520.92 1544.15 1517.85 1546.83 Q1514.79 1549.52 1509.07 1549.52 Q1503.35 1549.52 1500.28 1546.83 Q1497.22 1544.15 1497.22 1539.13 Q1497.22 1535.82 1499.12 1533.52 Q1501.02 1531.23 1504.4 1530.45 M1502.68 1523.06 Q1502.68 1525.75 1504.35 1527.25 Q1506.04 1528.76 1509.07 1528.76 Q1512.08 1528.76 1513.77 1527.25 Q1515.48 1525.75 1515.48 1523.06 Q1515.48 1520.38 1513.77 1518.87 Q1512.08 1517.37 1509.07 1517.37 Q1506.04 1517.37 1504.35 1518.87 Q1502.68 1520.38 1502.68 1523.06 Z\" fill=\"#000000\" fill-rule=\"evenodd\" fill-opacity=\"1\" /><path clip-path=\"url(#clip020)\" d=\"M1887.11 1517.37 Q1883.5 1517.37 1881.67 1520.93 Q1879.87 1524.47 1879.87 1531.6 Q1879.87 1538.71 1881.67 1542.27 Q1883.5 1545.82 1887.11 1545.82 Q1890.75 1545.82 1892.55 1542.27 Q1894.38 1538.71 1894.38 1531.6 Q1894.38 1524.47 1892.55 1520.93 Q1890.75 1517.37 1887.11 1517.37 M1887.11 1513.66 Q1892.92 1513.66 1895.98 1518.27 Q1899.06 1522.85 1899.06 1531.6 Q1899.06 1540.33 1895.98 1544.94 Q1892.92 1549.52 1887.11 1549.52 Q1881.3 1549.52 1878.23 1544.94 Q1875.17 1540.33 1875.17 1531.6 Q1875.17 1522.85 1878.23 1518.27 Q1881.3 1513.66 1887.11 1513.66 Z\" fill=\"#000000\" fill-rule=\"evenodd\" fill-opacity=\"1\" /><path clip-path=\"url(#clip020)\" d=\"M1907.28 1542.97 L1912.16 1542.97 L1912.16 1548.85 L1907.28 1548.85 L1907.28 1542.97 Z\" fill=\"#000000\" fill-rule=\"evenodd\" fill-opacity=\"1\" /><path clip-path=\"url(#clip020)\" d=\"M1922.48 1548.13 L1922.48 1543.87 Q1924.24 1544.7 1926.05 1545.14 Q1927.85 1545.58 1929.59 1545.58 Q1934.22 1545.58 1936.65 1542.48 Q1939.1 1539.36 1939.45 1533.01 Q1938.11 1535.01 1936.05 1536.07 Q1933.99 1537.13 1931.49 1537.13 Q1926.3 1537.13 1923.27 1534.01 Q1920.26 1530.86 1920.26 1525.42 Q1920.26 1520.1 1923.41 1516.88 Q1926.56 1513.66 1931.79 1513.66 Q1937.79 1513.66 1940.93 1518.27 Q1944.1 1522.85 1944.1 1531.6 Q1944.1 1539.77 1940.22 1544.66 Q1936.35 1549.52 1929.8 1549.52 Q1928.04 1549.52 1926.23 1549.17 Q1924.43 1548.82 1922.48 1548.13 M1931.79 1533.48 Q1934.94 1533.48 1936.77 1531.32 Q1938.62 1529.17 1938.62 1525.42 Q1938.62 1521.7 1936.77 1519.54 Q1934.94 1517.37 1931.79 1517.37 Q1928.64 1517.37 1926.79 1519.54 Q1924.96 1521.7 1924.96 1525.42 Q1924.96 1529.17 1926.79 1531.32 Q1928.64 1533.48 1931.79 1533.48 Z\" fill=\"#000000\" fill-rule=\"evenodd\" fill-opacity=\"1\" /><path clip-path=\"url(#clip020)\" d=\"M2300.02 1544.91 L2307.66 1544.91 L2307.66 1518.55 L2299.35 1520.21 L2299.35 1515.95 L2307.61 1514.29 L2312.29 1514.29 L2312.29 1544.91 L2319.92 1544.91 L2319.92 1548.85 L2300.02 1548.85 L2300.02 1544.91 Z\" fill=\"#000000\" fill-rule=\"evenodd\" fill-opacity=\"1\" /><path clip-path=\"url(#clip020)\" d=\"M2329.37 1542.97 L2334.25 1542.97 L2334.25 1548.85 L2329.37 1548.85 L2329.37 1542.97 Z\" fill=\"#000000\" fill-rule=\"evenodd\" fill-opacity=\"1\" /><path clip-path=\"url(#clip020)\" d=\"M2354.44 1517.37 Q2350.83 1517.37 2349 1520.93 Q2347.19 1524.47 2347.19 1531.6 Q2347.19 1538.71 2349 1542.27 Q2350.83 1545.82 2354.44 1545.82 Q2358.07 1545.82 2359.88 1542.27 Q2361.71 1538.71 2361.71 1531.6 Q2361.71 1524.47 2359.88 1520.93 Q2358.07 1517.37 2354.44 1517.37 M2354.44 1513.66 Q2360.25 1513.66 2363.3 1518.27 Q2366.38 1522.85 2366.38 1531.6 Q2366.38 1540.33 2363.3 1544.94 Q2360.25 1549.52 2354.44 1549.52 Q2348.63 1549.52 2345.55 1544.94 Q2342.49 1540.33 2342.49 1531.6 Q2342.49 1522.85 2345.55 1518.27 Q2348.63 1513.66 2354.44 1513.66 Z\" fill=\"#000000\" fill-rule=\"evenodd\" fill-opacity=\"1\" /><polyline clip-path=\"url(#clip022)\" style=\"stroke:#000000; stroke-linecap:butt; stroke-linejoin:round; stroke-width:2; stroke-opacity:0.1; fill:none\" points=\"\n",
       "  154.515,1445.72 2352.76,1445.72 \n",
       "  \"/>\n",
       "<polyline clip-path=\"url(#clip022)\" style=\"stroke:#000000; stroke-linecap:butt; stroke-linejoin:round; stroke-width:2; stroke-opacity:0.1; fill:none\" points=\"\n",
       "  154.515,1170.04 2352.76,1170.04 \n",
       "  \"/>\n",
       "<polyline clip-path=\"url(#clip022)\" style=\"stroke:#000000; stroke-linecap:butt; stroke-linejoin:round; stroke-width:2; stroke-opacity:0.1; fill:none\" points=\"\n",
       "  154.515,894.363 2352.76,894.363 \n",
       "  \"/>\n",
       "<polyline clip-path=\"url(#clip022)\" style=\"stroke:#000000; stroke-linecap:butt; stroke-linejoin:round; stroke-width:2; stroke-opacity:0.1; fill:none\" points=\"\n",
       "  154.515,618.687 2352.76,618.687 \n",
       "  \"/>\n",
       "<polyline clip-path=\"url(#clip022)\" style=\"stroke:#000000; stroke-linecap:butt; stroke-linejoin:round; stroke-width:2; stroke-opacity:0.1; fill:none\" points=\"\n",
       "  154.515,343.011 2352.76,343.011 \n",
       "  \"/>\n",
       "<polyline clip-path=\"url(#clip022)\" style=\"stroke:#000000; stroke-linecap:butt; stroke-linejoin:round; stroke-width:2; stroke-opacity:0.1; fill:none\" points=\"\n",
       "  154.515,67.3352 2352.76,67.3352 \n",
       "  \"/>\n",
       "<polyline clip-path=\"url(#clip020)\" style=\"stroke:#000000; stroke-linecap:butt; stroke-linejoin:round; stroke-width:4; stroke-opacity:1; fill:none\" points=\"\n",
       "  154.515,1486.45 154.515,47.2441 \n",
       "  \"/>\n",
       "<polyline clip-path=\"url(#clip020)\" style=\"stroke:#000000; stroke-linecap:butt; stroke-linejoin:round; stroke-width:4; stroke-opacity:1; fill:none\" points=\"\n",
       "  154.515,1445.72 173.413,1445.72 \n",
       "  \"/>\n",
       "<polyline clip-path=\"url(#clip020)\" style=\"stroke:#000000; stroke-linecap:butt; stroke-linejoin:round; stroke-width:4; stroke-opacity:1; fill:none\" points=\"\n",
       "  154.515,1170.04 173.413,1170.04 \n",
       "  \"/>\n",
       "<polyline clip-path=\"url(#clip020)\" style=\"stroke:#000000; stroke-linecap:butt; stroke-linejoin:round; stroke-width:4; stroke-opacity:1; fill:none\" points=\"\n",
       "  154.515,894.363 173.413,894.363 \n",
       "  \"/>\n",
       "<polyline clip-path=\"url(#clip020)\" style=\"stroke:#000000; stroke-linecap:butt; stroke-linejoin:round; stroke-width:4; stroke-opacity:1; fill:none\" points=\"\n",
       "  154.515,618.687 173.413,618.687 \n",
       "  \"/>\n",
       "<polyline clip-path=\"url(#clip020)\" style=\"stroke:#000000; stroke-linecap:butt; stroke-linejoin:round; stroke-width:4; stroke-opacity:1; fill:none\" points=\"\n",
       "  154.515,343.011 173.413,343.011 \n",
       "  \"/>\n",
       "<polyline clip-path=\"url(#clip020)\" style=\"stroke:#000000; stroke-linecap:butt; stroke-linejoin:round; stroke-width:4; stroke-opacity:1; fill:none\" points=\"\n",
       "  154.515,67.3352 173.413,67.3352 \n",
       "  \"/>\n",
       "<path clip-path=\"url(#clip020)\" d=\"M52.1495 1459.06 L59.7884 1459.06 L59.7884 1432.69 L51.4782 1434.36 L51.4782 1430.1 L59.7421 1428.44 L64.418 1428.44 L64.418 1459.06 L72.0568 1459.06 L72.0568 1463 L52.1495 1463 L52.1495 1459.06 Z\" fill=\"#000000\" fill-rule=\"evenodd\" fill-opacity=\"1\" /><path clip-path=\"url(#clip020)\" d=\"M81.5012 1457.12 L86.3855 1457.12 L86.3855 1463 L81.5012 1463 L81.5012 1457.12 Z\" fill=\"#000000\" fill-rule=\"evenodd\" fill-opacity=\"1\" /><path clip-path=\"url(#clip020)\" d=\"M106.571 1431.51 Q102.959 1431.51 101.131 1435.08 Q99.3252 1438.62 99.3252 1445.75 Q99.3252 1452.86 101.131 1456.42 Q102.959 1459.96 106.571 1459.96 Q110.205 1459.96 112.01 1456.42 Q113.839 1452.86 113.839 1445.75 Q113.839 1438.62 112.01 1435.08 Q110.205 1431.51 106.571 1431.51 M106.571 1427.81 Q112.381 1427.81 115.436 1432.42 Q118.515 1437 118.515 1445.75 Q118.515 1454.48 115.436 1459.08 Q112.381 1463.67 106.571 1463.67 Q100.76 1463.67 97.6817 1459.08 Q94.6262 1454.48 94.6262 1445.75 Q94.6262 1437 97.6817 1432.42 Q100.76 1427.81 106.571 1427.81 Z\" fill=\"#000000\" fill-rule=\"evenodd\" fill-opacity=\"1\" /><path clip-path=\"url(#clip020)\" d=\"M53.3764 1183.38 L61.0152 1183.38 L61.0152 1157.02 L52.7051 1158.69 L52.7051 1154.43 L60.9689 1152.76 L65.6448 1152.76 L65.6448 1183.38 L73.2837 1183.38 L73.2837 1187.32 L53.3764 1187.32 L53.3764 1183.38 Z\" fill=\"#000000\" fill-rule=\"evenodd\" fill-opacity=\"1\" /><path clip-path=\"url(#clip020)\" d=\"M82.7281 1181.44 L87.6123 1181.44 L87.6123 1187.32 L82.7281 1187.32 L82.7281 1181.44 Z\" fill=\"#000000\" fill-rule=\"evenodd\" fill-opacity=\"1\" /><path clip-path=\"url(#clip020)\" d=\"M98.6076 1183.38 L106.246 1183.38 L106.246 1157.02 L97.9363 1158.69 L97.9363 1154.43 L106.2 1152.76 L110.876 1152.76 L110.876 1183.38 L118.515 1183.38 L118.515 1187.32 L98.6076 1187.32 L98.6076 1183.38 Z\" fill=\"#000000\" fill-rule=\"evenodd\" fill-opacity=\"1\" /><path clip-path=\"url(#clip020)\" d=\"M53.7467 907.708 L61.3856 907.708 L61.3856 881.343 L53.0754 883.009 L53.0754 878.75 L61.3393 877.083 L66.0152 877.083 L66.0152 907.708 L73.654 907.708 L73.654 911.643 L53.7467 911.643 L53.7467 907.708 Z\" fill=\"#000000\" fill-rule=\"evenodd\" fill-opacity=\"1\" /><path clip-path=\"url(#clip020)\" d=\"M83.0984 905.764 L87.9827 905.764 L87.9827 911.643 L83.0984 911.643 L83.0984 905.764 Z\" fill=\"#000000\" fill-rule=\"evenodd\" fill-opacity=\"1\" /><path clip-path=\"url(#clip020)\" d=\"M102.196 907.708 L118.515 907.708 L118.515 911.643 L96.5706 911.643 L96.5706 907.708 Q99.2326 904.954 103.816 900.324 Q108.422 895.671 109.603 894.329 Q111.848 891.806 112.728 890.07 Q113.631 888.31 113.631 886.62 Q113.631 883.866 111.686 882.13 Q109.765 880.394 106.663 880.394 Q104.464 880.394 102.01 881.158 Q99.5798 881.921 96.8021 883.472 L96.8021 878.75 Q99.6261 877.616 102.08 877.037 Q104.534 876.458 106.571 876.458 Q111.941 876.458 115.135 879.144 Q118.33 881.829 118.33 886.32 Q118.33 888.449 117.52 890.37 Q116.733 892.269 114.626 894.861 Q114.047 895.532 110.946 898.75 Q107.844 901.944 102.196 907.708 Z\" fill=\"#000000\" fill-rule=\"evenodd\" fill-opacity=\"1\" /><path clip-path=\"url(#clip020)\" d=\"M52.7977 632.032 L60.4365 632.032 L60.4365 605.667 L52.1264 607.333 L52.1264 603.074 L60.3902 601.407 L65.0661 601.407 L65.0661 632.032 L72.705 632.032 L72.705 635.967 L52.7977 635.967 L52.7977 632.032 Z\" fill=\"#000000\" fill-rule=\"evenodd\" fill-opacity=\"1\" /><path clip-path=\"url(#clip020)\" d=\"M82.1494 630.088 L87.0336 630.088 L87.0336 635.967 L82.1494 635.967 L82.1494 630.088 Z\" fill=\"#000000\" fill-rule=\"evenodd\" fill-opacity=\"1\" /><path clip-path=\"url(#clip020)\" d=\"M111.385 617.333 Q114.742 618.051 116.617 620.319 Q118.515 622.588 118.515 625.921 Q118.515 631.037 114.996 633.838 Q111.478 636.639 104.996 636.639 Q102.821 636.639 100.506 636.199 Q98.2141 635.782 95.7604 634.926 L95.7604 630.412 Q97.7048 631.546 100.02 632.125 Q102.334 632.704 104.858 632.704 Q109.256 632.704 111.547 630.967 Q113.862 629.231 113.862 625.921 Q113.862 622.866 111.709 621.153 Q109.58 619.417 105.76 619.417 L101.733 619.417 L101.733 615.574 L105.946 615.574 Q109.395 615.574 111.223 614.208 Q113.052 612.819 113.052 610.227 Q113.052 607.565 111.154 606.153 Q109.279 604.718 105.76 604.718 Q103.839 604.718 101.64 605.134 Q99.4409 605.551 96.8021 606.431 L96.8021 602.264 Q99.4641 601.523 101.779 601.153 Q104.117 600.782 106.177 600.782 Q111.501 600.782 114.603 603.213 Q117.705 605.62 117.705 609.741 Q117.705 612.611 116.061 614.602 Q114.418 616.569 111.385 617.333 Z\" fill=\"#000000\" fill-rule=\"evenodd\" fill-opacity=\"1\" /><path clip-path=\"url(#clip020)\" d=\"M51.6634 356.356 L59.3023 356.356 L59.3023 329.991 L50.9921 331.657 L50.9921 327.398 L59.256 325.731 L63.9319 325.731 L63.9319 356.356 L71.5707 356.356 L71.5707 360.291 L51.6634 360.291 L51.6634 356.356 Z\" fill=\"#000000\" fill-rule=\"evenodd\" fill-opacity=\"1\" /><path clip-path=\"url(#clip020)\" d=\"M81.0151 354.412 L85.8993 354.412 L85.8993 360.291 L81.0151 360.291 L81.0151 354.412 Z\" fill=\"#000000\" fill-rule=\"evenodd\" fill-opacity=\"1\" /><path clip-path=\"url(#clip020)\" d=\"M108.932 329.805 L97.1261 348.254 L108.932 348.254 L108.932 329.805 M107.705 325.731 L113.584 325.731 L113.584 348.254 L118.515 348.254 L118.515 352.143 L113.584 352.143 L113.584 360.291 L108.932 360.291 L108.932 352.143 L93.3299 352.143 L93.3299 347.629 L107.705 325.731 Z\" fill=\"#000000\" fill-rule=\"evenodd\" fill-opacity=\"1\" /><path clip-path=\"url(#clip020)\" d=\"M53.1449 80.68 L60.7837 80.68 L60.7837 54.3144 L52.4736 55.9811 L52.4736 51.7219 L60.7374 50.0552 L65.4133 50.0552 L65.4133 80.68 L73.0522 80.68 L73.0522 84.6152 L53.1449 84.6152 L53.1449 80.68 Z\" fill=\"#000000\" fill-rule=\"evenodd\" fill-opacity=\"1\" /><path clip-path=\"url(#clip020)\" d=\"M82.4966 78.7356 L87.3808 78.7356 L87.3808 84.6152 L82.4966 84.6152 L82.4966 78.7356 Z\" fill=\"#000000\" fill-rule=\"evenodd\" fill-opacity=\"1\" /><path clip-path=\"url(#clip020)\" d=\"M97.6122 50.0552 L115.969 50.0552 L115.969 53.9904 L101.895 53.9904 L101.895 62.4625 Q102.913 62.1153 103.932 61.9533 Q104.95 61.7681 105.969 61.7681 Q111.756 61.7681 115.135 64.9394 Q118.515 68.1107 118.515 73.5273 Q118.515 79.106 115.043 82.2078 Q111.571 85.2865 105.251 85.2865 Q103.075 85.2865 100.807 84.9161 Q98.5613 84.5458 96.1539 83.805 L96.1539 79.106 Q98.2372 80.2402 100.459 80.7958 Q102.682 81.3513 105.159 81.3513 Q109.163 81.3513 111.501 79.2449 Q113.839 77.1384 113.839 73.5273 Q113.839 69.9162 111.501 67.8097 Q109.163 65.7033 105.159 65.7033 Q103.284 65.7033 101.409 66.1199 Q99.5567 66.5366 97.6122 67.4162 L97.6122 50.0552 Z\" fill=\"#000000\" fill-rule=\"evenodd\" fill-opacity=\"1\" /><polyline clip-path=\"url(#clip022)\" style=\"stroke:#009af9; stroke-linecap:butt; stroke-linejoin:round; stroke-width:4; stroke-opacity:1; fill:none\" points=\"\n",
       "  216.729,986.256 236.982,978.908 424.245,909.26 536.783,865.991 631.932,828.627 735.29,787.267 830.578,748.454 932.736,706.145 1051.1,656.264 1156.28,611.194 \n",
       "  1248.52,571.122 1349.08,526.87 1450.24,481.787 1562.09,431.304 1668.51,382.675 1779.16,331.523 1872.3,288.015 1986.02,234.362 2092.92,183.412 2264.19,100.795 \n",
       "  2290.54,87.9763 \n",
       "  \"/>\n",
       "<polyline clip-path=\"url(#clip022)\" style=\"stroke:#e26f46; stroke-linecap:butt; stroke-linejoin:round; stroke-width:4; stroke-opacity:1; fill:none\" points=\"\n",
       "  216.729,1445.72 236.982,1428.18 424.245,1271.2 536.783,1181.09 631.932,1107.25 735.29,1029.36 830.578,959.599 932.736,886.898 1051.1,805.253 1156.28,734.922 \n",
       "  1248.52,674.897 1349.08,611.141 1450.24,548.713 1562.09,481.601 1668.51,419.533 1779.16,356.767 1872.3,305.277 1986.02,244.015 2092.92,187.972 2264.19,101.161 \n",
       "  2290.54,88.1148 \n",
       "  \"/>\n",
       "<path clip-path=\"url(#clip020)\" d=\"\n",
       "M1982.8 250.738 L2279.48 250.738 L2279.48 95.2176 L1982.8 95.2176  Z\n",
       "  \" fill=\"#ffffff\" fill-rule=\"evenodd\" fill-opacity=\"1\"/>\n",
       "<polyline clip-path=\"url(#clip020)\" style=\"stroke:#000000; stroke-linecap:butt; stroke-linejoin:round; stroke-width:4; stroke-opacity:1; fill:none\" points=\"\n",
       "  1982.8,250.738 2279.48,250.738 2279.48,95.2176 1982.8,95.2176 1982.8,250.738 \n",
       "  \"/>\n",
       "<polyline clip-path=\"url(#clip020)\" style=\"stroke:#009af9; stroke-linecap:butt; stroke-linejoin:round; stroke-width:4; stroke-opacity:1; fill:none\" points=\"\n",
       "  2007.23,147.058 2153.78,147.058 \n",
       "  \"/>\n",
       "<path clip-path=\"url(#clip020)\" d=\"M2192.04 166.745 Q2190.24 171.375 2188.53 172.787 Q2186.81 174.199 2183.94 174.199 L2180.54 174.199 L2180.54 170.634 L2183.04 170.634 Q2184.8 170.634 2185.77 169.8 Q2186.74 168.967 2187.92 165.865 L2188.69 163.921 L2178.2 138.412 L2182.71 138.412 L2190.82 158.689 L2198.92 138.412 L2203.43 138.412 L2192.04 166.745 Z\" fill=\"#000000\" fill-rule=\"evenodd\" fill-opacity=\"1\" /><path clip-path=\"url(#clip020)\" d=\"M2210.72 160.402 L2218.36 160.402 L2218.36 134.037 L2210.05 135.703 L2210.05 131.444 L2218.32 129.778 L2222.99 129.778 L2222.99 160.402 L2230.63 160.402 L2230.63 164.338 L2210.72 164.338 L2210.72 160.402 Z\" fill=\"#000000\" fill-rule=\"evenodd\" fill-opacity=\"1\" /><polyline clip-path=\"url(#clip020)\" style=\"stroke:#e26f46; stroke-linecap:butt; stroke-linejoin:round; stroke-width:4; stroke-opacity:1; fill:none\" points=\"\n",
       "  2007.23,198.898 2153.78,198.898 \n",
       "  \"/>\n",
       "<path clip-path=\"url(#clip020)\" d=\"M2192.04 218.585 Q2190.24 223.215 2188.53 224.627 Q2186.81 226.039 2183.94 226.039 L2180.54 226.039 L2180.54 222.474 L2183.04 222.474 Q2184.8 222.474 2185.77 221.64 Q2186.74 220.807 2187.92 217.705 L2188.69 215.761 L2178.2 190.252 L2182.71 190.252 L2190.82 210.529 L2198.92 190.252 L2203.43 190.252 L2192.04 218.585 Z\" fill=\"#000000\" fill-rule=\"evenodd\" fill-opacity=\"1\" /><path clip-path=\"url(#clip020)\" d=\"M2213.94 212.242 L2230.26 212.242 L2230.26 216.178 L2208.32 216.178 L2208.32 212.242 Q2210.98 209.488 2215.56 204.858 Q2220.17 200.205 2221.35 198.863 Q2223.59 196.34 2224.47 194.604 Q2225.38 192.844 2225.38 191.155 Q2225.38 188.4 2223.43 186.664 Q2221.51 184.928 2218.41 184.928 Q2216.21 184.928 2213.76 185.692 Q2211.33 186.455 2208.55 188.006 L2208.55 183.284 Q2211.37 182.15 2213.83 181.571 Q2216.28 180.993 2218.32 180.993 Q2223.69 180.993 2226.88 183.678 Q2230.08 186.363 2230.08 190.854 Q2230.08 192.983 2229.27 194.905 Q2228.48 196.803 2226.37 199.395 Q2225.79 200.067 2222.69 203.284 Q2219.59 206.479 2213.94 212.242 Z\" fill=\"#000000\" fill-rule=\"evenodd\" fill-opacity=\"1\" /></svg>\n"
      ]
     },
     "execution_count": 30,
     "metadata": {},
     "output_type": "execute_result"
    }
   ],
   "source": [
    "plot!(centralized(pi => sol),.5,.99)"
   ]
  }
 ],
 "metadata": {
  "kernelspec": {
   "display_name": "Julia 1.6.0",
   "language": "julia",
   "name": "julia-1.6"
  },
  "language_info": {
   "file_extension": ".jl",
   "mimetype": "application/julia",
   "name": "julia",
   "version": "1.6.0"
  }
 },
 "nbformat": 4,
 "nbformat_minor": 5
}
